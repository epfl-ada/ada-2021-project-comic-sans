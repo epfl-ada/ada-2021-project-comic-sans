{
 "cells": [
  {
   "cell_type": "markdown",
   "metadata": {},
   "source": [
    "# Setup"
   ]
  },
  {
   "cell_type": "code",
   "execution_count": 3,
   "metadata": {
    "id": "2ciQy6i9jOp-"
   },
   "outputs": [],
   "source": [
    "import pandas as pd\n",
    "import numpy as np\n",
    "import os"
   ]
  },
  {
   "cell_type": "markdown",
   "metadata": {},
   "source": [
    "# 1. Loading Data"
   ]
  },
  {
   "cell_type": "code",
   "execution_count": 4,
   "metadata": {},
   "outputs": [],
   "source": [
    "quotes = pd.read_json(path_or_buf=PATH_TO_QUOTES.format(year=2020), compression='bz2', lines=True)\n",
    "\n",
    "sample = quotes.head(100000).copy()"
   ]
  },
  {
   "cell_type": "markdown",
   "metadata": {},
   "source": [
    "# 2. Topic Labeling"
   ]
  },
  {
   "cell_type": "code",
   "execution_count": 82,
   "metadata": {},
   "outputs": [],
   "source": [
    "def topic_filtering(df, topic_name, word_list):\n",
    "    \"\"\"\n",
    "    Recieves a pandas.Dataframe df to which it adds a column with the topic's name \n",
    "    indicating if the quote has a keyword that is included in the word_list (1) or not (0).\n",
    "    \n",
    "    inputs\n",
    "        df : :Quotebank dataframe\n",
    "        topic_name : Name of the topic that we investigate\n",
    "        word_list : List of words associated with the topic\n",
    "    \"\"\"\n",
    "    column_name = topic_name + \"_related\"\n",
    "    df[column_name] = 0\n",
    "    df.loc[df[\"quotation\"].str.contains('|'.join(word_list),case = False),column_name]=1"
   ]
  },
  {
   "cell_type": "code",
   "execution_count": 186,
   "metadata": {},
   "outputs": [],
   "source": [
    "# Reading txt file with topic related words -> 1 word/string per line\n",
    "with open(\"data/words.txt\") as file:\n",
    "    lines = file.readlines()\n",
    "    lines = [line.rstrip() for line in lines]\n",
    "\n",
    "# Adding the labeling column\n",
    "topic_filtering(sample, \"Enviroment\", lines)\n",
    "topic_filtering(quotes, \"Enviroment\", lines)\n",
    "\n",
    "# Creating the json file\n",
    "sample.to_json(path_or_buf=\"results/quotes-2020-sample-labeled.json\")\n",
    "quotes.to_json(path_or_buf=\"results/quotes-2020-labeled.json\")\n",
    "\n",
    "sample_filtered = sample[sample[\"Enviroment_related\"]==1][[\"quotation\"]]\n",
    "quotes_filtered = quotes[quotes[\"Enviroment_related\"]==1][[\"quotation\"]]\n",
    "\n",
    "sample_filtered.to_json(path_or_buf=\"results/quotes-2020-sample-filtered.json\")\n",
    "quotes_filtered.to_json(path_or_buf=\"results/quotes-2020-filtered.json\")"
   ]
  }
 ],
 "metadata": {
  "colab": {
   "collapsed_sections": [],
   "name": "milestone_2_example.ipynb",
   "provenance": []
  },
  "kernelspec": {
   "display_name": "Python 3",
   "language": "python",
   "name": "python3"
  },
  "language_info": {
   "codemirror_mode": {
    "name": "ipython",
    "version": 3
   },
   "file_extension": ".py",
   "mimetype": "text/x-python",
   "name": "python",
   "nbconvert_exporter": "python",
   "pygments_lexer": "ipython3",
   "version": "3.8.8"
  }
 },
 "nbformat": 4,
 "nbformat_minor": 4
}
