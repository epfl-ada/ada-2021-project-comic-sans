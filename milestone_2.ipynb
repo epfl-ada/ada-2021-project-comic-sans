{
 "cells": [
  {
   "cell_type": "markdown",
   "metadata": {},
   "source": [
    "# Setup"
   ]
  },
  {
   "cell_type": "code",
   "execution_count": 1,
   "metadata": {
    "tags": []
   },
   "outputs": [],
   "source": [
    "PATH_ROOT = 'data'\n",
    "PATH_PARQUET = PATH_ROOT + '/project_datasets'\n",
    "PATH_QUOTEBANK = PATH_ROOT + '/Quotebank'\n",
    "PATH_TO_QUOTES = PATH_QUOTEBANK + '/quotes-{year}.json.bz2'"
   ]
  },
  {
   "cell_type": "code",
   "execution_count": 2,
   "metadata": {},
   "outputs": [],
   "source": [
    "PATH_OUTPUT = 'output'"
   ]
  },
  {
   "cell_type": "code",
   "execution_count": 3,
   "metadata": {
    "tags": []
   },
   "outputs": [
    {
     "name": "stdout",
     "output_type": "stream",
     "text": [
      "Requirement already satisfied: pyarrow in c:\\users\\steph\\miniconda3\\envs\\ada\\lib\\site-packages (6.0.0)\n",
      "Requirement already satisfied: numpy>=1.16.6 in c:\\users\\steph\\miniconda3\\envs\\ada\\lib\\site-packages (from pyarrow) (1.20.3)\n"
     ]
    }
   ],
   "source": [
    "!pip install pyarrow"
   ]
  },
  {
   "cell_type": "code",
   "execution_count": 29,
   "metadata": {
    "id": "2ciQy6i9jOp-"
   },
   "outputs": [
    {
     "name": "stdout",
     "output_type": "stream",
     "text": [
      "The autoreload extension is already loaded. To reload it, use:\n",
      "  %reload_ext autoreload\n"
     ]
    }
   ],
   "source": [
    "%load_ext autoreload\n",
    "%autoreload 2\n",
    "\n",
    "import pandas as pd\n",
    "import numpy as np\n",
    "import seaborn as sns\n",
    "\n",
    "#NLP libraries\n",
    "import spacy, nltk, gensim, sklearn\n",
    "import pyLDAvis.gensim_models\n",
    "\n",
    "import matplotlib.pyplot as plt\n",
    "%matplotlib inline  "
   ]
  },
  {
   "cell_type": "markdown",
   "metadata": {},
   "source": [
    "# 1. Loading Data"
   ]
  },
  {
   "cell_type": "markdown",
   "metadata": {
    "id": "aZEhusKde0oI",
    "tags": []
   },
   "source": [
    "## Reading wikidata labels"
   ]
  },
  {
   "cell_type": "code",
   "execution_count": 5,
   "metadata": {
    "colab": {
     "base_uri": "https://localhost:8080/",
     "height": 447
    },
    "id": "nu5mKlTCfEaA",
    "outputId": "650af35b-3663-4848-ab54-ef59e4834f8d",
    "tags": []
   },
   "outputs": [
    {
     "data": {
      "text/html": [
       "<div>\n",
       "<style scoped>\n",
       "    .dataframe tbody tr th:only-of-type {\n",
       "        vertical-align: middle;\n",
       "    }\n",
       "\n",
       "    .dataframe tbody tr th {\n",
       "        vertical-align: top;\n",
       "    }\n",
       "\n",
       "    .dataframe thead th {\n",
       "        text-align: right;\n",
       "    }\n",
       "</style>\n",
       "<table border=\"1\" class=\"dataframe\">\n",
       "  <thead>\n",
       "    <tr style=\"text-align: right;\">\n",
       "      <th></th>\n",
       "      <th>Label</th>\n",
       "      <th>Description</th>\n",
       "    </tr>\n",
       "    <tr>\n",
       "      <th>QID</th>\n",
       "      <th></th>\n",
       "      <th></th>\n",
       "    </tr>\n",
       "  </thead>\n",
       "  <tbody>\n",
       "    <tr>\n",
       "      <th>Q31</th>\n",
       "      <td>Belgium</td>\n",
       "      <td>country in western Europe</td>\n",
       "    </tr>\n",
       "    <tr>\n",
       "      <th>Q45</th>\n",
       "      <td>Portugal</td>\n",
       "      <td>country in southwestern Europe</td>\n",
       "    </tr>\n",
       "    <tr>\n",
       "      <th>Q75</th>\n",
       "      <td>Internet</td>\n",
       "      <td>global system of connected computer networks</td>\n",
       "    </tr>\n",
       "    <tr>\n",
       "      <th>Q148</th>\n",
       "      <td>People's Republic of China</td>\n",
       "      <td>sovereign state in East Asia</td>\n",
       "    </tr>\n",
       "    <tr>\n",
       "      <th>Q155</th>\n",
       "      <td>Brazil</td>\n",
       "      <td>country in South America</td>\n",
       "    </tr>\n",
       "  </tbody>\n",
       "</table>\n",
       "</div>"
      ],
      "text/plain": [
       "                           Label                                   Description\n",
       "QID                                                                           \n",
       "Q31                      Belgium                     country in western Europe\n",
       "Q45                     Portugal                country in southwestern Europe\n",
       "Q75                     Internet  global system of connected computer networks\n",
       "Q148  People's Republic of China                  sovereign state in East Asia\n",
       "Q155                      Brazil                      country in South America"
      ]
     },
     "execution_count": 5,
     "metadata": {},
     "output_type": "execute_result"
    }
   ],
   "source": [
    "df_wikidata_labels = pd.read_csv(PATH_PARQUET + '/wikidata_labels_descriptions_quotebank.csv.bz2', compression='bz2', index_col='QID')\n",
    "df_wikidata_labels.head()"
   ]
  },
  {
   "cell_type": "markdown",
   "metadata": {
    "id": "UnZ3lLf41f_P"
   },
   "source": [
    "## Reading speakers parquet file"
   ]
  },
  {
   "cell_type": "code",
   "execution_count": 6,
   "metadata": {
    "colab": {
     "base_uri": "https://localhost:8080/",
     "height": 576
    },
    "id": "F4U_W5Fe1n0g",
    "outputId": "c7c1cc47-56d8-4e7e-c74a-cc075d7889cb",
    "tags": []
   },
   "outputs": [
    {
     "data": {
      "text/html": [
       "<div>\n",
       "<style scoped>\n",
       "    .dataframe tbody tr th:only-of-type {\n",
       "        vertical-align: middle;\n",
       "    }\n",
       "\n",
       "    .dataframe tbody tr th {\n",
       "        vertical-align: top;\n",
       "    }\n",
       "\n",
       "    .dataframe thead th {\n",
       "        text-align: right;\n",
       "    }\n",
       "</style>\n",
       "<table border=\"1\" class=\"dataframe\">\n",
       "  <thead>\n",
       "    <tr style=\"text-align: right;\">\n",
       "      <th></th>\n",
       "      <th>aliases</th>\n",
       "      <th>date_of_birth</th>\n",
       "      <th>nationality</th>\n",
       "      <th>gender</th>\n",
       "      <th>lastrevid</th>\n",
       "      <th>ethnic_group</th>\n",
       "      <th>US_congress_bio_ID</th>\n",
       "      <th>occupation</th>\n",
       "      <th>party</th>\n",
       "      <th>academic_degree</th>\n",
       "      <th>label</th>\n",
       "      <th>candidacy</th>\n",
       "      <th>type</th>\n",
       "      <th>religion</th>\n",
       "    </tr>\n",
       "    <tr>\n",
       "      <th>id</th>\n",
       "      <th></th>\n",
       "      <th></th>\n",
       "      <th></th>\n",
       "      <th></th>\n",
       "      <th></th>\n",
       "      <th></th>\n",
       "      <th></th>\n",
       "      <th></th>\n",
       "      <th></th>\n",
       "      <th></th>\n",
       "      <th></th>\n",
       "      <th></th>\n",
       "      <th></th>\n",
       "      <th></th>\n",
       "    </tr>\n",
       "  </thead>\n",
       "  <tbody>\n",
       "    <tr>\n",
       "      <th>Q23</th>\n",
       "      <td>[Washington, President Washington, G. Washingt...</td>\n",
       "      <td>[+1732-02-22T00:00:00Z]</td>\n",
       "      <td>[Q161885, Q30]</td>\n",
       "      <td>[Q6581097]</td>\n",
       "      <td>1395141751</td>\n",
       "      <td>None</td>\n",
       "      <td>W000178</td>\n",
       "      <td>[Q82955, Q189290, Q131512, Q1734662, Q294126, ...</td>\n",
       "      <td>[Q327591]</td>\n",
       "      <td>None</td>\n",
       "      <td>George Washington</td>\n",
       "      <td>[Q698073, Q697949]</td>\n",
       "      <td>item</td>\n",
       "      <td>[Q682443]</td>\n",
       "    </tr>\n",
       "    <tr>\n",
       "      <th>Q42</th>\n",
       "      <td>[Douglas Noel Adams, Douglas Noël Adams, Dougl...</td>\n",
       "      <td>[+1952-03-11T00:00:00Z]</td>\n",
       "      <td>[Q145]</td>\n",
       "      <td>[Q6581097]</td>\n",
       "      <td>1395737157</td>\n",
       "      <td>[Q7994501]</td>\n",
       "      <td>None</td>\n",
       "      <td>[Q214917, Q28389, Q6625963, Q4853732, Q1884422...</td>\n",
       "      <td>None</td>\n",
       "      <td>None</td>\n",
       "      <td>Douglas Adams</td>\n",
       "      <td>None</td>\n",
       "      <td>item</td>\n",
       "      <td>None</td>\n",
       "    </tr>\n",
       "    <tr>\n",
       "      <th>Q1868</th>\n",
       "      <td>[Paul Marie Ghislain Otlet, Paul Marie Otlet]</td>\n",
       "      <td>[+1868-08-23T00:00:00Z]</td>\n",
       "      <td>[Q31]</td>\n",
       "      <td>[Q6581097]</td>\n",
       "      <td>1380367296</td>\n",
       "      <td>None</td>\n",
       "      <td>None</td>\n",
       "      <td>[Q36180, Q40348, Q182436, Q1265807, Q205375, Q...</td>\n",
       "      <td>None</td>\n",
       "      <td>None</td>\n",
       "      <td>Paul Otlet</td>\n",
       "      <td>None</td>\n",
       "      <td>item</td>\n",
       "      <td>None</td>\n",
       "    </tr>\n",
       "    <tr>\n",
       "      <th>Q207</th>\n",
       "      <td>[George Walker Bush, Bush Jr., Dubya, GWB, Bus...</td>\n",
       "      <td>[+1946-07-06T00:00:00Z]</td>\n",
       "      <td>[Q30]</td>\n",
       "      <td>[Q6581097]</td>\n",
       "      <td>1395142029</td>\n",
       "      <td>None</td>\n",
       "      <td>None</td>\n",
       "      <td>[Q82955, Q15982858, Q18814623, Q1028181, Q1408...</td>\n",
       "      <td>[Q29468]</td>\n",
       "      <td>None</td>\n",
       "      <td>George W. Bush</td>\n",
       "      <td>[Q327959, Q464075, Q3586276, Q4450587]</td>\n",
       "      <td>item</td>\n",
       "      <td>[Q329646, Q682443, Q33203]</td>\n",
       "    </tr>\n",
       "    <tr>\n",
       "      <th>Q297</th>\n",
       "      <td>[Velázquez, Diego Rodríguez de Silva y Velázqu...</td>\n",
       "      <td>[+1599-06-06T00:00:00Z]</td>\n",
       "      <td>[Q29]</td>\n",
       "      <td>[Q6581097]</td>\n",
       "      <td>1391704596</td>\n",
       "      <td>None</td>\n",
       "      <td>None</td>\n",
       "      <td>[Q1028181]</td>\n",
       "      <td>None</td>\n",
       "      <td>None</td>\n",
       "      <td>Diego Velázquez</td>\n",
       "      <td>None</td>\n",
       "      <td>item</td>\n",
       "      <td>None</td>\n",
       "    </tr>\n",
       "  </tbody>\n",
       "</table>\n",
       "</div>"
      ],
      "text/plain": [
       "                                                 aliases  \\\n",
       "id                                                         \n",
       "Q23    [Washington, President Washington, G. Washingt...   \n",
       "Q42    [Douglas Noel Adams, Douglas Noël Adams, Dougl...   \n",
       "Q1868      [Paul Marie Ghislain Otlet, Paul Marie Otlet]   \n",
       "Q207   [George Walker Bush, Bush Jr., Dubya, GWB, Bus...   \n",
       "Q297   [Velázquez, Diego Rodríguez de Silva y Velázqu...   \n",
       "\n",
       "                 date_of_birth     nationality      gender   lastrevid  \\\n",
       "id                                                                       \n",
       "Q23    [+1732-02-22T00:00:00Z]  [Q161885, Q30]  [Q6581097]  1395141751   \n",
       "Q42    [+1952-03-11T00:00:00Z]          [Q145]  [Q6581097]  1395737157   \n",
       "Q1868  [+1868-08-23T00:00:00Z]           [Q31]  [Q6581097]  1380367296   \n",
       "Q207   [+1946-07-06T00:00:00Z]           [Q30]  [Q6581097]  1395142029   \n",
       "Q297   [+1599-06-06T00:00:00Z]           [Q29]  [Q6581097]  1391704596   \n",
       "\n",
       "      ethnic_group US_congress_bio_ID  \\\n",
       "id                                      \n",
       "Q23           None            W000178   \n",
       "Q42     [Q7994501]               None   \n",
       "Q1868         None               None   \n",
       "Q207          None               None   \n",
       "Q297          None               None   \n",
       "\n",
       "                                              occupation      party  \\\n",
       "id                                                                    \n",
       "Q23    [Q82955, Q189290, Q131512, Q1734662, Q294126, ...  [Q327591]   \n",
       "Q42    [Q214917, Q28389, Q6625963, Q4853732, Q1884422...       None   \n",
       "Q1868  [Q36180, Q40348, Q182436, Q1265807, Q205375, Q...       None   \n",
       "Q207   [Q82955, Q15982858, Q18814623, Q1028181, Q1408...   [Q29468]   \n",
       "Q297                                          [Q1028181]       None   \n",
       "\n",
       "      academic_degree              label  \\\n",
       "id                                         \n",
       "Q23              None  George Washington   \n",
       "Q42              None      Douglas Adams   \n",
       "Q1868            None         Paul Otlet   \n",
       "Q207             None     George W. Bush   \n",
       "Q297             None    Diego Velázquez   \n",
       "\n",
       "                                    candidacy  type  \\\n",
       "id                                                    \n",
       "Q23                        [Q698073, Q697949]  item   \n",
       "Q42                                      None  item   \n",
       "Q1868                                    None  item   \n",
       "Q207   [Q327959, Q464075, Q3586276, Q4450587]  item   \n",
       "Q297                                     None  item   \n",
       "\n",
       "                         religion  \n",
       "id                                 \n",
       "Q23                     [Q682443]  \n",
       "Q42                          None  \n",
       "Q1868                        None  \n",
       "Q207   [Q329646, Q682443, Q33203]  \n",
       "Q297                         None  "
      ]
     },
     "execution_count": 6,
     "metadata": {},
     "output_type": "execute_result"
    }
   ],
   "source": [
    "df_speakers = pd.read_parquet(PATH_PARQUET + '/speaker_attributes.parquet')\n",
    "df_speakers.set_index(keys='id', inplace=True)\n",
    "df_speakers.head()"
   ]
  },
  {
   "cell_type": "code",
   "execution_count": 7,
   "metadata": {},
   "outputs": [
    {
     "name": "stdout",
     "output_type": "stream",
     "text": [
      "Total number of speakers :  9055981\n",
      "Total number of speakers with filled attributes :  3\n",
      "9055978 rows dropped\n"
     ]
    }
   ],
   "source": [
    "df_speakers_cleaned = df_speakers.dropna()\n",
    "print('Total number of speakers : ', len(df_speakers))\n",
    "print('Total number of speakers with filled attributes : ', len(df_speakers_cleaned))\n",
    "print('{} rows dropped'.format(len(df_speakers) - len(df_speakers_cleaned)))"
   ]
  },
  {
   "cell_type": "markdown",
   "metadata": {},
   "source": [
    "As we can see that dropping all speakers with undefined attributes is unrealistic to work with, since we're only left with 3 speakers with all their attributes defined to work with. We're going to have to some fine-grained filtering of undefined values column wise instead of on whole rows (all attributes)."
   ]
  },
  {
   "cell_type": "markdown",
   "metadata": {
    "id": "ipVshYnHKcAG",
    "tags": []
   },
   "source": [
    "# 2. Cleaning & handling data"
   ]
  },
  {
   "cell_type": "markdown",
   "metadata": {},
   "source": [
    "The quotes dataset is too big to process in memory at once. Here we define a method that generates a sample of speakers from the wikidata dump, along with attributes that interest us, that describe these speakers.\n",
    "Then we get their corresponding quotes from the quotebank."
   ]
  },
  {
   "cell_type": "markdown",
   "metadata": {},
   "source": [
    "## 2.1 Generating samples (of speakers) and merge them with their quotations"
   ]
  },
  {
   "cell_type": "code",
   "execution_count": 8,
   "metadata": {},
   "outputs": [],
   "source": [
    "def generate_quotes_sample(number_of_samples=10000, year=2020,\n",
    "                           quotes_columns=['quoteID', 'quotation', 'speaker', 'qids', 'party'],\n",
    "                           speakers_columns=['date_of_birth']):\n",
    "    '''\n",
    "    Generate a sample of speakers with their attributes to their quotes.\n",
    "    \n",
    "    Some quotes have multiple qids for the speaker (for example multiple speakers with the same name).\n",
    "    We use pandas explode to treat quotes with multiple qids as a separate quote by each of the speakers.\n",
    "    '''\n",
    "    speakers_sample = df_speakers.sample(n=number_of_samples)[speakers_columns]\n",
    "    \n",
    "    merged_chunks = []\n",
    "\n",
    "    with pd.read_json(path_or_buf=PATH_TO_QUOTES.format(year=year), compression='bz2', lines=True, chunksize=500000) as df_reader:\n",
    "        for chunk in df_reader:\n",
    "            # filter the columns\n",
    "            chunk = chunk[quotes_columns]\n",
    "            # TODO: filter quotes with None speaker?\n",
    "\n",
    "            # Some quote have multiple speaker qids associated to the same name. need to explode that and treat them each as a separate quote\n",
    "            chunk = chunk.explode('qids')\n",
    "            merged_chunks.append(chunk.merge(right=speakers_sample, right_index=True, left_on='qids'))\n",
    "\n",
    "    sample = pd.concat(merged_chunks, ignore_index=True)\n",
    "    return sample"
   ]
  },
  {
   "cell_type": "code",
   "execution_count": 9,
   "metadata": {},
   "outputs": [
    {
     "data": {
      "text/html": [
       "<div>\n",
       "<style scoped>\n",
       "    .dataframe tbody tr th:only-of-type {\n",
       "        vertical-align: middle;\n",
       "    }\n",
       "\n",
       "    .dataframe tbody tr th {\n",
       "        vertical-align: top;\n",
       "    }\n",
       "\n",
       "    .dataframe thead th {\n",
       "        text-align: right;\n",
       "    }\n",
       "</style>\n",
       "<table border=\"1\" class=\"dataframe\">\n",
       "  <thead>\n",
       "    <tr style=\"text-align: right;\">\n",
       "      <th></th>\n",
       "      <th>quoteID</th>\n",
       "      <th>quotation</th>\n",
       "      <th>speaker</th>\n",
       "      <th>qids</th>\n",
       "      <th>date_of_birth</th>\n",
       "      <th>gender</th>\n",
       "      <th>party</th>\n",
       "      <th>religion</th>\n",
       "      <th>occupation</th>\n",
       "    </tr>\n",
       "  </thead>\n",
       "  <tbody>\n",
       "    <tr>\n",
       "      <th>0</th>\n",
       "      <td>2020-01-24-000168</td>\n",
       "      <td>[ I met them ] when they just turned 4 and 7. ...</td>\n",
       "      <td>Meghan King Edmonds</td>\n",
       "      <td>Q20684375</td>\n",
       "      <td>[+1984-09-26T00:00:00Z]</td>\n",
       "      <td>[Q6581072]</td>\n",
       "      <td>None</td>\n",
       "      <td>None</td>\n",
       "      <td>None</td>\n",
       "    </tr>\n",
       "    <tr>\n",
       "      <th>1</th>\n",
       "      <td>2020-01-07-048692</td>\n",
       "      <td>My partner was a professional baseball player....</td>\n",
       "      <td>Meghan King Edmonds</td>\n",
       "      <td>Q20684375</td>\n",
       "      <td>[+1984-09-26T00:00:00Z]</td>\n",
       "      <td>[Q6581072]</td>\n",
       "      <td>None</td>\n",
       "      <td>None</td>\n",
       "      <td>None</td>\n",
       "    </tr>\n",
       "    <tr>\n",
       "      <th>2</th>\n",
       "      <td>2020-01-21-031706</td>\n",
       "      <td>I remember asking why they were so weird, and ...</td>\n",
       "      <td>Meghan King Edmonds</td>\n",
       "      <td>Q20684375</td>\n",
       "      <td>[+1984-09-26T00:00:00Z]</td>\n",
       "      <td>[Q6581072]</td>\n",
       "      <td>None</td>\n",
       "      <td>None</td>\n",
       "      <td>None</td>\n",
       "    </tr>\n",
       "    <tr>\n",
       "      <th>3</th>\n",
       "      <td>2020-02-10-088672</td>\n",
       "      <td>to all the `Nancys in Nebraska. '</td>\n",
       "      <td>Meghan King Edmonds</td>\n",
       "      <td>Q20684375</td>\n",
       "      <td>[+1984-09-26T00:00:00Z]</td>\n",
       "      <td>[Q6581072]</td>\n",
       "      <td>None</td>\n",
       "      <td>None</td>\n",
       "      <td>None</td>\n",
       "    </tr>\n",
       "    <tr>\n",
       "      <th>4</th>\n",
       "      <td>2020-02-20-059272</td>\n",
       "      <td>She's basically replaced Jim in what he would ...</td>\n",
       "      <td>Meghan King Edmonds</td>\n",
       "      <td>Q20684375</td>\n",
       "      <td>[+1984-09-26T00:00:00Z]</td>\n",
       "      <td>[Q6581072]</td>\n",
       "      <td>None</td>\n",
       "      <td>None</td>\n",
       "      <td>None</td>\n",
       "    </tr>\n",
       "    <tr>\n",
       "      <th>...</th>\n",
       "      <td>...</td>\n",
       "      <td>...</td>\n",
       "      <td>...</td>\n",
       "      <td>...</td>\n",
       "      <td>...</td>\n",
       "      <td>...</td>\n",
       "      <td>...</td>\n",
       "      <td>...</td>\n",
       "      <td>...</td>\n",
       "    </tr>\n",
       "    <tr>\n",
       "      <th>800543</th>\n",
       "      <td>2020-02-15-056376</td>\n",
       "      <td>weak, confusing and invalid</td>\n",
       "      <td>Tony Bates</td>\n",
       "      <td>Q7821852</td>\n",
       "      <td>[+1967-04-29T00:00:00Z]</td>\n",
       "      <td>[Q6581097]</td>\n",
       "      <td>None</td>\n",
       "      <td>None</td>\n",
       "      <td>[Q43845]</td>\n",
       "    </tr>\n",
       "    <tr>\n",
       "      <th>800544</th>\n",
       "      <td>2020-03-24-087490</td>\n",
       "      <td>We're going to get out of this place. I can't ...</td>\n",
       "      <td>Russell Yuen</td>\n",
       "      <td>Q2176962</td>\n",
       "      <td>[+1965-10-30T00:00:00Z]</td>\n",
       "      <td>[Q6581097]</td>\n",
       "      <td>None</td>\n",
       "      <td>None</td>\n",
       "      <td>[Q33999, Q10800557]</td>\n",
       "    </tr>\n",
       "    <tr>\n",
       "      <th>800545</th>\n",
       "      <td>2020-01-09-108973</td>\n",
       "      <td>We're looking at 180 years of neglect and chan...</td>\n",
       "      <td>Colin Walker</td>\n",
       "      <td>Q26464525</td>\n",
       "      <td>[+1962-10-29T00:00:00Z]</td>\n",
       "      <td>[Q6581097]</td>\n",
       "      <td>None</td>\n",
       "      <td>None</td>\n",
       "      <td>[Q13381753, Q13854733]</td>\n",
       "    </tr>\n",
       "    <tr>\n",
       "      <th>800546</th>\n",
       "      <td>2020-04-10-059728</td>\n",
       "      <td>When I looked at it at around 11 a.m., it was ...</td>\n",
       "      <td>Huang Wen</td>\n",
       "      <td>Q45542512</td>\n",
       "      <td>None</td>\n",
       "      <td>[Q6581097]</td>\n",
       "      <td>None</td>\n",
       "      <td>None</td>\n",
       "      <td>None</td>\n",
       "    </tr>\n",
       "    <tr>\n",
       "      <th>800547</th>\n",
       "      <td>2020-04-10-059728</td>\n",
       "      <td>When I looked at it at around 11 a.m., it was ...</td>\n",
       "      <td>Huang Wen</td>\n",
       "      <td>Q45546826</td>\n",
       "      <td>None</td>\n",
       "      <td>[Q6581097]</td>\n",
       "      <td>None</td>\n",
       "      <td>None</td>\n",
       "      <td>None</td>\n",
       "    </tr>\n",
       "  </tbody>\n",
       "</table>\n",
       "<p>800548 rows × 9 columns</p>\n",
       "</div>"
      ],
      "text/plain": [
       "                  quoteID                                          quotation  \\\n",
       "0       2020-01-24-000168  [ I met them ] when they just turned 4 and 7. ...   \n",
       "1       2020-01-07-048692  My partner was a professional baseball player....   \n",
       "2       2020-01-21-031706  I remember asking why they were so weird, and ...   \n",
       "3       2020-02-10-088672                  to all the `Nancys in Nebraska. '   \n",
       "4       2020-02-20-059272  She's basically replaced Jim in what he would ...   \n",
       "...                   ...                                                ...   \n",
       "800543  2020-02-15-056376                        weak, confusing and invalid   \n",
       "800544  2020-03-24-087490  We're going to get out of this place. I can't ...   \n",
       "800545  2020-01-09-108973  We're looking at 180 years of neglect and chan...   \n",
       "800546  2020-04-10-059728  When I looked at it at around 11 a.m., it was ...   \n",
       "800547  2020-04-10-059728  When I looked at it at around 11 a.m., it was ...   \n",
       "\n",
       "                    speaker       qids            date_of_birth      gender  \\\n",
       "0       Meghan King Edmonds  Q20684375  [+1984-09-26T00:00:00Z]  [Q6581072]   \n",
       "1       Meghan King Edmonds  Q20684375  [+1984-09-26T00:00:00Z]  [Q6581072]   \n",
       "2       Meghan King Edmonds  Q20684375  [+1984-09-26T00:00:00Z]  [Q6581072]   \n",
       "3       Meghan King Edmonds  Q20684375  [+1984-09-26T00:00:00Z]  [Q6581072]   \n",
       "4       Meghan King Edmonds  Q20684375  [+1984-09-26T00:00:00Z]  [Q6581072]   \n",
       "...                     ...        ...                      ...         ...   \n",
       "800543           Tony Bates   Q7821852  [+1967-04-29T00:00:00Z]  [Q6581097]   \n",
       "800544         Russell Yuen   Q2176962  [+1965-10-30T00:00:00Z]  [Q6581097]   \n",
       "800545         Colin Walker  Q26464525  [+1962-10-29T00:00:00Z]  [Q6581097]   \n",
       "800546            Huang Wen  Q45542512                     None  [Q6581097]   \n",
       "800547            Huang Wen  Q45546826                     None  [Q6581097]   \n",
       "\n",
       "       party religion              occupation  \n",
       "0       None     None                    None  \n",
       "1       None     None                    None  \n",
       "2       None     None                    None  \n",
       "3       None     None                    None  \n",
       "4       None     None                    None  \n",
       "...      ...      ...                     ...  \n",
       "800543  None     None                [Q43845]  \n",
       "800544  None     None     [Q33999, Q10800557]  \n",
       "800545  None     None  [Q13381753, Q13854733]  \n",
       "800546  None     None                    None  \n",
       "800547  None     None                    None  \n",
       "\n",
       "[800548 rows x 9 columns]"
      ]
     },
     "execution_count": 9,
     "metadata": {},
     "output_type": "execute_result"
    }
   ],
   "source": [
    "quotes_filter_columns = ['quoteID', 'quotation', 'speaker', 'qids']\n",
    "\n",
    "# We choose the column features we're interested in \n",
    "speaker_attributes_filter_columns = ['date_of_birth', 'gender', 'party', 'religion', 'occupation']\n",
    "n_samples = 1000000\n",
    "\n",
    "sample = generate_quotes_sample(number_of_samples=n_samples, quotes_columns=quotes_filter_columns, speakers_columns=speaker_attributes_filter_columns)\n",
    "sample"
   ]
  },
  {
   "cell_type": "markdown",
   "metadata": {},
   "source": [
    "### Explode column values of sample"
   ]
  },
  {
   "cell_type": "markdown",
   "metadata": {},
   "source": [
    "Some columns store their values as lists, such as a speaker who has multiple occupations or genders. We need to explode those so that we have a row for each unique value in each column. This presents some inconsistencies, **we don't take into account at what point of his life a speaker may have uttered a certain quotation**. For example, he may have had a different occupation when he said it. "
   ]
  },
  {
   "cell_type": "code",
   "execution_count": 10,
   "metadata": {},
   "outputs": [
    {
     "data": {
      "text/html": [
       "<div>\n",
       "<style scoped>\n",
       "    .dataframe tbody tr th:only-of-type {\n",
       "        vertical-align: middle;\n",
       "    }\n",
       "\n",
       "    .dataframe tbody tr th {\n",
       "        vertical-align: top;\n",
       "    }\n",
       "\n",
       "    .dataframe thead th {\n",
       "        text-align: right;\n",
       "    }\n",
       "</style>\n",
       "<table border=\"1\" class=\"dataframe\">\n",
       "  <thead>\n",
       "    <tr style=\"text-align: right;\">\n",
       "      <th></th>\n",
       "      <th>quoteID</th>\n",
       "      <th>quotation</th>\n",
       "      <th>speaker</th>\n",
       "      <th>qids</th>\n",
       "      <th>date_of_birth</th>\n",
       "      <th>gender</th>\n",
       "      <th>party</th>\n",
       "      <th>religion</th>\n",
       "      <th>occupation</th>\n",
       "    </tr>\n",
       "  </thead>\n",
       "  <tbody>\n",
       "    <tr>\n",
       "      <th>0</th>\n",
       "      <td>2020-01-24-000168</td>\n",
       "      <td>[ I met them ] when they just turned 4 and 7. ...</td>\n",
       "      <td>Meghan King Edmonds</td>\n",
       "      <td>Q20684375</td>\n",
       "      <td>+1984-09-26T00:00:00Z</td>\n",
       "      <td>Q6581072</td>\n",
       "      <td>None</td>\n",
       "      <td>None</td>\n",
       "      <td>None</td>\n",
       "    </tr>\n",
       "    <tr>\n",
       "      <th>1</th>\n",
       "      <td>2020-01-07-048692</td>\n",
       "      <td>My partner was a professional baseball player....</td>\n",
       "      <td>Meghan King Edmonds</td>\n",
       "      <td>Q20684375</td>\n",
       "      <td>+1984-09-26T00:00:00Z</td>\n",
       "      <td>Q6581072</td>\n",
       "      <td>None</td>\n",
       "      <td>None</td>\n",
       "      <td>None</td>\n",
       "    </tr>\n",
       "    <tr>\n",
       "      <th>2</th>\n",
       "      <td>2020-01-21-031706</td>\n",
       "      <td>I remember asking why they were so weird, and ...</td>\n",
       "      <td>Meghan King Edmonds</td>\n",
       "      <td>Q20684375</td>\n",
       "      <td>+1984-09-26T00:00:00Z</td>\n",
       "      <td>Q6581072</td>\n",
       "      <td>None</td>\n",
       "      <td>None</td>\n",
       "      <td>None</td>\n",
       "    </tr>\n",
       "    <tr>\n",
       "      <th>3</th>\n",
       "      <td>2020-02-10-088672</td>\n",
       "      <td>to all the `Nancys in Nebraska. '</td>\n",
       "      <td>Meghan King Edmonds</td>\n",
       "      <td>Q20684375</td>\n",
       "      <td>+1984-09-26T00:00:00Z</td>\n",
       "      <td>Q6581072</td>\n",
       "      <td>None</td>\n",
       "      <td>None</td>\n",
       "      <td>None</td>\n",
       "    </tr>\n",
       "    <tr>\n",
       "      <th>4</th>\n",
       "      <td>2020-02-20-059272</td>\n",
       "      <td>She's basically replaced Jim in what he would ...</td>\n",
       "      <td>Meghan King Edmonds</td>\n",
       "      <td>Q20684375</td>\n",
       "      <td>+1984-09-26T00:00:00Z</td>\n",
       "      <td>Q6581072</td>\n",
       "      <td>None</td>\n",
       "      <td>None</td>\n",
       "      <td>None</td>\n",
       "    </tr>\n",
       "  </tbody>\n",
       "</table>\n",
       "</div>"
      ],
      "text/plain": [
       "             quoteID                                          quotation  \\\n",
       "0  2020-01-24-000168  [ I met them ] when they just turned 4 and 7. ...   \n",
       "1  2020-01-07-048692  My partner was a professional baseball player....   \n",
       "2  2020-01-21-031706  I remember asking why they were so weird, and ...   \n",
       "3  2020-02-10-088672                  to all the `Nancys in Nebraska. '   \n",
       "4  2020-02-20-059272  She's basically replaced Jim in what he would ...   \n",
       "\n",
       "               speaker       qids          date_of_birth    gender party  \\\n",
       "0  Meghan King Edmonds  Q20684375  +1984-09-26T00:00:00Z  Q6581072  None   \n",
       "1  Meghan King Edmonds  Q20684375  +1984-09-26T00:00:00Z  Q6581072  None   \n",
       "2  Meghan King Edmonds  Q20684375  +1984-09-26T00:00:00Z  Q6581072  None   \n",
       "3  Meghan King Edmonds  Q20684375  +1984-09-26T00:00:00Z  Q6581072  None   \n",
       "4  Meghan King Edmonds  Q20684375  +1984-09-26T00:00:00Z  Q6581072  None   \n",
       "\n",
       "  religion occupation  \n",
       "0     None       None  \n",
       "1     None       None  \n",
       "2     None       None  \n",
       "3     None       None  \n",
       "4     None       None  "
      ]
     },
     "execution_count": 10,
     "metadata": {},
     "output_type": "execute_result"
    }
   ],
   "source": [
    "original_sample_size = len(sample)\n",
    "\n",
    "for col in speaker_attributes_filter_columns:\n",
    "    sample = sample.explode(col)\n",
    "sample.head()"
   ]
  },
  {
   "cell_type": "code",
   "execution_count": 11,
   "metadata": {},
   "outputs": [
    {
     "name": "stdout",
     "output_type": "stream",
     "text": [
      "659162 rows exploded\n"
     ]
    }
   ],
   "source": [
    "print('{} rows exploded'.format(len(sample) - original_sample_size))"
   ]
  },
  {
   "cell_type": "code",
   "execution_count": 12,
   "metadata": {},
   "outputs": [],
   "source": [
    "# Save to csv (for later retrieval)\n",
    "sample.to_csv(path_or_buf=PATH_OUTPUT + '/speakers_quotes_example_samples.csv', index=False)"
   ]
  },
  {
   "cell_type": "markdown",
   "metadata": {},
   "source": [
    "## Retrieve the sample saved in csv (You can continue work from here)"
   ]
  },
  {
   "cell_type": "code",
   "execution_count": 13,
   "metadata": {},
   "outputs": [
    {
     "data": {
      "text/html": [
       "<div>\n",
       "<style scoped>\n",
       "    .dataframe tbody tr th:only-of-type {\n",
       "        vertical-align: middle;\n",
       "    }\n",
       "\n",
       "    .dataframe tbody tr th {\n",
       "        vertical-align: top;\n",
       "    }\n",
       "\n",
       "    .dataframe thead th {\n",
       "        text-align: right;\n",
       "    }\n",
       "</style>\n",
       "<table border=\"1\" class=\"dataframe\">\n",
       "  <thead>\n",
       "    <tr style=\"text-align: right;\">\n",
       "      <th></th>\n",
       "      <th>quoteID</th>\n",
       "      <th>quotation</th>\n",
       "      <th>speaker</th>\n",
       "      <th>qids</th>\n",
       "      <th>date_of_birth</th>\n",
       "      <th>gender</th>\n",
       "      <th>party</th>\n",
       "      <th>religion</th>\n",
       "      <th>occupation</th>\n",
       "    </tr>\n",
       "  </thead>\n",
       "  <tbody>\n",
       "    <tr>\n",
       "      <th>0</th>\n",
       "      <td>2020-01-24-000168</td>\n",
       "      <td>[ I met them ] when they just turned 4 and 7. ...</td>\n",
       "      <td>Meghan King Edmonds</td>\n",
       "      <td>Q20684375</td>\n",
       "      <td>+1984-09-26T00:00:00Z</td>\n",
       "      <td>Q6581072</td>\n",
       "      <td>NaN</td>\n",
       "      <td>NaN</td>\n",
       "      <td>NaN</td>\n",
       "    </tr>\n",
       "    <tr>\n",
       "      <th>1</th>\n",
       "      <td>2020-01-07-048692</td>\n",
       "      <td>My partner was a professional baseball player....</td>\n",
       "      <td>Meghan King Edmonds</td>\n",
       "      <td>Q20684375</td>\n",
       "      <td>+1984-09-26T00:00:00Z</td>\n",
       "      <td>Q6581072</td>\n",
       "      <td>NaN</td>\n",
       "      <td>NaN</td>\n",
       "      <td>NaN</td>\n",
       "    </tr>\n",
       "    <tr>\n",
       "      <th>2</th>\n",
       "      <td>2020-01-21-031706</td>\n",
       "      <td>I remember asking why they were so weird, and ...</td>\n",
       "      <td>Meghan King Edmonds</td>\n",
       "      <td>Q20684375</td>\n",
       "      <td>+1984-09-26T00:00:00Z</td>\n",
       "      <td>Q6581072</td>\n",
       "      <td>NaN</td>\n",
       "      <td>NaN</td>\n",
       "      <td>NaN</td>\n",
       "    </tr>\n",
       "    <tr>\n",
       "      <th>3</th>\n",
       "      <td>2020-02-10-088672</td>\n",
       "      <td>to all the `Nancys in Nebraska. '</td>\n",
       "      <td>Meghan King Edmonds</td>\n",
       "      <td>Q20684375</td>\n",
       "      <td>+1984-09-26T00:00:00Z</td>\n",
       "      <td>Q6581072</td>\n",
       "      <td>NaN</td>\n",
       "      <td>NaN</td>\n",
       "      <td>NaN</td>\n",
       "    </tr>\n",
       "    <tr>\n",
       "      <th>4</th>\n",
       "      <td>2020-02-20-059272</td>\n",
       "      <td>She's basically replaced Jim in what he would ...</td>\n",
       "      <td>Meghan King Edmonds</td>\n",
       "      <td>Q20684375</td>\n",
       "      <td>+1984-09-26T00:00:00Z</td>\n",
       "      <td>Q6581072</td>\n",
       "      <td>NaN</td>\n",
       "      <td>NaN</td>\n",
       "      <td>NaN</td>\n",
       "    </tr>\n",
       "    <tr>\n",
       "      <th>...</th>\n",
       "      <td>...</td>\n",
       "      <td>...</td>\n",
       "      <td>...</td>\n",
       "      <td>...</td>\n",
       "      <td>...</td>\n",
       "      <td>...</td>\n",
       "      <td>...</td>\n",
       "      <td>...</td>\n",
       "      <td>...</td>\n",
       "    </tr>\n",
       "    <tr>\n",
       "      <th>1459705</th>\n",
       "      <td>2020-03-24-087490</td>\n",
       "      <td>We're going to get out of this place. I can't ...</td>\n",
       "      <td>Russell Yuen</td>\n",
       "      <td>Q2176962</td>\n",
       "      <td>+1965-10-30T00:00:00Z</td>\n",
       "      <td>Q6581097</td>\n",
       "      <td>NaN</td>\n",
       "      <td>NaN</td>\n",
       "      <td>Q10800557</td>\n",
       "    </tr>\n",
       "    <tr>\n",
       "      <th>1459706</th>\n",
       "      <td>2020-01-09-108973</td>\n",
       "      <td>We're looking at 180 years of neglect and chan...</td>\n",
       "      <td>Colin Walker</td>\n",
       "      <td>Q26464525</td>\n",
       "      <td>+1962-10-29T00:00:00Z</td>\n",
       "      <td>Q6581097</td>\n",
       "      <td>NaN</td>\n",
       "      <td>NaN</td>\n",
       "      <td>Q13381753</td>\n",
       "    </tr>\n",
       "    <tr>\n",
       "      <th>1459707</th>\n",
       "      <td>2020-01-09-108973</td>\n",
       "      <td>We're looking at 180 years of neglect and chan...</td>\n",
       "      <td>Colin Walker</td>\n",
       "      <td>Q26464525</td>\n",
       "      <td>+1962-10-29T00:00:00Z</td>\n",
       "      <td>Q6581097</td>\n",
       "      <td>NaN</td>\n",
       "      <td>NaN</td>\n",
       "      <td>Q13854733</td>\n",
       "    </tr>\n",
       "    <tr>\n",
       "      <th>1459708</th>\n",
       "      <td>2020-04-10-059728</td>\n",
       "      <td>When I looked at it at around 11 a.m., it was ...</td>\n",
       "      <td>Huang Wen</td>\n",
       "      <td>Q45542512</td>\n",
       "      <td>NaN</td>\n",
       "      <td>Q6581097</td>\n",
       "      <td>NaN</td>\n",
       "      <td>NaN</td>\n",
       "      <td>NaN</td>\n",
       "    </tr>\n",
       "    <tr>\n",
       "      <th>1459709</th>\n",
       "      <td>2020-04-10-059728</td>\n",
       "      <td>When I looked at it at around 11 a.m., it was ...</td>\n",
       "      <td>Huang Wen</td>\n",
       "      <td>Q45546826</td>\n",
       "      <td>NaN</td>\n",
       "      <td>Q6581097</td>\n",
       "      <td>NaN</td>\n",
       "      <td>NaN</td>\n",
       "      <td>NaN</td>\n",
       "    </tr>\n",
       "  </tbody>\n",
       "</table>\n",
       "<p>1459710 rows × 9 columns</p>\n",
       "</div>"
      ],
      "text/plain": [
       "                   quoteID                                          quotation  \\\n",
       "0        2020-01-24-000168  [ I met them ] when they just turned 4 and 7. ...   \n",
       "1        2020-01-07-048692  My partner was a professional baseball player....   \n",
       "2        2020-01-21-031706  I remember asking why they were so weird, and ...   \n",
       "3        2020-02-10-088672                  to all the `Nancys in Nebraska. '   \n",
       "4        2020-02-20-059272  She's basically replaced Jim in what he would ...   \n",
       "...                    ...                                                ...   \n",
       "1459705  2020-03-24-087490  We're going to get out of this place. I can't ...   \n",
       "1459706  2020-01-09-108973  We're looking at 180 years of neglect and chan...   \n",
       "1459707  2020-01-09-108973  We're looking at 180 years of neglect and chan...   \n",
       "1459708  2020-04-10-059728  When I looked at it at around 11 a.m., it was ...   \n",
       "1459709  2020-04-10-059728  When I looked at it at around 11 a.m., it was ...   \n",
       "\n",
       "                     speaker       qids          date_of_birth    gender  \\\n",
       "0        Meghan King Edmonds  Q20684375  +1984-09-26T00:00:00Z  Q6581072   \n",
       "1        Meghan King Edmonds  Q20684375  +1984-09-26T00:00:00Z  Q6581072   \n",
       "2        Meghan King Edmonds  Q20684375  +1984-09-26T00:00:00Z  Q6581072   \n",
       "3        Meghan King Edmonds  Q20684375  +1984-09-26T00:00:00Z  Q6581072   \n",
       "4        Meghan King Edmonds  Q20684375  +1984-09-26T00:00:00Z  Q6581072   \n",
       "...                      ...        ...                    ...       ...   \n",
       "1459705         Russell Yuen   Q2176962  +1965-10-30T00:00:00Z  Q6581097   \n",
       "1459706         Colin Walker  Q26464525  +1962-10-29T00:00:00Z  Q6581097   \n",
       "1459707         Colin Walker  Q26464525  +1962-10-29T00:00:00Z  Q6581097   \n",
       "1459708            Huang Wen  Q45542512                    NaN  Q6581097   \n",
       "1459709            Huang Wen  Q45546826                    NaN  Q6581097   \n",
       "\n",
       "        party religion occupation  \n",
       "0         NaN      NaN        NaN  \n",
       "1         NaN      NaN        NaN  \n",
       "2         NaN      NaN        NaN  \n",
       "3         NaN      NaN        NaN  \n",
       "4         NaN      NaN        NaN  \n",
       "...       ...      ...        ...  \n",
       "1459705   NaN      NaN  Q10800557  \n",
       "1459706   NaN      NaN  Q13381753  \n",
       "1459707   NaN      NaN  Q13854733  \n",
       "1459708   NaN      NaN        NaN  \n",
       "1459709   NaN      NaN        NaN  \n",
       "\n",
       "[1459710 rows x 9 columns]"
      ]
     },
     "execution_count": 13,
     "metadata": {},
     "output_type": "execute_result"
    }
   ],
   "source": [
    "retrieved_sample = pd.read_csv(PATH_OUTPUT + '/speakers_quotes_example_samples.csv')\n",
    "retrieved_sample"
   ]
  },
  {
   "cell_type": "markdown",
   "metadata": {},
   "source": [
    "## Merge our speaker feature columns (qids) with their actual labels from the speakers attributes parquet file"
   ]
  },
  {
   "cell_type": "code",
   "execution_count": 14,
   "metadata": {},
   "outputs": [],
   "source": [
    "merged_labels = retrieved_sample.copy()\n",
    "for col in speaker_attributes_filter_columns:\n",
    "    merged_labels = merged_labels.merge(df_wikidata_labels, left_on=col, right_index=True, how='left')\n",
    "    merged_labels[col] = merged_labels['Label']\n",
    "    merged_labels.drop(columns=['Label', 'Description'], inplace=True)"
   ]
  },
  {
   "cell_type": "code",
   "execution_count": 15,
   "metadata": {},
   "outputs": [
    {
     "data": {
      "text/html": [
       "<div>\n",
       "<style scoped>\n",
       "    .dataframe tbody tr th:only-of-type {\n",
       "        vertical-align: middle;\n",
       "    }\n",
       "\n",
       "    .dataframe tbody tr th {\n",
       "        vertical-align: top;\n",
       "    }\n",
       "\n",
       "    .dataframe thead th {\n",
       "        text-align: right;\n",
       "    }\n",
       "</style>\n",
       "<table border=\"1\" class=\"dataframe\">\n",
       "  <thead>\n",
       "    <tr style=\"text-align: right;\">\n",
       "      <th></th>\n",
       "      <th>quoteID</th>\n",
       "      <th>quotation</th>\n",
       "      <th>speaker</th>\n",
       "      <th>qids</th>\n",
       "      <th>date_of_birth</th>\n",
       "      <th>gender</th>\n",
       "      <th>party</th>\n",
       "      <th>religion</th>\n",
       "      <th>occupation</th>\n",
       "    </tr>\n",
       "  </thead>\n",
       "  <tbody>\n",
       "    <tr>\n",
       "      <th>0</th>\n",
       "      <td>2020-01-24-000168</td>\n",
       "      <td>[ I met them ] when they just turned 4 and 7. ...</td>\n",
       "      <td>Meghan King Edmonds</td>\n",
       "      <td>Q20684375</td>\n",
       "      <td>NaN</td>\n",
       "      <td>female</td>\n",
       "      <td>NaN</td>\n",
       "      <td>NaN</td>\n",
       "      <td>NaN</td>\n",
       "    </tr>\n",
       "    <tr>\n",
       "      <th>1</th>\n",
       "      <td>2020-01-07-048692</td>\n",
       "      <td>My partner was a professional baseball player....</td>\n",
       "      <td>Meghan King Edmonds</td>\n",
       "      <td>Q20684375</td>\n",
       "      <td>NaN</td>\n",
       "      <td>female</td>\n",
       "      <td>NaN</td>\n",
       "      <td>NaN</td>\n",
       "      <td>NaN</td>\n",
       "    </tr>\n",
       "    <tr>\n",
       "      <th>2</th>\n",
       "      <td>2020-01-21-031706</td>\n",
       "      <td>I remember asking why they were so weird, and ...</td>\n",
       "      <td>Meghan King Edmonds</td>\n",
       "      <td>Q20684375</td>\n",
       "      <td>NaN</td>\n",
       "      <td>female</td>\n",
       "      <td>NaN</td>\n",
       "      <td>NaN</td>\n",
       "      <td>NaN</td>\n",
       "    </tr>\n",
       "    <tr>\n",
       "      <th>3</th>\n",
       "      <td>2020-02-10-088672</td>\n",
       "      <td>to all the `Nancys in Nebraska. '</td>\n",
       "      <td>Meghan King Edmonds</td>\n",
       "      <td>Q20684375</td>\n",
       "      <td>NaN</td>\n",
       "      <td>female</td>\n",
       "      <td>NaN</td>\n",
       "      <td>NaN</td>\n",
       "      <td>NaN</td>\n",
       "    </tr>\n",
       "    <tr>\n",
       "      <th>4</th>\n",
       "      <td>2020-02-20-059272</td>\n",
       "      <td>She's basically replaced Jim in what he would ...</td>\n",
       "      <td>Meghan King Edmonds</td>\n",
       "      <td>Q20684375</td>\n",
       "      <td>NaN</td>\n",
       "      <td>female</td>\n",
       "      <td>NaN</td>\n",
       "      <td>NaN</td>\n",
       "      <td>NaN</td>\n",
       "    </tr>\n",
       "    <tr>\n",
       "      <th>...</th>\n",
       "      <td>...</td>\n",
       "      <td>...</td>\n",
       "      <td>...</td>\n",
       "      <td>...</td>\n",
       "      <td>...</td>\n",
       "      <td>...</td>\n",
       "      <td>...</td>\n",
       "      <td>...</td>\n",
       "      <td>...</td>\n",
       "    </tr>\n",
       "    <tr>\n",
       "      <th>1459705</th>\n",
       "      <td>2020-03-24-087490</td>\n",
       "      <td>We're going to get out of this place. I can't ...</td>\n",
       "      <td>Russell Yuen</td>\n",
       "      <td>Q2176962</td>\n",
       "      <td>NaN</td>\n",
       "      <td>male</td>\n",
       "      <td>NaN</td>\n",
       "      <td>NaN</td>\n",
       "      <td>film actor</td>\n",
       "    </tr>\n",
       "    <tr>\n",
       "      <th>1459706</th>\n",
       "      <td>2020-01-09-108973</td>\n",
       "      <td>We're looking at 180 years of neglect and chan...</td>\n",
       "      <td>Colin Walker</td>\n",
       "      <td>Q26464525</td>\n",
       "      <td>NaN</td>\n",
       "      <td>male</td>\n",
       "      <td>NaN</td>\n",
       "      <td>NaN</td>\n",
       "      <td>middle-distance runner</td>\n",
       "    </tr>\n",
       "    <tr>\n",
       "      <th>1459707</th>\n",
       "      <td>2020-01-09-108973</td>\n",
       "      <td>We're looking at 180 years of neglect and chan...</td>\n",
       "      <td>Colin Walker</td>\n",
       "      <td>Q26464525</td>\n",
       "      <td>NaN</td>\n",
       "      <td>male</td>\n",
       "      <td>NaN</td>\n",
       "      <td>NaN</td>\n",
       "      <td>steeplechase runner</td>\n",
       "    </tr>\n",
       "    <tr>\n",
       "      <th>1459708</th>\n",
       "      <td>2020-04-10-059728</td>\n",
       "      <td>When I looked at it at around 11 a.m., it was ...</td>\n",
       "      <td>Huang Wen</td>\n",
       "      <td>Q45542512</td>\n",
       "      <td>NaN</td>\n",
       "      <td>male</td>\n",
       "      <td>NaN</td>\n",
       "      <td>NaN</td>\n",
       "      <td>NaN</td>\n",
       "    </tr>\n",
       "    <tr>\n",
       "      <th>1459709</th>\n",
       "      <td>2020-04-10-059728</td>\n",
       "      <td>When I looked at it at around 11 a.m., it was ...</td>\n",
       "      <td>Huang Wen</td>\n",
       "      <td>Q45546826</td>\n",
       "      <td>NaN</td>\n",
       "      <td>male</td>\n",
       "      <td>NaN</td>\n",
       "      <td>NaN</td>\n",
       "      <td>NaN</td>\n",
       "    </tr>\n",
       "  </tbody>\n",
       "</table>\n",
       "<p>1459710 rows × 9 columns</p>\n",
       "</div>"
      ],
      "text/plain": [
       "                   quoteID                                          quotation  \\\n",
       "0        2020-01-24-000168  [ I met them ] when they just turned 4 and 7. ...   \n",
       "1        2020-01-07-048692  My partner was a professional baseball player....   \n",
       "2        2020-01-21-031706  I remember asking why they were so weird, and ...   \n",
       "3        2020-02-10-088672                  to all the `Nancys in Nebraska. '   \n",
       "4        2020-02-20-059272  She's basically replaced Jim in what he would ...   \n",
       "...                    ...                                                ...   \n",
       "1459705  2020-03-24-087490  We're going to get out of this place. I can't ...   \n",
       "1459706  2020-01-09-108973  We're looking at 180 years of neglect and chan...   \n",
       "1459707  2020-01-09-108973  We're looking at 180 years of neglect and chan...   \n",
       "1459708  2020-04-10-059728  When I looked at it at around 11 a.m., it was ...   \n",
       "1459709  2020-04-10-059728  When I looked at it at around 11 a.m., it was ...   \n",
       "\n",
       "                     speaker       qids date_of_birth  gender party religion  \\\n",
       "0        Meghan King Edmonds  Q20684375           NaN  female   NaN      NaN   \n",
       "1        Meghan King Edmonds  Q20684375           NaN  female   NaN      NaN   \n",
       "2        Meghan King Edmonds  Q20684375           NaN  female   NaN      NaN   \n",
       "3        Meghan King Edmonds  Q20684375           NaN  female   NaN      NaN   \n",
       "4        Meghan King Edmonds  Q20684375           NaN  female   NaN      NaN   \n",
       "...                      ...        ...           ...     ...   ...      ...   \n",
       "1459705         Russell Yuen   Q2176962           NaN    male   NaN      NaN   \n",
       "1459706         Colin Walker  Q26464525           NaN    male   NaN      NaN   \n",
       "1459707         Colin Walker  Q26464525           NaN    male   NaN      NaN   \n",
       "1459708            Huang Wen  Q45542512           NaN    male   NaN      NaN   \n",
       "1459709            Huang Wen  Q45546826           NaN    male   NaN      NaN   \n",
       "\n",
       "                     occupation  \n",
       "0                           NaN  \n",
       "1                           NaN  \n",
       "2                           NaN  \n",
       "3                           NaN  \n",
       "4                           NaN  \n",
       "...                         ...  \n",
       "1459705              film actor  \n",
       "1459706  middle-distance runner  \n",
       "1459707     steeplechase runner  \n",
       "1459708                     NaN  \n",
       "1459709                     NaN  \n",
       "\n",
       "[1459710 rows x 9 columns]"
      ]
     },
     "execution_count": 15,
     "metadata": {},
     "output_type": "execute_result"
    }
   ],
   "source": [
    "merged_labels"
   ]
  },
  {
   "cell_type": "markdown",
   "metadata": {},
   "source": [
    "### Exploring data on occupation of speaker"
   ]
  },
  {
   "cell_type": "code",
   "execution_count": 16,
   "metadata": {},
   "outputs": [
    {
     "name": "stdout",
     "output_type": "stream",
     "text": [
      "We have 1419 different occupations in our sample\n"
     ]
    }
   ],
   "source": [
    "print('We have {} different occupations in our sample'.format(len(merged_labels.occupation.unique())))"
   ]
  },
  {
   "cell_type": "markdown",
   "metadata": {},
   "source": [
    "Let's try to keep only those that relate to politics for example. For that we have to relate the profession to **politics**. "
   ]
  },
  {
   "cell_type": "code",
   "execution_count": 17,
   "metadata": {},
   "outputs": [
    {
     "name": "stdout",
     "output_type": "stream",
     "text": [
      "politician -> politician\n",
      "politics -> polit\n",
      "policy -> polici\n"
     ]
    }
   ],
   "source": [
    "#Importing required modules\n",
    "from nltk.stem.porter import PorterStemmer\n",
    " \n",
    "#Creating the class object\n",
    "stemmer = PorterStemmer()\n",
    " \n",
    "#words to stem\n",
    "words = ['politician', 'politics', 'policy']\n",
    " \n",
    "#Stemming the words\n",
    "for word in words:\n",
    "    print(word+' -> '+ stemmer.stem(word))"
   ]
  },
  {
   "cell_type": "markdown",
   "metadata": {},
   "source": [
    "### Analyzing the sample"
   ]
  },
  {
   "cell_type": "markdown",
   "metadata": {},
   "source": [
    "**Who has the most quotes?**"
   ]
  },
  {
   "cell_type": "code",
   "execution_count": 18,
   "metadata": {},
   "outputs": [
    {
     "data": {
      "text/html": [
       "<div>\n",
       "<style scoped>\n",
       "    .dataframe tbody tr th:only-of-type {\n",
       "        vertical-align: middle;\n",
       "    }\n",
       "\n",
       "    .dataframe tbody tr th {\n",
       "        vertical-align: top;\n",
       "    }\n",
       "\n",
       "    .dataframe thead th {\n",
       "        text-align: right;\n",
       "    }\n",
       "</style>\n",
       "<table border=\"1\" class=\"dataframe\">\n",
       "  <thead>\n",
       "    <tr style=\"text-align: right;\">\n",
       "      <th></th>\n",
       "      <th></th>\n",
       "      <th>count</th>\n",
       "    </tr>\n",
       "    <tr>\n",
       "      <th>qids</th>\n",
       "      <th>speaker</th>\n",
       "      <th></th>\n",
       "    </tr>\n",
       "  </thead>\n",
       "  <tbody>\n",
       "    <tr>\n",
       "      <th>Q6294</th>\n",
       "      <th>Hillary Clinton</th>\n",
       "      <td>24822</td>\n",
       "    </tr>\n",
       "    <tr>\n",
       "      <th>Q22237</th>\n",
       "      <th>Amy Klobuchar</th>\n",
       "      <td>22362</td>\n",
       "    </tr>\n",
       "    <tr>\n",
       "      <th>Q43723</th>\n",
       "      <th>Benjamin Netanyahu</th>\n",
       "      <td>18264</td>\n",
       "    </tr>\n",
       "    <tr>\n",
       "      <th>Q55800</th>\n",
       "      <th>Oprah Winfrey</th>\n",
       "      <td>18160</td>\n",
       "    </tr>\n",
       "    <tr>\n",
       "      <th>Q432473</th>\n",
       "      <th>Melania Trump</th>\n",
       "      <td>10992</td>\n",
       "    </tr>\n",
       "    <tr>\n",
       "      <th>...</th>\n",
       "      <th>...</th>\n",
       "      <td>...</td>\n",
       "    </tr>\n",
       "    <tr>\n",
       "      <th>Q45430702</th>\n",
       "      <th>Zhu Jiang</th>\n",
       "      <td>1</td>\n",
       "    </tr>\n",
       "    <tr>\n",
       "      <th>Q21427269</th>\n",
       "      <th>Daniel Fernandez</th>\n",
       "      <td>1</td>\n",
       "    </tr>\n",
       "    <tr>\n",
       "      <th>Q56425228</th>\n",
       "      <th>David king</th>\n",
       "      <td>1</td>\n",
       "    </tr>\n",
       "    <tr>\n",
       "      <th>Q56426163</th>\n",
       "      <th>Jenny Owen</th>\n",
       "      <td>1</td>\n",
       "    </tr>\n",
       "    <tr>\n",
       "      <th>Q50144501</th>\n",
       "      <th>Paul smith</th>\n",
       "      <td>1</td>\n",
       "    </tr>\n",
       "  </tbody>\n",
       "</table>\n",
       "<p>37436 rows × 1 columns</p>\n",
       "</div>"
      ],
      "text/plain": [
       "                              count\n",
       "qids      speaker                  \n",
       "Q6294     Hillary Clinton     24822\n",
       "Q22237    Amy Klobuchar       22362\n",
       "Q43723    Benjamin Netanyahu  18264\n",
       "Q55800    Oprah Winfrey       18160\n",
       "Q432473   Melania Trump       10992\n",
       "...                             ...\n",
       "Q45430702 Zhu Jiang               1\n",
       "Q21427269 Daniel Fernandez        1\n",
       "Q56425228 David king              1\n",
       "Q56426163 Jenny Owen              1\n",
       "Q50144501 Paul smith              1\n",
       "\n",
       "[37436 rows x 1 columns]"
      ]
     },
     "execution_count": 18,
     "metadata": {},
     "output_type": "execute_result"
    }
   ],
   "source": [
    "grouped_speakers = retrieved_sample.groupby(by=['qids', 'speaker'])['quotation'].agg(['count'])\n",
    "grouped_speakers.sort_values(by='count', ascending=False)"
   ]
  },
  {
   "cell_type": "code",
   "execution_count": null,
   "metadata": {},
   "outputs": [],
   "source": []
  },
  {
   "cell_type": "markdown",
   "metadata": {
    "tags": []
   },
   "source": [
    "## Replacing speaker attributes wikidata qids with their labels"
   ]
  },
  {
   "cell_type": "markdown",
   "metadata": {},
   "source": [
    "Since speaker attributes are only described by their qids, we need replace them by their labels to get their actual meaning. For that\n",
    "we're going to need the wikidata, and the following code shows an example of doing it."
   ]
  },
  {
   "cell_type": "code",
   "execution_count": 19,
   "metadata": {},
   "outputs": [
    {
     "data": {
      "text/html": [
       "<div>\n",
       "<style scoped>\n",
       "    .dataframe tbody tr th:only-of-type {\n",
       "        vertical-align: middle;\n",
       "    }\n",
       "\n",
       "    .dataframe tbody tr th {\n",
       "        vertical-align: top;\n",
       "    }\n",
       "\n",
       "    .dataframe thead th {\n",
       "        text-align: right;\n",
       "    }\n",
       "</style>\n",
       "<table border=\"1\" class=\"dataframe\">\n",
       "  <thead>\n",
       "    <tr style=\"text-align: right;\">\n",
       "      <th></th>\n",
       "      <th>date_of_birth</th>\n",
       "      <th>nationality</th>\n",
       "      <th>gender</th>\n",
       "      <th>party</th>\n",
       "      <th>academic_degree</th>\n",
       "      <th>religion</th>\n",
       "    </tr>\n",
       "  </thead>\n",
       "  <tbody>\n",
       "    <tr>\n",
       "      <th>1</th>\n",
       "      <td>1946</td>\n",
       "      <td>United States of America</td>\n",
       "      <td>male</td>\n",
       "      <td>Republican Party</td>\n",
       "      <td>Bachelor of Science</td>\n",
       "      <td>Presbyterianism</td>\n",
       "    </tr>\n",
       "    <tr>\n",
       "      <th>2</th>\n",
       "      <td>1974</td>\n",
       "      <td>United States of America</td>\n",
       "      <td>male</td>\n",
       "      <td>Democratic Party</td>\n",
       "      <td>High school</td>\n",
       "      <td>Roman Catholic</td>\n",
       "    </tr>\n",
       "  </tbody>\n",
       "</table>\n",
       "</div>"
      ],
      "text/plain": [
       "   date_of_birth               nationality gender             party  \\\n",
       "1           1946  United States of America   male  Republican Party   \n",
       "2           1974  United States of America   male  Democratic Party   \n",
       "\n",
       "       academic_degree         religion  \n",
       "1  Bachelor of Science  Presbyterianism  \n",
       "2          High school   Roman Catholic  "
      ]
     },
     "metadata": {},
     "output_type": "display_data"
    },
    {
     "data": {
      "text/plain": [
       "array([[1946,    0,    0,    1,    0,    0],\n",
       "       [1974,    0,    0,    0,    1,    1]], dtype=int64)"
      ]
     },
     "metadata": {},
     "output_type": "display_data"
    }
   ],
   "source": [
    "from datetime import datetime\n",
    "\n",
    "def create_features_set(QIDs, attributes_name):\n",
    "    '''\n",
    "    Creates the features dataset.\n",
    "    :param QIDs: Pandas Series with the Wikidata ids of each speaker.\n",
    "    :param attributes_name: the list of feature attributes that we're going to use for the regression\n",
    "    :return: Pandas DataFrame with the attributes used as variables (one per column).\n",
    "    '''\n",
    "    speaker_attr = df_speakers[df_speakers.index.isin(QIDs.tolist())]\n",
    "\n",
    "    attributes = {}\n",
    "    for attribute_name in attributes_name:\n",
    "        if (attribute_name != 'date_of_birth'):\n",
    "\n",
    "            attr_qids = speaker_attr[attribute_name].apply(lambda x: None if type(x) is type(None) else x[-1]) # TODO: HOW TO CHOOSE THE QIDS (PER ATTRIBUTE) WHEN THERE ARE MULTIPLES (E.G. WHEN HAVING MULTIPLE POLITICAL PARTIES)?\n",
    "            attr = df_wikidata_labels['Label'].reindex(attr_qids)\n",
    "\n",
    "            if (attribute_name == 'academic_degree'):\n",
    "                attr.fillna(value='High school', inplace=True)\n",
    "\n",
    "        else:\n",
    "            attr = speaker_attr[attribute_name].apply(lambda x: datetime.strptime(x[0], '+%Y-%m-%dT%H:%M:%S%z').year)\n",
    "\n",
    "        attributes[attribute_name] = attr.tolist()\n",
    "\n",
    "    feature_set = (pd.DataFrame(attributes)).dropna()\n",
    "    obj_columns = feature_set.select_dtypes(['object']).columns\n",
    "    feature_set[obj_columns] = feature_set[obj_columns].astype('category')\n",
    "\n",
    "    return feature_set\n",
    "\n",
    "\n",
    "# TODO: REMOVE (USED FOR TESTING)\n",
    "qids = pd.Series(['Q38111', 'Q17714', 'Q22686'])\n",
    "attr_names = ['date_of_birth', 'nationality', 'gender', 'party', 'academic_degree', 'religion']\n",
    "\n",
    "df3 = create_features_set(qids, attr_names)\n",
    "#df3.to_pickle('dataX.pkl')\n",
    "display(df3.head())\n",
    "\n",
    "cat_columns = df3.select_dtypes(['category']).columns\n",
    "df3[cat_columns] = df3[cat_columns].apply(lambda x: x.cat.codes) \n",
    "x = df3.to_numpy()\n",
    "display(x)\n"
   ]
  },
  {
   "cell_type": "markdown",
   "metadata": {
    "id": "6RYnFIFRMu2N"
   },
   "source": [
    "# 2. Topic labeling\n",
    "\n",
    "Zero shot classficiation using the transformers library and BART model"
   ]
  },
  {
   "cell_type": "code",
   "execution_count": 20,
   "metadata": {
    "id": "MAyQBjjBNB35"
   },
   "outputs": [],
   "source": [
    "#!pip install pytorch\n",
    "#!pip install tensorflow\n",
    "#!pip install transformers"
   ]
  },
  {
   "cell_type": "code",
   "execution_count": 21,
   "metadata": {
    "id": "yQ6_Md3SNOgi"
   },
   "outputs": [],
   "source": [
    "import transformers\n",
    "#import json \n",
    "import os\n",
    "import torch"
   ]
  },
  {
   "cell_type": "code",
   "execution_count": 22,
   "metadata": {
    "id": "_MURMAXPOCAs"
   },
   "outputs": [
    {
     "name": "stderr",
     "output_type": "stream",
     "text": [
      "Some weights of the model checkpoint at xlnet-base-cased were not used when initializing XLNetForSequenceClassification: ['lm_loss.bias', 'lm_loss.weight']\n",
      "- This IS expected if you are initializing XLNetForSequenceClassification from the checkpoint of a model trained on another task or with another architecture (e.g. initializing a BertForSequenceClassification model from a BertForPreTraining model).\n",
      "- This IS NOT expected if you are initializing XLNetForSequenceClassification from the checkpoint of a model that you expect to be exactly identical (initializing a BertForSequenceClassification model from a BertForSequenceClassification model).\n",
      "Some weights of XLNetForSequenceClassification were not initialized from the model checkpoint at xlnet-base-cased and are newly initialized: ['logits_proj.bias', 'sequence_summary.summary.bias', 'logits_proj.weight', 'sequence_summary.summary.weight']\n",
      "You should probably TRAIN this model on a down-stream task to be able to use it for predictions and inference.\n",
      "Failed to determine 'entailment' label id from the label2id mapping in the model config. Setting to -1. Define a descriptive label2id mapping in the model config to ensure correct outputs.\n"
     ]
    }
   ],
   "source": [
    "# Loading the model\n",
    "classifier = transformers.pipeline('zero-shot-classification',model='xlnet-base-cased')"
   ]
  },
  {
   "cell_type": "code",
   "execution_count": 23,
   "metadata": {
    "id": "HeRgdxrMNWCo"
   },
   "outputs": [],
   "source": [
    "# Define the attributes that belong to a certain topic and are used for classification\n",
    "labels_climate = ['climate','pollution','waste','dirty','ozone','warming','temperature']\n",
    "hypothesis_template = 'This text is about {}.' # what the model should do"
   ]
  },
  {
   "cell_type": "code",
   "execution_count": 24,
   "metadata": {
    "id": "OZRDMqPDNaJo"
   },
   "outputs": [],
   "source": [
    "def get_labels(data,labels,score_thresh):\n",
    "    N = len(data)\n",
    "    results = []\n",
    "    for i in range(N):\n",
    "        quote = data[i]['quotation']\n",
    "        prediction = classifier(quote, labels, hypothesis_template=hypothesis_template, multi_label=True)\n",
    "        score = np.mean(prediction['scores'])\n",
    "        if score > score_thresh:\n",
    "            results.append(score,1) # 1 for that the quote deals with the defined topic\n",
    "        else:\n",
    "            results.append(score,0) # 0 for that the quote does not deal with the topic\n",
    "        \n",
    "    return results\n"
   ]
  },
  {
   "cell_type": "markdown",
   "metadata": {
    "id": "yxPRQUJJOVnU"
   },
   "source": [
    "# 3. Logistic Regression Pipeline"
   ]
  },
  {
   "cell_type": "code",
   "execution_count": 25,
   "metadata": {
    "id": "-dOIuZlVOYFy"
   },
   "outputs": [],
   "source": [
    "# TODO"
   ]
  },
  {
   "cell_type": "markdown",
   "metadata": {
    "id": "GSkFf8KrYhe9"
   },
   "source": [
    "# 4. Data Analysis"
   ]
  },
  {
   "cell_type": "code",
   "execution_count": 26,
   "metadata": {
    "id": "UcmTE2huYkBz",
    "tags": []
   },
   "outputs": [],
   "source": [
    "# TODO"
   ]
  },
  {
   "cell_type": "markdown",
   "metadata": {
    "id": "sG4gXVibYkcT"
   },
   "source": [
    "# 5. Data Visualization & Results"
   ]
  },
  {
   "cell_type": "code",
   "execution_count": 27,
   "metadata": {
    "id": "SEIlksmVYqgU"
   },
   "outputs": [],
   "source": [
    "# TODO"
   ]
  },
  {
   "cell_type": "markdown",
   "metadata": {
    "id": "ccqDszkcYrdc"
   },
   "source": [
    "# 6. Conclusions and Interpretation"
   ]
  },
  {
   "cell_type": "code",
   "execution_count": 28,
   "metadata": {
    "id": "33y-ujP5Yt_o"
   },
   "outputs": [],
   "source": [
    "# TODO"
   ]
  }
 ],
 "metadata": {
  "colab": {
   "collapsed_sections": [],
   "name": "milestone_2_example.ipynb",
   "provenance": []
  },
  "kernelspec": {
   "display_name": "Python 3 (ipykernel)",
   "language": "python",
   "name": "python3"
  },
  "language_info": {
   "codemirror_mode": {
    "name": "ipython",
    "version": 3
   },
   "file_extension": ".py",
   "mimetype": "text/x-python",
   "name": "python",
   "nbconvert_exporter": "python",
   "pygments_lexer": "ipython3",
   "version": "3.8.11"
  }
 },
 "nbformat": 4,
 "nbformat_minor": 4
}
