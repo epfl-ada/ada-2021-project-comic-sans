{
 "cells": [
  {
   "cell_type": "markdown",
   "metadata": {},
   "source": [
    "# Setup"
   ]
  },
  {
   "cell_type": "code",
   "execution_count": 12,
   "metadata": {},
   "outputs": [],
   "source": [
    "PATH_ROOT = 'data'\n",
    "PATH_PARQUET = PATH_ROOT + '/project_datasets'\n",
    "PATH_QUOTEBANK = PATH_ROOT + '/Quotebank'\n",
    "PATH_TO_QUOTES = PATH_QUOTEBANK + '/quotes-{year}.json.bz2'"
   ]
  },
  {
   "cell_type": "code",
   "execution_count": 13,
   "metadata": {},
   "outputs": [],
   "source": [
    "PATH_OUTPUT = 'output'"
   ]
  },
  {
   "cell_type": "code",
   "execution_count": 14,
   "metadata": {},
   "outputs": [
    {
     "name": "stdout",
     "output_type": "stream",
     "text": [
      "Requirement already satisfied: pyarrow in c:\\users\\steph\\miniconda3\\envs\\ada\\lib\\site-packages (6.0.0)\n",
      "Requirement already satisfied: numpy>=1.16.6 in c:\\users\\steph\\miniconda3\\envs\\ada\\lib\\site-packages (from pyarrow) (1.20.3)\n"
     ]
    }
   ],
   "source": [
    "!pip install pyarrow"
   ]
  },
  {
   "cell_type": "code",
   "execution_count": 15,
   "metadata": {
    "id": "2ciQy6i9jOp-"
   },
   "outputs": [],
   "source": [
    "import pandas as pd\n",
    "import numpy as np\n",
    "import seaborn as sns"
   ]
  },
  {
   "cell_type": "markdown",
   "metadata": {},
   "source": [
    "# Loading Data"
   ]
  },
  {
   "cell_type": "markdown",
   "metadata": {
    "id": "aZEhusKde0oI"
   },
   "source": [
    "## Reading wikidata labels"
   ]
  },
  {
   "cell_type": "code",
   "execution_count": 16,
   "metadata": {
    "colab": {
     "base_uri": "https://localhost:8080/",
     "height": 447
    },
    "id": "nu5mKlTCfEaA",
    "outputId": "650af35b-3663-4848-ab54-ef59e4834f8d"
   },
   "outputs": [],
   "source": [
    "df_wikidata_labels = pd.read_csv(PATH_PARQUET + '/wikidata_labels_descriptions_quotebank.csv.bz2', compression='bz2', index_col='QID')"
   ]
  },
  {
   "cell_type": "markdown",
   "metadata": {
    "id": "UnZ3lLf41f_P"
   },
   "source": [
    "## Reading speakers parquet file"
   ]
  },
  {
   "cell_type": "code",
   "execution_count": 17,
   "metadata": {
    "colab": {
     "base_uri": "https://localhost:8080/",
     "height": 576
    },
    "id": "F4U_W5Fe1n0g",
    "outputId": "c7c1cc47-56d8-4e7e-c74a-cc075d7889cb"
   },
   "outputs": [],
   "source": [
    "df_speakers = pd.read_parquet(PATH_PARQUET + '/speaker_attributes.parquet')\n",
    "df_speakers.set_index(keys='id', inplace=True)"
   ]
  },
  {
   "cell_type": "markdown",
   "metadata": {
    "id": "ipVshYnHKcAG",
    "tags": []
   },
   "source": [
    "# Handling data"
   ]
  },
  {
   "cell_type": "markdown",
   "metadata": {},
   "source": [
    "The quotes dataset is too big to process in memory at once. Here we define a method that generates a sample of speakers from the wikidata dump, along with attributes that interest us, that describe these speakers.\n",
    "Then we get their corresponding quotes from the quotebank."
   ]
  },
  {
   "cell_type": "markdown",
   "metadata": {},
   "source": [
    "## Replacing speaker attributes wikidata qids with their labels"
   ]
  },
  {
   "cell_type": "code",
   "execution_count": null,
   "metadata": {},
   "outputs": [],
   "source": [
    "# TODO"
   ]
  },
  {
   "cell_type": "markdown",
   "metadata": {},
   "source": [
    "## Generating samples"
   ]
  },
  {
   "cell_type": "code",
   "execution_count": 18,
   "metadata": {},
   "outputs": [],
   "source": [
    "def generate_quotes_sample(number_of_samples=10000, year=2020,\n",
    "                           quotes_columns=['quoteID', 'quotation', 'speaker', 'qids'],\n",
    "                           speakers_columns=['date_of_birth]):\n",
    "    '''\n",
    "    Generate a sample of speakers with their attributes to their quotes.\n",
    "    \n",
    "    Some quotes have multiple qids for the speaker (for example multiple speakers with the same name).\n",
    "    We use pandas explode to treat quotes with multiple qids as a separate quote by each of the speakers.\n",
    "    '''\n",
    "    speakers_sample = df_parquet.sample(n=number_of_samples)[speakers_columns]\n",
    "    \n",
    "    merged_chunks = []\n",
    "\n",
    "    with pd.read_json(path_or_buf=PATH_TO_QUOTES.format(year=year), compression='bz2', lines=True, chunksize=500000) as df_reader:\n",
    "        for chunk in df_reader:\n",
    "            # filter the columns\n",
    "            chunk = chunk[quotes_columns]\n",
    "            # TODO: filter quotes with None speaker?\n",
    "\n",
    "            # Some quote have multiple speaker qids. need to explode that and treat them each as a separate quote\n",
    "            chunk = chunk.explode('qids')\n",
    "            merged_chunks.append(chunk.merge(right=speakers_sample, right_index=True, left_on='qids'))\n",
    "\n",
    "    sample = pd.concat(merged_chunks, ignore_index=True)\n",
    "    return sample"
   ]
  },
  {
   "cell_type": "code",
   "execution_count": 19,
   "metadata": {},
   "outputs": [
    {
     "data": {
      "text/html": [
       "<div>\n",
       "<style scoped>\n",
       "    .dataframe tbody tr th:only-of-type {\n",
       "        vertical-align: middle;\n",
       "    }\n",
       "\n",
       "    .dataframe tbody tr th {\n",
       "        vertical-align: top;\n",
       "    }\n",
       "\n",
       "    .dataframe thead th {\n",
       "        text-align: right;\n",
       "    }\n",
       "</style>\n",
       "<table border=\"1\" class=\"dataframe\">\n",
       "  <thead>\n",
       "    <tr style=\"text-align: right;\">\n",
       "      <th></th>\n",
       "      <th>quoteID</th>\n",
       "      <th>quotation</th>\n",
       "      <th>speaker</th>\n",
       "      <th>qids</th>\n",
       "      <th>date_of_birth</th>\n",
       "      <th>gender</th>\n",
       "      <th>party</th>\n",
       "      <th>religion</th>\n",
       "    </tr>\n",
       "  </thead>\n",
       "  <tbody>\n",
       "    <tr>\n",
       "      <th>0</th>\n",
       "      <td>2020-03-26-054930</td>\n",
       "      <td>That is being done in other jurisdictions thro...</td>\n",
       "      <td>Bruce Anderson</td>\n",
       "      <td>Q56253811</td>\n",
       "      <td>[+1998-09-23T00:00:00Z]</td>\n",
       "      <td>[Q6581097]</td>\n",
       "      <td>None</td>\n",
       "      <td>None</td>\n",
       "    </tr>\n",
       "    <tr>\n",
       "      <th>1</th>\n",
       "      <td>2020-03-25-007352</td>\n",
       "      <td>At this point in time we don't have any eviden...</td>\n",
       "      <td>Bruce Anderson</td>\n",
       "      <td>Q56253811</td>\n",
       "      <td>[+1998-09-23T00:00:00Z]</td>\n",
       "      <td>[Q6581097]</td>\n",
       "      <td>None</td>\n",
       "      <td>None</td>\n",
       "    </tr>\n",
       "    <tr>\n",
       "      <th>2</th>\n",
       "      <td>2020-03-09-071113</td>\n",
       "      <td>We have not yet had any cases of COVID-19 that...</td>\n",
       "      <td>Bruce Anderson</td>\n",
       "      <td>Q56253811</td>\n",
       "      <td>[+1998-09-23T00:00:00Z]</td>\n",
       "      <td>[Q6581097]</td>\n",
       "      <td>None</td>\n",
       "      <td>None</td>\n",
       "    </tr>\n",
       "    <tr>\n",
       "      <th>3</th>\n",
       "      <td>2020-04-01-041759</td>\n",
       "      <td>No one should assume that because they don't l...</td>\n",
       "      <td>Bruce Anderson</td>\n",
       "      <td>Q56253811</td>\n",
       "      <td>[+1998-09-23T00:00:00Z]</td>\n",
       "      <td>[Q6581097]</td>\n",
       "      <td>None</td>\n",
       "      <td>None</td>\n",
       "    </tr>\n",
       "    <tr>\n",
       "      <th>4</th>\n",
       "      <td>2020-02-05-095650</td>\n",
       "      <td>They are going to be well. We just need to ens...</td>\n",
       "      <td>Bruce Anderson</td>\n",
       "      <td>Q56253811</td>\n",
       "      <td>[+1998-09-23T00:00:00Z]</td>\n",
       "      <td>[Q6581097]</td>\n",
       "      <td>None</td>\n",
       "      <td>None</td>\n",
       "    </tr>\n",
       "    <tr>\n",
       "      <th>...</th>\n",
       "      <td>...</td>\n",
       "      <td>...</td>\n",
       "      <td>...</td>\n",
       "      <td>...</td>\n",
       "      <td>...</td>\n",
       "      <td>...</td>\n",
       "      <td>...</td>\n",
       "      <td>...</td>\n",
       "    </tr>\n",
       "    <tr>\n",
       "      <th>6943</th>\n",
       "      <td>2020-01-11-009004</td>\n",
       "      <td>First, buy a good piece of meat,</td>\n",
       "      <td>Marcus Wareing</td>\n",
       "      <td>Q6758522</td>\n",
       "      <td>[+1970-06-29T00:00:00Z]</td>\n",
       "      <td>[Q6581097]</td>\n",
       "      <td>None</td>\n",
       "      <td>None</td>\n",
       "    </tr>\n",
       "    <tr>\n",
       "      <th>6944</th>\n",
       "      <td>2020-01-10-044528</td>\n",
       "      <td>It just popped out, babes, casual,</td>\n",
       "      <td>Johannes Radebe</td>\n",
       "      <td>Q56044093</td>\n",
       "      <td>[+1987-04-27T00:00:00Z]</td>\n",
       "      <td>[Q6581097]</td>\n",
       "      <td>None</td>\n",
       "      <td>None</td>\n",
       "    </tr>\n",
       "    <tr>\n",
       "      <th>6945</th>\n",
       "      <td>2020-01-24-001828</td>\n",
       "      <td>a missed chance in the fight against antisemit...</td>\n",
       "      <td>Sabine Müller</td>\n",
       "      <td>Q50225700</td>\n",
       "      <td>None</td>\n",
       "      <td>[Q6581072]</td>\n",
       "      <td>None</td>\n",
       "      <td>None</td>\n",
       "    </tr>\n",
       "    <tr>\n",
       "      <th>6946</th>\n",
       "      <td>2020-03-11-030202</td>\n",
       "      <td>If you're cancelling in Tokyo because the epid...</td>\n",
       "      <td>Neal Pilson</td>\n",
       "      <td>Q6984170</td>\n",
       "      <td>[+1940-04-18T00:00:00Z]</td>\n",
       "      <td>[Q6581097]</td>\n",
       "      <td>None</td>\n",
       "      <td>None</td>\n",
       "    </tr>\n",
       "    <tr>\n",
       "      <th>6947</th>\n",
       "      <td>2020-02-17-068611</td>\n",
       "      <td>They are still my only bankers, so I haven't u...</td>\n",
       "      <td>Ian Cook</td>\n",
       "      <td>Q45329659</td>\n",
       "      <td>None</td>\n",
       "      <td>[Q6581097]</td>\n",
       "      <td>None</td>\n",
       "      <td>None</td>\n",
       "    </tr>\n",
       "  </tbody>\n",
       "</table>\n",
       "<p>6948 rows × 8 columns</p>\n",
       "</div>"
      ],
      "text/plain": [
       "                quoteID                                          quotation  \\\n",
       "0     2020-03-26-054930  That is being done in other jurisdictions thro...   \n",
       "1     2020-03-25-007352  At this point in time we don't have any eviden...   \n",
       "2     2020-03-09-071113  We have not yet had any cases of COVID-19 that...   \n",
       "3     2020-04-01-041759  No one should assume that because they don't l...   \n",
       "4     2020-02-05-095650  They are going to be well. We just need to ens...   \n",
       "...                 ...                                                ...   \n",
       "6943  2020-01-11-009004                   First, buy a good piece of meat,   \n",
       "6944  2020-01-10-044528                 It just popped out, babes, casual,   \n",
       "6945  2020-01-24-001828  a missed chance in the fight against antisemit...   \n",
       "6946  2020-03-11-030202  If you're cancelling in Tokyo because the epid...   \n",
       "6947  2020-02-17-068611  They are still my only bankers, so I haven't u...   \n",
       "\n",
       "              speaker       qids            date_of_birth      gender party  \\\n",
       "0      Bruce Anderson  Q56253811  [+1998-09-23T00:00:00Z]  [Q6581097]  None   \n",
       "1      Bruce Anderson  Q56253811  [+1998-09-23T00:00:00Z]  [Q6581097]  None   \n",
       "2      Bruce Anderson  Q56253811  [+1998-09-23T00:00:00Z]  [Q6581097]  None   \n",
       "3      Bruce Anderson  Q56253811  [+1998-09-23T00:00:00Z]  [Q6581097]  None   \n",
       "4      Bruce Anderson  Q56253811  [+1998-09-23T00:00:00Z]  [Q6581097]  None   \n",
       "...               ...        ...                      ...         ...   ...   \n",
       "6943   Marcus Wareing   Q6758522  [+1970-06-29T00:00:00Z]  [Q6581097]  None   \n",
       "6944  Johannes Radebe  Q56044093  [+1987-04-27T00:00:00Z]  [Q6581097]  None   \n",
       "6945    Sabine Müller  Q50225700                     None  [Q6581072]  None   \n",
       "6946      Neal Pilson   Q6984170  [+1940-04-18T00:00:00Z]  [Q6581097]  None   \n",
       "6947         Ian Cook  Q45329659                     None  [Q6581097]  None   \n",
       "\n",
       "     religion  \n",
       "0        None  \n",
       "1        None  \n",
       "2        None  \n",
       "3        None  \n",
       "4        None  \n",
       "...       ...  \n",
       "6943     None  \n",
       "6944     None  \n",
       "6945     None  \n",
       "6946     None  \n",
       "6947     None  \n",
       "\n",
       "[6948 rows x 8 columns]"
      ]
     },
     "execution_count": 19,
     "metadata": {},
     "output_type": "execute_result"
    }
   ],
   "source": [
    "# We choose the column features we are interested in \n",
    "quotes_filter_columns = ['quoteID', 'quotation', 'speaker', 'qids']\n",
    "speaker_attributes_filter_columns = ['date_of_birth', 'gender', 'party', 'religion']\n",
    "\n",
    "sample = generate_quotes_sample(quotes_columns=quotes_filter_columns, speakers_columns=speaker_attributes_filter_columns)\n",
    "sample"
   ]
  },
  {
   "cell_type": "code",
   "execution_count": 21,
   "metadata": {},
   "outputs": [],
   "source": [
    "# Save to csv\n",
    "sample.to_csv(path_or_buf=PATH_OUTPUT + '/speakers_quotes_1000_samples.csv', index=False)"
   ]
  },
  {
   "cell_type": "markdown",
   "metadata": {},
   "source": [
    "## Analyzing the sample"
   ]
  },
  {
   "cell_type": "markdown",
   "metadata": {},
   "source": [
    "**Who has the most quotes?**"
   ]
  },
  {
   "cell_type": "code",
   "execution_count": 41,
   "metadata": {},
   "outputs": [
    {
     "data": {
      "text/html": [
       "<div>\n",
       "<style scoped>\n",
       "    .dataframe tbody tr th:only-of-type {\n",
       "        vertical-align: middle;\n",
       "    }\n",
       "\n",
       "    .dataframe tbody tr th {\n",
       "        vertical-align: top;\n",
       "    }\n",
       "\n",
       "    .dataframe thead th {\n",
       "        text-align: right;\n",
       "    }\n",
       "</style>\n",
       "<table border=\"1\" class=\"dataframe\">\n",
       "  <thead>\n",
       "    <tr style=\"text-align: right;\">\n",
       "      <th></th>\n",
       "      <th></th>\n",
       "      <th>count</th>\n",
       "    </tr>\n",
       "    <tr>\n",
       "      <th>qids</th>\n",
       "      <th>speaker</th>\n",
       "      <th></th>\n",
       "    </tr>\n",
       "  </thead>\n",
       "  <tbody>\n",
       "    <tr>\n",
       "      <th>Q4961017</th>\n",
       "      <th>Brendan Murphy</th>\n",
       "      <td>1522</td>\n",
       "    </tr>\n",
       "    <tr>\n",
       "      <th>Q6397512</th>\n",
       "      <th>Kevin Smith</th>\n",
       "      <td>488</td>\n",
       "    </tr>\n",
       "    <tr>\n",
       "      <th>Q56253811</th>\n",
       "      <th>Bruce Anderson</th>\n",
       "      <td>393</td>\n",
       "    </tr>\n",
       "    <tr>\n",
       "      <th>Q558189</th>\n",
       "      <th>Kapil Dev</th>\n",
       "      <td>248</td>\n",
       "    </tr>\n",
       "    <tr>\n",
       "      <th>Q24577530</th>\n",
       "      <th>Mark Thompson</th>\n",
       "      <td>240</td>\n",
       "    </tr>\n",
       "    <tr>\n",
       "      <th>...</th>\n",
       "      <th>...</th>\n",
       "      <td>...</td>\n",
       "    </tr>\n",
       "    <tr>\n",
       "      <th>Q45442459</th>\n",
       "      <th>Shen Yan</th>\n",
       "      <td>1</td>\n",
       "    </tr>\n",
       "    <tr>\n",
       "      <th>Q56809258</th>\n",
       "      <th>Shahrukh Ali</th>\n",
       "      <td>1</td>\n",
       "    </tr>\n",
       "    <tr>\n",
       "      <th>Q16466635</th>\n",
       "      <th>Emil Chynn</th>\n",
       "      <td>1</td>\n",
       "    </tr>\n",
       "    <tr>\n",
       "      <th>Q45502627</th>\n",
       "      <th>Huang Cheng</th>\n",
       "      <td>1</td>\n",
       "    </tr>\n",
       "    <tr>\n",
       "      <th>Q52835466</th>\n",
       "      <th>Tim Couch</th>\n",
       "      <td>1</td>\n",
       "    </tr>\n",
       "  </tbody>\n",
       "</table>\n",
       "<p>363 rows × 1 columns</p>\n",
       "</div>"
      ],
      "text/plain": [
       "                          count\n",
       "qids      speaker              \n",
       "Q4961017  Brendan Murphy   1522\n",
       "Q6397512  Kevin Smith       488\n",
       "Q56253811 Bruce Anderson    393\n",
       "Q558189   Kapil Dev         248\n",
       "Q24577530 Mark Thompson     240\n",
       "...                         ...\n",
       "Q45442459 Shen Yan            1\n",
       "Q56809258 Shahrukh Ali        1\n",
       "Q16466635 Emil Chynn          1\n",
       "Q45502627 Huang Cheng         1\n",
       "Q52835466 Tim Couch           1\n",
       "\n",
       "[363 rows x 1 columns]"
      ]
     },
     "execution_count": 41,
     "metadata": {},
     "output_type": "execute_result"
    }
   ],
   "source": [
    "grouped_speakers = sample.groupby(by=['qids', 'speaker'])['quotation'].agg(['count'])\n",
    "grouped_speakers.sort_values(by='count', ascending=False)"
   ]
  },
  {
   "cell_type": "markdown",
   "metadata": {
    "id": "yUBg3jADSUFd"
   },
   "source": [
    "# Extracting topics from quotes (2020) \n",
    "\n",
    "When processing by chunks, do the cleaning and extract topics on the quotes directly"
   ]
  },
  {
   "cell_type": "code",
   "execution_count": null,
   "metadata": {
    "id": "GMHUrl3TZf3I"
   },
   "outputs": [],
   "source": []
  }
 ],
 "metadata": {
  "colab": {
   "collapsed_sections": [],
   "name": "milestone_2_example.ipynb",
   "provenance": []
  },
  "kernelspec": {
   "display_name": "Python 3 (ipykernel)",
   "language": "python",
   "name": "python3"
  },
  "language_info": {
   "codemirror_mode": {
    "name": "ipython",
    "version": 3
   },
   "file_extension": ".py",
   "mimetype": "text/x-python",
   "name": "python",
   "nbconvert_exporter": "python",
   "pygments_lexer": "ipython3",
   "version": "3.8.11"
  }
 },
 "nbformat": 4,
 "nbformat_minor": 4
}
