{
 "cells": [
  {
   "cell_type": "markdown",
   "id": "2a0d3d6f-9b36-4dde-80a9-d5e5d20d2220",
   "metadata": {},
   "source": [
    "# Setup"
   ]
  },
  {
   "cell_type": "code",
   "execution_count": null,
   "id": "6058f870-f5c3-4c36-913f-70adb4db697b",
   "metadata": {},
   "outputs": [],
   "source": [
    "PATH_ROOT = 'data'\n",
    "PATH_PARQUET = PATH_ROOT + '/project_datasets'"
   ]
  },
  {
   "cell_type": "code",
   "execution_count": null,
   "id": "97d34a54-7cd0-4156-8fc7-710d91443983",
   "metadata": {},
   "outputs": [],
   "source": [
    "PATH_OUTPUT = 'output'"
   ]
  },
  {
   "cell_type": "code",
   "execution_count": null,
   "id": "da7c311a-cb35-4cae-8991-b009fd4b58cb",
   "metadata": {},
   "outputs": [],
   "source": [
    "!pip install pyarrow"
   ]
  },
  {
   "cell_type": "code",
   "execution_count": null,
   "id": "f40ddfdd-d913-41ad-bcff-c6ea6e50cbe3",
   "metadata": {
    "id": "2ciQy6i9jOp-"
   },
   "outputs": [],
   "source": [
    "%load_ext autoreload\n",
    "%autoreload 2\n",
    "\n",
    "import pandas as pd\n",
    "import numpy as np\n",
    "import seaborn as sns\n",
    "\n",
    "#NLP libraries\n",
    "import spacy, nltk, gensim, sklearn\n",
    "import pyLDAvis.gensim_models\n",
    "\n",
    "import matplotlib.pyplot as plt\n",
    "%matplotlib inline \n",
    "\n",
    "import pickle"
   ]
  },
  {
   "cell_type": "markdown",
   "id": "81461c2f-5974-4bbd-a52a-5965372a76d0",
   "metadata": {},
   "source": [
    "# 1. Loading speakers data"
   ]
  },
  {
   "cell_type": "markdown",
   "id": "c8eeb782-384a-4a73-8172-b0d7892474f6",
   "metadata": {
    "id": "aZEhusKde0oI",
    "tags": []
   },
   "source": [
    "## Reading wikidata labels"
   ]
  },
  {
   "cell_type": "code",
   "execution_count": null,
   "id": "c8203205-d3d4-4ec1-8baf-b518a6feb010",
   "metadata": {
    "colab": {
     "base_uri": "https://localhost:8080/",
     "height": 447
    },
    "id": "nu5mKlTCfEaA",
    "outputId": "650af35b-3663-4848-ab54-ef59e4834f8d",
    "tags": []
   },
   "outputs": [],
   "source": [
    "df_wikidata_labels = pd.read_csv(PATH_PARQUET + '/wikidata_labels_descriptions_quotebank.csv.bz2', compression='bz2', index_col='QID')\n",
    "df_wikidata_labels.head()"
   ]
  },
  {
   "cell_type": "markdown",
   "id": "e405dc0b-06fc-4d0c-b55e-746318be1582",
   "metadata": {
    "id": "UnZ3lLf41f_P"
   },
   "source": [
    "## Reading speakers parquet file"
   ]
  },
  {
   "cell_type": "code",
   "execution_count": null,
   "id": "b0e809c6-fbcd-4681-b9e3-bc650dcf1480",
   "metadata": {
    "colab": {
     "base_uri": "https://localhost:8080/",
     "height": 576
    },
    "id": "F4U_W5Fe1n0g",
    "outputId": "c7c1cc47-56d8-4e7e-c74a-cc075d7889cb",
    "tags": []
   },
   "outputs": [],
   "source": [
    "df_speakers_original = pd.read_parquet(PATH_PARQUET + '/speaker_attributes.parquet')\n",
    "df_speakers_original.set_index(keys='id', inplace=True)\n",
    "df_speakers_original.head()"
   ]
  },
  {
   "cell_type": "code",
   "execution_count": null,
   "id": "7977a48c-2876-459c-8b08-0b017dadea0b",
   "metadata": {},
   "outputs": [],
   "source": [
    "df_speakers_cleaned = df_speakers_original.dropna()\n",
    "print('Total number of speakers : ', len(df_speakers))\n",
    "print('Total number of speakers with filled attributes : ', len(df_speakers_cleaned))\n",
    "print('{} rows dropped'.format(len(df_speakers) - len(df_speakers_cleaned)))"
   ]
  },
  {
   "cell_type": "markdown",
   "id": "c9318a92-b7e5-4a4a-9548-21f233f4081d",
   "metadata": {},
   "source": [
    "As we can see that dropping all speakers with undefined attributes is unrealistic to work with, since we're only left with 3 speakers with all their attributes defined to work with. We're going to have to some fine-grained filtering of undefined values column wise instead of on whole rows (all attributes)."
   ]
  },
  {
   "cell_type": "markdown",
   "id": "65e18d8b-0569-4ecc-929d-e509eb546f9f",
   "metadata": {},
   "source": [
    "## 2 - Merging all speakers attributes qids with wikidata labels"
   ]
  },
  {
   "cell_type": "markdown",
   "id": "d214a8b1-1130-44a3-9a73-9f1894da7c0d",
   "metadata": {},
   "source": [
    "Some columns store their values as lists, such as a speaker who has multiple occupations or nationalities. We need to explode those so that we have a row for each unique value in each column."
   ]
  },
  {
   "cell_type": "code",
   "execution_count": null,
   "id": "e5e313f1-885c-4c7d-a036-0a27c72a3bd6",
   "metadata": {},
   "outputs": [],
   "source": [
    "attributes_columns_to_be_labeled = ['nationality', 'gender', 'ethnic_group', 'occupation', 'party', 'academic_degree', 'candidacy', 'religion']\n",
    "\n",
    "# Let's first explode their attributes\n",
    "for col in attributes_columns_to_be_labeled:\n",
    "    df_speakers = df_speakers.explode(col)\n",
    "    \n",
    "# Let's also explode the date of birth\n",
    "df_speakers = df_speakers.explode('date_of_birth')\n",
    "    \n",
    "# Keep old id and 'qid' column of speakers, and reset index\n",
    "df_speakers = df_speakers.reset_index()\n",
    "df_speakers = df_speakers.rename({'id': 'qid'}, axis = 'columns')\n",
    "df_speakers"
   ]
  },
  {
   "cell_type": "markdown",
   "id": "cf67f8f7-cea2-4892-8372-981c962ec1fa",
   "metadata": {},
   "source": [
    "#### Quick stop before proceeding: determining speaker's age"
   ]
  },
  {
   "cell_type": "markdown",
   "id": "0d25c6aa-3900-4a92-aa1f-2d58d798bb32",
   "metadata": {},
   "source": [
    "Before we continue, we need to convert the date of birth to something meaningful like the speaker's age. To avoid tedious computations using *datetime* and carefully considering none values on the month and day of birth, we're only going to approximate the age by doing calculations **based only on the year of birth** (which is good enough for our purposes)."
   ]
  },
  {
   "cell_type": "code",
   "execution_count": null,
   "id": "32a08dc3-9838-4921-876e-93aa471a8340",
   "metadata": {},
   "outputs": [],
   "source": [
    "def get_year_of_birth(date):\n",
    "    '''\n",
    "    Helper function to extract the year of birth of the speaker from the format we're given.\n",
    "    \n",
    "    Params:\n",
    "        date: the date of birth in the given format (e.g. '+1732-02-22T00:00:00Z')\n",
    "    Returns:\n",
    "        the year of birth\n",
    "    '''\n",
    "    if date:\n",
    "        return int(date[1:5])\n",
    "    else:\n",
    "        return date\n",
    "    \n",
    "test_data = '+1732-02-22T00:00:00Z'\n",
    "get_year_of_birth(test_data)"
   ]
  },
  {
   "cell_type": "code",
   "execution_count": null,
   "id": "b5bee232-69cf-45b6-bfe7-8a9225e48594",
   "metadata": {},
   "outputs": [],
   "source": [
    "# Normalize date of birth into a new column 'age' in which we'll calculate the age of the speaker\n",
    "df_speakers['age'] = df_speakers.date_of_birth.apply(get_year_of_birth)\n",
    "df_speakers.age.head()"
   ]
  },
  {
   "cell_type": "code",
   "execution_count": null,
   "id": "bea19bb6-7c8e-40db-971e-b62031995fa6",
   "metadata": {},
   "outputs": [],
   "source": [
    "# Calculate the age by computing the difference between now and their birth dates.\n",
    "now = pd.Timestamp('now')\n",
    "df_speakers.age = (now.year - df_speakers.age)\n",
    "df_speakers.age.head()"
   ]
  },
  {
   "cell_type": "markdown",
   "id": "ef30f0fd-d577-45bb-bf3d-ebb25ac5bcd6",
   "metadata": {},
   "source": [
    "Of course ages are just indicative, we can have people like president George Washington who are over 200 years old."
   ]
  },
  {
   "cell_type": "markdown",
   "id": "229d9596-a5e6-4bb4-bd03-b810213930bf",
   "metadata": {},
   "source": [
    "#### Let's also categorize each speaker by their age group"
   ]
  },
  {
   "cell_type": "markdown",
   "id": "7a5de057-aace-4faa-8c26-4d1dbbb606d5",
   "metadata": {},
   "source": [
    "For example, are they in their 20s, 30s or 70s."
   ]
  },
  {
   "cell_type": "code",
   "execution_count": null,
   "id": "2ba09c4c-5aaf-4f5a-904d-54691ee9a88d",
   "metadata": {},
   "outputs": [],
   "source": [
    "def get_age_group(age):\n",
    "    '''\n",
    "    Return the age group based on the age as a string. For people between 10 and 100 years old\n",
    "    we just keep the tens of the value (e.g. 75 -> '70s', 20 -> '20s'). \n",
    "    For people more than 100 years old we output '>100'\n",
    "    For people less than 10 years old we output '<10'\n",
    "    \n",
    "    Params:\n",
    "        age: the age\n",
    "    Returns \n",
    "        the age group in string format\n",
    "    '''\n",
    "    if age is None or np.isnan(age):\n",
    "        return age\n",
    "    elif age < 10:\n",
    "        return '<10'\n",
    "    elif age > 100 :\n",
    "        return '>100'\n",
    "    else:\n",
    "        return str(int(age / 10) * 10) + 's'\n",
    "\n",
    "df_speakers['age_group'] = df_speakers.age.apply(get_age_group)\n",
    "df_speakers.age_group"
   ]
  },
  {
   "cell_type": "code",
   "execution_count": null,
   "id": "b0b0b431-eec6-42e3-837f-da63a9b2a4ec",
   "metadata": {},
   "outputs": [],
   "source": [
    "df_speakers[df_speakers.label == 'Donald Trump'][['date_of_birth', 'age', 'age_group']]"
   ]
  },
  {
   "cell_type": "markdown",
   "id": "f809cc0e-0e6d-4643-90b7-e593aeee7503",
   "metadata": {},
   "source": [
    "#### Now let's merge attributes with their wikidata labels"
   ]
  },
  {
   "cell_type": "code",
   "execution_count": null,
   "id": "29a5f1e0-82c2-42cc-abca-ef48df169e6f",
   "metadata": {},
   "outputs": [],
   "source": [
    "df_speakers_labeled = df_speakers.copy()\n",
    "\n",
    "for col in attributes_columns_to_be_labeled:\n",
    "    df_speakers_labeled = df_speakers_labeled.merge(df_wikidata_labels, left_on=col, right_index=True, how='left')\n",
    "    df_speakers_labeled[col] = df_speakers_labeled['Label']\n",
    "    df_speakers_labeled.drop(columns=['Label', 'Description'], inplace=True)\n",
    "\n",
    "df_speakers_labeled"
   ]
  },
  {
   "cell_type": "markdown",
   "id": "7eaf5d7d-35d1-4e6f-9105-bfe027b16cb4",
   "metadata": {},
   "source": [
    "Now we have a row per speaker for every combination of his attributes. This might be biased for speakers with a lot of attributes (e.g. several occupations, ethnic_group, etc...)."
   ]
  },
  {
   "cell_type": "code",
   "execution_count": null,
   "id": "f790ca35-41f7-4cee-aeae-a6e6d072f23f",
   "metadata": {},
   "outputs": [],
   "source": [
    "display(df_speakers_labeled.dtypes)\n",
    "print('Length of final labeled speakers dataframe {}'.format(len(df_speakers_labeled)))"
   ]
  },
  {
   "cell_type": "markdown",
   "id": "2a8c3feb-f9cd-48d5-b6c9-2cd2753047aa",
   "metadata": {
    "tags": []
   },
   "source": [
    "# Extras"
   ]
  },
  {
   "cell_type": "markdown",
   "id": "03258348-01c5-48af-8f3e-c75bd8f3ce70",
   "metadata": {
    "tags": []
   },
   "source": [
    "There is **one important issue** we haven't addressed yet. For each speaker, We have **exploded all their attributes** so that each row contains attributes that have only one value in them (so not a list). However, for speakers with several attributes that have multiple values in them (e.g. a speaker with several occupations and several genders, etc...) **the explosion of one attribute may affect the overall distribution in the original data of another attribute**. For example, a speaker in the original data that has as *gender* 'transexual' and as *occupation* both 'politician' and 'basketball player', will appear twice in the final exploded dataframe, once as 'politician' and once as 'basketball player', however in both rows he will be 'transexual' and this means 'transexual' will be counted twice, meaning the distribution of gender in the final dataframe will not be the same as the one in the original dataframe.  \n",
    "\n",
    "So the answer is yes: distributions will differ but by how much and will it affect the final result greatly?\n",
    "Let's do some analysis and try to compare for example for *occupation*. We will compare the speakers data where we exploded only 'occupation' and the one where we exploded all attributes."
   ]
  },
  {
   "cell_type": "code",
   "execution_count": null,
   "id": "0bd91bd9-1377-4660-836e-e7bc9eeb61e4",
   "metadata": {},
   "outputs": [],
   "source": [
    "# Top 10 occupations in the dataframe where we exploded all attributes \n",
    "grouped_by_occupations = retrieved_labeled_speakers.groupby(by='occupation').label.agg(['count'])\n",
    "grouped_by_occupations = grouped_by_occupations.sort_values(by='count', ascending=False)\n",
    "grouped_by_occupations.head(n=10)"
   ]
  },
  {
   "cell_type": "code",
   "execution_count": null,
   "id": "03c0b2e4-eedd-4798-8887-6b936ceeccd8",
   "metadata": {},
   "outputs": [],
   "source": [
    "# Retrieve the original speakers data\n",
    "original_speakers_df = pd.read_parquet(PATH_PARQUET + '/speaker_attributes.parquet')\n",
    "original_speakers_df.set_index(keys='id', inplace=True)\n",
    "original_speakers_df"
   ]
  },
  {
   "cell_type": "code",
   "execution_count": null,
   "id": "cd662de0-581b-4580-a7ac-6c52cbe35cb2",
   "metadata": {},
   "outputs": [],
   "source": [
    "# Let's only explode the attribute we're comparing here (occupation)\n",
    "original_speakers_df = original_speakers_df.explode('occupation')\n",
    "# Let's merge again on the occupation column\n",
    "original_speakers_df = original_speakers_df.merge(df_wikidata_labels, left_on='occupation', right_index=True, how='left')\n",
    "original_speakers_df['occupation'] = original_speakers_df['Label']\n",
    "original_speakers_df.drop(columns=['Label'], inplace=True)\n",
    "\n",
    "display(original_speakers_df)\n",
    "\n",
    "# sort the occupations to get the top occupations\n",
    "original_grouped_by_occupations = original_speakers_df.groupby(by='occupation').label.agg(['count'])\n",
    "original_grouped_by_occupations = original_grouped_by_occupations.sort_values(by='count', ascending=False)"
   ]
  },
  {
   "cell_type": "code",
   "execution_count": null,
   "id": "9646d474-5f36-44c0-9dfc-f85961b1e503",
   "metadata": {},
   "outputs": [],
   "source": [
    "# Compare the distribution of the top 20 occupations between both dataframes\n",
    "fig, (ax1, ax2) = plt.subplots(nrows=1, ncols=2, figsize =  (14, 8))\n",
    "ax1.pie(grouped_by_occupations[:10]['count'], labels=grouped_by_occupations[:10].index, autopct='%1.1f%%',\n",
    "        shadow=True, startangle=90)\n",
    "ax1.set_title('Distribution of occupations after exploding all attributes')\n",
    "\n",
    "ax2.pie(original_grouped_by_occupations[:10]['count'], labels=grouped_by_occupations[:10].index, autopct='%1.1f%%',\n",
    "        shadow=True, startangle=90)\n",
    "ax2.set_title('Distribution of occupations after exploding occupation only')\n",
    "\n",
    "fig.tight_layout()"
   ]
  },
  {
   "cell_type": "markdown",
   "id": "9c34ee92-8efd-4c32-bd4e-85bf4b0056be",
   "metadata": {},
   "source": [
    "We can see that the distribution may more or less change, but the top 10 occupations stay the same and maintain the same order. However **since we only exploded *occupation*** the right chart represents the real distribution of occupations."
   ]
  },
  {
   "cell_type": "markdown",
   "id": "52dbc5d4-875f-4022-b57c-9653f930320e",
   "metadata": {
    "jupyter": {
     "source_hidden": true
    },
    "tags": []
   },
   "source": [
    "**So the final rule of thumb is**: only explode attributes that we're using as features or doing analysis on, to minimize distortions in the original distributions."
   ]
  },
  {
   "cell_type": "markdown",
   "id": "a14f087d-65ec-46c3-abc6-78782b63bafd",
   "metadata": {},
   "source": [
    "## 3 - Save result to disk for quick future retrieval"
   ]
  },
  {
   "cell_type": "code",
   "execution_count": null,
   "id": "2728789a-9e88-467d-8f26-6582141e41af",
   "metadata": {},
   "outputs": [],
   "source": [
    "df_speakers_labeled.to_csv(PATH_OUTPUT + '/speakers_all_attributes_labeled.csv', index=False)"
   ]
  },
  {
   "cell_type": "code",
   "execution_count": null,
   "id": "e51546b1-9c5d-4a73-b585-ffa5db57ad96",
   "metadata": {},
   "outputs": [],
   "source": [
    "# Save the dtypes of the speakers labeled. This should help when reading them in csv knowing their dtypes\n",
    "speakers_labeled_dtypes = dict(df_speakers_labeled.dtypes)\n",
    "\n",
    "with open('output/speakers_all_attributes_labeled_dtypes.pickle', 'wb') as handle:\n",
    "    pickle.dump(speakers_labeled_dtypes, handle, protocol=pickle.HIGHEST_PROTOCOL)"
   ]
  },
  {
   "cell_type": "markdown",
   "id": "60765e7a-9558-4eff-8794-08f1d7119a73",
   "metadata": {},
   "source": [
    "## 4 - Explore the speakers data (Continue work from here)"
   ]
  },
  {
   "cell_type": "markdown",
   "id": "b5487205-916a-4c5a-9617-e1472d33aa08",
   "metadata": {},
   "source": [
    "Let's do some quick analysis on the speakers' professions. First retrieve our dataframe saved in csv."
   ]
  },
  {
   "cell_type": "code",
   "execution_count": null,
   "id": "0f6d3a22-6c73-4af9-a8d1-8c53b1a48ecb",
   "metadata": {},
   "outputs": [],
   "source": [
    "# Retrieve the labeled speakers dataframe columns datatypes\n",
    "with open('output/speakers_all_attributes_labeled_dtypes.pickle', 'rb') as handle:\n",
    "    speakers_labeled_dtypes = pickle.load(handle)"
   ]
  },
  {
   "cell_type": "code",
   "execution_count": null,
   "id": "b85b91c2-1243-411e-87ae-11022c9935e1",
   "metadata": {},
   "outputs": [],
   "source": [
    "retrieved_labeled_speakers = pd.read_csv(PATH_OUTPUT + '/speakers_all_attributes_labeled.csv', dtype=speakers_labeled_dtypes)\n",
    "retrieved_labeled_speakers"
   ]
  },
  {
   "cell_type": "code",
   "execution_count": null,
   "id": "030cc9ab-94b2-409d-b511-fc9f73e87649",
   "metadata": {},
   "outputs": [],
   "source": [
    "display(retrieved_labeled_speakers.dtypes)\n",
    "print('Length of final labeled speakers dataframe {}'.format(len(retrieved_labeled_speakers)))"
   ]
  },
  {
   "cell_type": "markdown",
   "id": "8ab987aa-d942-426a-bd6f-6029072faf1d",
   "metadata": {},
   "source": [
    "### 4.1 - Speakers occupations"
   ]
  },
  {
   "cell_type": "markdown",
   "id": "39f46565-8d6b-40fc-86d0-edc23d88703a",
   "metadata": {},
   "source": [
    "Now let's see the distribution of the speakers' occupations."
   ]
  },
  {
   "cell_type": "code",
   "execution_count": null,
   "id": "f914dc8c-baef-418d-8d97-b0f455017fed",
   "metadata": {},
   "outputs": [],
   "source": [
    "grouped_by_occupations = retrieved_labeled_speakers.groupby(by='occupation').label.agg(['count'])\n",
    "grouped_by_occupations = grouped_by_occupations.sort_values(by='count', ascending=False)\n",
    "grouped_by_occupations.head(n=10)"
   ]
  },
  {
   "cell_type": "code",
   "execution_count": null,
   "id": "4f8ce4d2-5564-45c1-8741-215c440b915f",
   "metadata": {},
   "outputs": [],
   "source": [
    "# Plot the distribution of the top 20 occupations\n",
    "fig, ax = plt.subplots(figsize =  (14, 8))\n",
    "ax.pie(grouped_by_occupations[:20]['count'], labels=grouped_by_occupations[:20].index, autopct='%1.1f%%',\n",
    "        shadow=True, startangle=90)\n",
    "\n",
    "fig.tight_layout()"
   ]
  },
  {
   "cell_type": "markdown",
   "id": "af479e23-9353-4ff8-a359-42fdb92bd475",
   "metadata": {},
   "source": [
    "Someone like Donald Trump has a lot of occupations, which means he's going to have a lot of rows dedicated to him in the dataframe, since we exploded the multi-values attributes. (This can be **problematic when training our model**)"
   ]
  },
  {
   "cell_type": "code",
   "execution_count": null,
   "id": "1839c939-0e34-420c-9fcb-151081c32c12",
   "metadata": {},
   "outputs": [],
   "source": [
    "# Some examples of prominent US politicans\n",
    "display(retrieved_labeled_speakers[retrieved_labeled_speakers.label == 'Donald Trump'].occupation.unique())\n",
    "display(retrieved_labeled_speakers[retrieved_labeled_speakers.label == 'Barack Obama'].occupation.unique())\n",
    "display(retrieved_labeled_speakers[retrieved_labeled_speakers.label == 'Alexandria Ocasio-Cortez'].occupation.unique())\n",
    "display(retrieved_labeled_speakers[retrieved_labeled_speakers.label == 'Hillary Clinton'].occupation.unique())\n",
    "display(retrieved_labeled_speakers[retrieved_labeled_speakers.label == 'Bill Clinton'].occupation.unique())"
   ]
  },
  {
   "cell_type": "markdown",
   "id": "6b32cc68-72da-4a1d-9824-ec916b319487",
   "metadata": {},
   "source": [
    "### 4.2 - Speaker's gender "
   ]
  },
  {
   "cell_type": "code",
   "execution_count": null,
   "id": "028ee509-9661-4696-b28e-1825484b41fe",
   "metadata": {},
   "outputs": [],
   "source": [
    "grouped_by_gender = retrieved_labeled_speakers.groupby(by='gender').label.agg(['count'])\n",
    "grouped_by_gender = grouped_by_gender.sort_values(by='count', ascending=False)\n",
    "grouped_by_gender.head()"
   ]
  },
  {
   "cell_type": "code",
   "execution_count": null,
   "id": "699a6e32-b1dd-44fe-a29a-d3e7228f41f2",
   "metadata": {},
   "outputs": [],
   "source": [
    "not_male_mask = grouped_by_gender.index != 'male' \n",
    "not_female_mask = grouped_by_gender.index != 'female'\n",
    "len(grouped_by_gender[not_male_mask & not_female_mask]) / len(grouped_by_gender)"
   ]
  },
  {
   "cell_type": "markdown",
   "id": "6d55d188-417c-44c4-81a7-f6ead8822c51",
   "metadata": {},
   "source": [
    "The majority of speakers in the Quotebank are male (almost 70%). All other genders consitute about 5% of the speakers. So if we were to encode gender as features, we would have ['male', 'female', 'other'] where 'other' refers to the rest of the genders."
   ]
  },
  {
   "cell_type": "markdown",
   "id": "6ec4a96c-1505-4111-9524-f93de79c85df",
   "metadata": {},
   "source": [
    "### 4.3 - Speaker's age"
   ]
  },
  {
   "cell_type": "markdown",
   "id": "5cbdbf92-c9dc-4597-85a0-c0c433176cf6",
   "metadata": {},
   "source": [
    "So far we've had the speakers date of birth. Let's convert that to age."
   ]
  },
  {
   "cell_type": "code",
   "execution_count": null,
   "id": "fd57a8b1-c986-455d-9870-3e14d0e4bbc1",
   "metadata": {},
   "outputs": [],
   "source": [
    "# TODO\n",
    "#sns.histplot(retrieved_labeled_speakers.age.dropna(axis='columns'))"
   ]
  },
  {
   "cell_type": "markdown",
   "id": "7cd10655-1341-4533-85ba-9dcda463e941",
   "metadata": {},
   "source": [
    "### 4.4 - Speaker's party"
   ]
  },
  {
   "cell_type": "code",
   "execution_count": null,
   "id": "5ec4cbcc-3751-46d0-974a-ed4d775b9f27",
   "metadata": {},
   "outputs": [],
   "source": [
    "print('There are {} parties recorded for the speakers'.format(len(retrieved_labeled_speakers.party.unique())))\n",
    "\n",
    "top_10_parties = retrieved_labeled_speakers.groupby(by='party').label.agg(['count'])\n",
    "top_10_parties = top_10_parties.sort_values(by='count', ascending=False).head(n=10)\n",
    "top_10_parties"
   ]
  },
  {
   "cell_type": "markdown",
   "id": "c96100f9-aacc-4a06-bf7e-e3f1d064832e",
   "metadata": {},
   "source": [
    "### 4.5 - Speaker's nationality"
   ]
  },
  {
   "cell_type": "code",
   "execution_count": null,
   "id": "47af08f9-18f1-411c-8cfc-30744a73b86c",
   "metadata": {},
   "outputs": [],
   "source": [
    "print('There are {} nationalities recorded for the speakers'.format(len(retrieved_labeled_speakers.nationality.unique())))\n",
    "top_10_nationalities = retrieved_labeled_speakers.groupby(by='nationality').label.agg(['count'])\n",
    "top_10_nationalities = top_10_nationalities.sort_values(by='count', ascending=False).head(n=10)\n",
    "top_10_nationalities"
   ]
  },
  {
   "cell_type": "markdown",
   "id": "d2f68cc2-58c5-4284-b976-08b24a07f0dc",
   "metadata": {},
   "source": [
    "## 5 - Constructing a feature matrix"
   ]
  },
  {
   "cell_type": "markdown",
   "id": "8722ea97-2526-4cfc-934e-054122aa5322",
   "metadata": {},
   "source": [
    "If we're trying to train a model using our speakers attributes, we're going to have to think of a way to construct a feature matrix. The issue is a lot of the attributes of the speakers are categorical. "
   ]
  },
  {
   "cell_type": "markdown",
   "id": "f21746a3-ffb4-4e4a-a150-c43d6b6aaa09",
   "metadata": {},
   "source": [
    "Here some pointers so that we could construct the feature matrix:\n",
    "- Use a subset of the attributes as feature columns e.g. let's train our model using the speaker's gender, age (or age_group), nationality, occupation and party.\n",
    "- Each attribute has a very large number of unique values. We could retain the top unique values (not a very good approach, especially if they're more or less uniformly distributed). \n",
    "- We have to find a way to encode them. (https://towardsdatascience.com/smarter-ways-to-encode-categorical-data-for-machine-learning-part-1-of-3-6dca2f71b159w)"
   ]
  },
  {
   "cell_type": "code",
   "execution_count": null,
   "id": "d8c1d663-a637-49e5-81d5-93fddc7f7aba",
   "metadata": {},
   "outputs": [],
   "source": []
  },
  {
   "cell_type": "markdown",
   "id": "061294f4-b77c-409c-b063-c1812b0d07c0",
   "metadata": {
    "tags": []
   },
   "source": [
    "# Extras"
   ]
  },
  {
   "cell_type": "markdown",
   "id": "ceea993b-4c33-435c-97fe-9eb308b12e82",
   "metadata": {},
   "source": [
    "There is **one important issue** we haven't addressed yet. For each speaker, We have **exploded all their attributes** so that each row contains attributes that have only one value in them (so not a list). However, for speakers with several attributes that have multiple values in them (e.g. a speaker with several occupations and several genders, etc...) **the explosion of one attribute may affect the overall distribution in the original data of another attribute**. For example, a speaker in the original data that has as *gender* 'transexual' and as *occupation* both 'politician' and 'basketball player', will appear twice in the final exploded dataframe, once as 'politician' and once as 'basketball player', however in both rows he will be 'transexual' and this means 'transexual' will be counted twice, meaning the distribution of gender in the final dataframe will not be the same as the one in the original dataframe.  \n",
    "\n",
    "So the answer is yes: distributions will differ but by how much and will it affect the final result greatly?\n",
    "Let's do some analysis and try to compare for example for *occupation*. We will compare the speakers data where we exploded only 'occupation' and the one where we exploded all attributes."
   ]
  },
  {
   "cell_type": "code",
   "execution_count": null,
   "id": "e214c667-10ec-4198-99df-dd85c882e956",
   "metadata": {},
   "outputs": [],
   "source": [
    "# Top 10 occupations in the dataframe where we exploded all attributes \n",
    "grouped_by_occupations = retrieved_labeled_speakers.groupby(by='occupation').label.agg(['count'])\n",
    "grouped_by_occupations = grouped_by_occupations.sort_values(by='count', ascending=False)\n",
    "grouped_by_occupations.head(n=10)"
   ]
  },
  {
   "cell_type": "code",
   "execution_count": null,
   "id": "cc1c18e8-41f4-4581-868f-327520b63940",
   "metadata": {},
   "outputs": [],
   "source": [
    "# Retrieve the original speakers data\n",
    "original_speakers_df = pd.read_parquet(PATH_PARQUET + '/speaker_attributes.parquet')\n",
    "original_speakers_df.set_index(keys='id', inplace=True)\n",
    "original_speakers_df"
   ]
  },
  {
   "cell_type": "code",
   "execution_count": null,
   "id": "1f7e8797-2c65-44f9-93ac-d779964da8ca",
   "metadata": {},
   "outputs": [],
   "source": [
    "# Let's only explode the attribute we're comparing here (occupation)\n",
    "original_speakers_df = original_speakers_df.explode('occupation')\n",
    "# Let's merge again on the occupation column\n",
    "original_speakers_df = original_speakers_df.merge(df_wikidata_labels, left_on='occupation', right_index=True, how='left')\n",
    "original_speakers_df['occupation'] = original_speakers_df['Label']\n",
    "original_speakers_df.drop(columns=['Label'], inplace=True)\n",
    "\n",
    "display(original_speakers_df)\n",
    "\n",
    "# sort the occupations to get the top occupations\n",
    "original_grouped_by_occupations = original_speakers_df.groupby(by='occupation').label.agg(['count'])\n",
    "original_grouped_by_occupations = original_grouped_by_occupations.sort_values(by='count', ascending=False)"
   ]
  },
  {
   "cell_type": "code",
   "execution_count": null,
   "id": "d1ba7b14-145b-40ff-95f8-c6e80a55e696",
   "metadata": {},
   "outputs": [],
   "source": [
    "# Compare the distribution of the top 20 occupations between both dataframes\n",
    "fig, (ax1, ax2) = plt.subplots(nrows=1, ncols=2, figsize =  (14, 8))\n",
    "ax1.pie(grouped_by_occupations[:10]['count'], labels=grouped_by_occupations[:10].index, autopct='%1.1f%%',\n",
    "        shadow=True, startangle=90)\n",
    "ax1.set_title('Distribution of occupations after exploding all attributes')\n",
    "\n",
    "ax2.pie(original_grouped_by_occupations[:10]['count'], labels=grouped_by_occupations[:10].index, autopct='%1.1f%%',\n",
    "        shadow=True, startangle=90)\n",
    "ax2.set_title('Distribution of occupations after exploding occupation only')\n",
    "\n",
    "fig.tight_layout()"
   ]
  },
  {
   "cell_type": "markdown",
   "id": "d2b0756e-116c-4538-9948-1c09c829bf09",
   "metadata": {},
   "source": [
    "We can see that the distribution may more or less change, but the top 10 occupations stay the same and maintain the same order. However **since we only exploded *occupation*** the right chart represents the real distribution of occupations."
   ]
  },
  {
   "cell_type": "markdown",
   "id": "bc353fd9-602f-4bf4-b6f7-86384420a127",
   "metadata": {},
   "source": [
    "**So the final rule of thumb is**: only explode attributes that we're using as features or doing analysis on, to minimize distortions in the original distributions."
   ]
  }
 ],
 "metadata": {
  "kernelspec": {
   "display_name": "Python 3 (ipykernel)",
   "language": "python",
   "name": "python3"
  },
  "language_info": {
   "codemirror_mode": {
    "name": "ipython",
    "version": 3
   },
   "file_extension": ".py",
   "mimetype": "text/x-python",
   "name": "python",
   "nbconvert_exporter": "python",
   "pygments_lexer": "ipython3",
   "version": "3.8.11"
  }
 },
 "nbformat": 4,
 "nbformat_minor": 5
}
