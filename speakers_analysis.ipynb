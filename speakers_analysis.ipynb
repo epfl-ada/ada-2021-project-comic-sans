{
 "cells": [
  {
   "cell_type": "markdown",
   "id": "2a0d3d6f-9b36-4dde-80a9-d5e5d20d2220",
   "metadata": {},
   "source": [
    "# Setup"
   ]
  },
  {
   "cell_type": "code",
   "execution_count": 1,
   "id": "6058f870-f5c3-4c36-913f-70adb4db697b",
   "metadata": {},
   "outputs": [],
   "source": [
    "PATH_ROOT = 'data'\n",
    "PATH_PARQUET = PATH_ROOT + '/project_datasets'"
   ]
  },
  {
   "cell_type": "code",
   "execution_count": 2,
   "id": "97d34a54-7cd0-4156-8fc7-710d91443983",
   "metadata": {},
   "outputs": [],
   "source": [
    "PATH_OUTPUT = 'output'"
   ]
  },
  {
   "cell_type": "code",
   "execution_count": 3,
   "id": "da7c311a-cb35-4cae-8991-b009fd4b58cb",
   "metadata": {},
   "outputs": [
    {
     "name": "stdout",
     "output_type": "stream",
     "text": [
      "Requirement already satisfied: pyarrow in c:\\users\\steph\\miniconda3\\envs\\ada\\lib\\site-packages (6.0.0)\n",
      "Requirement already satisfied: numpy>=1.16.6 in c:\\users\\steph\\miniconda3\\envs\\ada\\lib\\site-packages (from pyarrow) (1.20.3)\n"
     ]
    }
   ],
   "source": [
    "!pip install pyarrow"
   ]
  },
  {
   "cell_type": "code",
   "execution_count": 4,
   "id": "f40ddfdd-d913-41ad-bcff-c6ea6e50cbe3",
   "metadata": {
    "id": "2ciQy6i9jOp-"
   },
   "outputs": [
    {
     "name": "stderr",
     "output_type": "stream",
     "text": [
      "C:\\Users\\steph\\miniconda3\\envs\\ada\\lib\\site-packages\\gensim\\similarities\\__init__.py:15: UserWarning: The gensim.similarities.levenshtein submodule is disabled, because the optional Levenshtein package <https://pypi.org/project/python-Levenshtein/> is unavailable. Install Levenhstein (e.g. `pip install python-Levenshtein`) to suppress this warning.\n",
      "  warnings.warn(msg)\n"
     ]
    }
   ],
   "source": [
    "%load_ext autoreload\n",
    "%autoreload 2\n",
    "\n",
    "import pandas as pd\n",
    "import numpy as np\n",
    "import seaborn as sns\n",
    "\n",
    "#NLP libraries\n",
    "import spacy, nltk, gensim, sklearn\n",
    "import pyLDAvis.gensim_models\n",
    "\n",
    "import matplotlib.pyplot as plt\n",
    "%matplotlib inline  "
   ]
  },
  {
   "cell_type": "markdown",
   "id": "81461c2f-5974-4bbd-a52a-5965372a76d0",
   "metadata": {},
   "source": [
    "# 1. Loading speakers data"
   ]
  },
  {
   "cell_type": "markdown",
   "id": "c8eeb782-384a-4a73-8172-b0d7892474f6",
   "metadata": {
    "id": "aZEhusKde0oI",
    "tags": []
   },
   "source": [
    "## Reading wikidata labels"
   ]
  },
  {
   "cell_type": "code",
   "execution_count": 5,
   "id": "c8203205-d3d4-4ec1-8baf-b518a6feb010",
   "metadata": {
    "colab": {
     "base_uri": "https://localhost:8080/",
     "height": 447
    },
    "id": "nu5mKlTCfEaA",
    "outputId": "650af35b-3663-4848-ab54-ef59e4834f8d",
    "tags": []
   },
   "outputs": [
    {
     "data": {
      "text/html": [
       "<div>\n",
       "<style scoped>\n",
       "    .dataframe tbody tr th:only-of-type {\n",
       "        vertical-align: middle;\n",
       "    }\n",
       "\n",
       "    .dataframe tbody tr th {\n",
       "        vertical-align: top;\n",
       "    }\n",
       "\n",
       "    .dataframe thead th {\n",
       "        text-align: right;\n",
       "    }\n",
       "</style>\n",
       "<table border=\"1\" class=\"dataframe\">\n",
       "  <thead>\n",
       "    <tr style=\"text-align: right;\">\n",
       "      <th></th>\n",
       "      <th>Label</th>\n",
       "      <th>Description</th>\n",
       "    </tr>\n",
       "    <tr>\n",
       "      <th>QID</th>\n",
       "      <th></th>\n",
       "      <th></th>\n",
       "    </tr>\n",
       "  </thead>\n",
       "  <tbody>\n",
       "    <tr>\n",
       "      <th>Q31</th>\n",
       "      <td>Belgium</td>\n",
       "      <td>country in western Europe</td>\n",
       "    </tr>\n",
       "    <tr>\n",
       "      <th>Q45</th>\n",
       "      <td>Portugal</td>\n",
       "      <td>country in southwestern Europe</td>\n",
       "    </tr>\n",
       "    <tr>\n",
       "      <th>Q75</th>\n",
       "      <td>Internet</td>\n",
       "      <td>global system of connected computer networks</td>\n",
       "    </tr>\n",
       "    <tr>\n",
       "      <th>Q148</th>\n",
       "      <td>People's Republic of China</td>\n",
       "      <td>sovereign state in East Asia</td>\n",
       "    </tr>\n",
       "    <tr>\n",
       "      <th>Q155</th>\n",
       "      <td>Brazil</td>\n",
       "      <td>country in South America</td>\n",
       "    </tr>\n",
       "  </tbody>\n",
       "</table>\n",
       "</div>"
      ],
      "text/plain": [
       "                           Label                                   Description\n",
       "QID                                                                           \n",
       "Q31                      Belgium                     country in western Europe\n",
       "Q45                     Portugal                country in southwestern Europe\n",
       "Q75                     Internet  global system of connected computer networks\n",
       "Q148  People's Republic of China                  sovereign state in East Asia\n",
       "Q155                      Brazil                      country in South America"
      ]
     },
     "execution_count": 5,
     "metadata": {},
     "output_type": "execute_result"
    }
   ],
   "source": [
    "df_wikidata_labels = pd.read_csv(PATH_PARQUET + '/wikidata_labels_descriptions_quotebank.csv.bz2', compression='bz2', index_col='QID')\n",
    "df_wikidata_labels.head()"
   ]
  },
  {
   "cell_type": "markdown",
   "id": "e405dc0b-06fc-4d0c-b55e-746318be1582",
   "metadata": {
    "id": "UnZ3lLf41f_P"
   },
   "source": [
    "## Reading speakers parquet file"
   ]
  },
  {
   "cell_type": "code",
   "execution_count": 6,
   "id": "b0e809c6-fbcd-4681-b9e3-bc650dcf1480",
   "metadata": {
    "colab": {
     "base_uri": "https://localhost:8080/",
     "height": 576
    },
    "id": "F4U_W5Fe1n0g",
    "outputId": "c7c1cc47-56d8-4e7e-c74a-cc075d7889cb",
    "tags": []
   },
   "outputs": [
    {
     "data": {
      "text/html": [
       "<div>\n",
       "<style scoped>\n",
       "    .dataframe tbody tr th:only-of-type {\n",
       "        vertical-align: middle;\n",
       "    }\n",
       "\n",
       "    .dataframe tbody tr th {\n",
       "        vertical-align: top;\n",
       "    }\n",
       "\n",
       "    .dataframe thead th {\n",
       "        text-align: right;\n",
       "    }\n",
       "</style>\n",
       "<table border=\"1\" class=\"dataframe\">\n",
       "  <thead>\n",
       "    <tr style=\"text-align: right;\">\n",
       "      <th></th>\n",
       "      <th>aliases</th>\n",
       "      <th>date_of_birth</th>\n",
       "      <th>nationality</th>\n",
       "      <th>gender</th>\n",
       "      <th>lastrevid</th>\n",
       "      <th>ethnic_group</th>\n",
       "      <th>US_congress_bio_ID</th>\n",
       "      <th>occupation</th>\n",
       "      <th>party</th>\n",
       "      <th>academic_degree</th>\n",
       "      <th>label</th>\n",
       "      <th>candidacy</th>\n",
       "      <th>type</th>\n",
       "      <th>religion</th>\n",
       "    </tr>\n",
       "    <tr>\n",
       "      <th>id</th>\n",
       "      <th></th>\n",
       "      <th></th>\n",
       "      <th></th>\n",
       "      <th></th>\n",
       "      <th></th>\n",
       "      <th></th>\n",
       "      <th></th>\n",
       "      <th></th>\n",
       "      <th></th>\n",
       "      <th></th>\n",
       "      <th></th>\n",
       "      <th></th>\n",
       "      <th></th>\n",
       "      <th></th>\n",
       "    </tr>\n",
       "  </thead>\n",
       "  <tbody>\n",
       "    <tr>\n",
       "      <th>Q23</th>\n",
       "      <td>[Washington, President Washington, G. Washingt...</td>\n",
       "      <td>[+1732-02-22T00:00:00Z]</td>\n",
       "      <td>[Q161885, Q30]</td>\n",
       "      <td>[Q6581097]</td>\n",
       "      <td>1395141751</td>\n",
       "      <td>None</td>\n",
       "      <td>W000178</td>\n",
       "      <td>[Q82955, Q189290, Q131512, Q1734662, Q294126, ...</td>\n",
       "      <td>[Q327591]</td>\n",
       "      <td>None</td>\n",
       "      <td>George Washington</td>\n",
       "      <td>[Q698073, Q697949]</td>\n",
       "      <td>item</td>\n",
       "      <td>[Q682443]</td>\n",
       "    </tr>\n",
       "    <tr>\n",
       "      <th>Q42</th>\n",
       "      <td>[Douglas Noel Adams, Douglas Noël Adams, Dougl...</td>\n",
       "      <td>[+1952-03-11T00:00:00Z]</td>\n",
       "      <td>[Q145]</td>\n",
       "      <td>[Q6581097]</td>\n",
       "      <td>1395737157</td>\n",
       "      <td>[Q7994501]</td>\n",
       "      <td>None</td>\n",
       "      <td>[Q214917, Q28389, Q6625963, Q4853732, Q1884422...</td>\n",
       "      <td>None</td>\n",
       "      <td>None</td>\n",
       "      <td>Douglas Adams</td>\n",
       "      <td>None</td>\n",
       "      <td>item</td>\n",
       "      <td>None</td>\n",
       "    </tr>\n",
       "    <tr>\n",
       "      <th>Q1868</th>\n",
       "      <td>[Paul Marie Ghislain Otlet, Paul Marie Otlet]</td>\n",
       "      <td>[+1868-08-23T00:00:00Z]</td>\n",
       "      <td>[Q31]</td>\n",
       "      <td>[Q6581097]</td>\n",
       "      <td>1380367296</td>\n",
       "      <td>None</td>\n",
       "      <td>None</td>\n",
       "      <td>[Q36180, Q40348, Q182436, Q1265807, Q205375, Q...</td>\n",
       "      <td>None</td>\n",
       "      <td>None</td>\n",
       "      <td>Paul Otlet</td>\n",
       "      <td>None</td>\n",
       "      <td>item</td>\n",
       "      <td>None</td>\n",
       "    </tr>\n",
       "    <tr>\n",
       "      <th>Q207</th>\n",
       "      <td>[George Walker Bush, Bush Jr., Dubya, GWB, Bus...</td>\n",
       "      <td>[+1946-07-06T00:00:00Z]</td>\n",
       "      <td>[Q30]</td>\n",
       "      <td>[Q6581097]</td>\n",
       "      <td>1395142029</td>\n",
       "      <td>None</td>\n",
       "      <td>None</td>\n",
       "      <td>[Q82955, Q15982858, Q18814623, Q1028181, Q1408...</td>\n",
       "      <td>[Q29468]</td>\n",
       "      <td>None</td>\n",
       "      <td>George W. Bush</td>\n",
       "      <td>[Q327959, Q464075, Q3586276, Q4450587]</td>\n",
       "      <td>item</td>\n",
       "      <td>[Q329646, Q682443, Q33203]</td>\n",
       "    </tr>\n",
       "    <tr>\n",
       "      <th>Q297</th>\n",
       "      <td>[Velázquez, Diego Rodríguez de Silva y Velázqu...</td>\n",
       "      <td>[+1599-06-06T00:00:00Z]</td>\n",
       "      <td>[Q29]</td>\n",
       "      <td>[Q6581097]</td>\n",
       "      <td>1391704596</td>\n",
       "      <td>None</td>\n",
       "      <td>None</td>\n",
       "      <td>[Q1028181]</td>\n",
       "      <td>None</td>\n",
       "      <td>None</td>\n",
       "      <td>Diego Velázquez</td>\n",
       "      <td>None</td>\n",
       "      <td>item</td>\n",
       "      <td>None</td>\n",
       "    </tr>\n",
       "  </tbody>\n",
       "</table>\n",
       "</div>"
      ],
      "text/plain": [
       "                                                 aliases  \\\n",
       "id                                                         \n",
       "Q23    [Washington, President Washington, G. Washingt...   \n",
       "Q42    [Douglas Noel Adams, Douglas Noël Adams, Dougl...   \n",
       "Q1868      [Paul Marie Ghislain Otlet, Paul Marie Otlet]   \n",
       "Q207   [George Walker Bush, Bush Jr., Dubya, GWB, Bus...   \n",
       "Q297   [Velázquez, Diego Rodríguez de Silva y Velázqu...   \n",
       "\n",
       "                 date_of_birth     nationality      gender   lastrevid  \\\n",
       "id                                                                       \n",
       "Q23    [+1732-02-22T00:00:00Z]  [Q161885, Q30]  [Q6581097]  1395141751   \n",
       "Q42    [+1952-03-11T00:00:00Z]          [Q145]  [Q6581097]  1395737157   \n",
       "Q1868  [+1868-08-23T00:00:00Z]           [Q31]  [Q6581097]  1380367296   \n",
       "Q207   [+1946-07-06T00:00:00Z]           [Q30]  [Q6581097]  1395142029   \n",
       "Q297   [+1599-06-06T00:00:00Z]           [Q29]  [Q6581097]  1391704596   \n",
       "\n",
       "      ethnic_group US_congress_bio_ID  \\\n",
       "id                                      \n",
       "Q23           None            W000178   \n",
       "Q42     [Q7994501]               None   \n",
       "Q1868         None               None   \n",
       "Q207          None               None   \n",
       "Q297          None               None   \n",
       "\n",
       "                                              occupation      party  \\\n",
       "id                                                                    \n",
       "Q23    [Q82955, Q189290, Q131512, Q1734662, Q294126, ...  [Q327591]   \n",
       "Q42    [Q214917, Q28389, Q6625963, Q4853732, Q1884422...       None   \n",
       "Q1868  [Q36180, Q40348, Q182436, Q1265807, Q205375, Q...       None   \n",
       "Q207   [Q82955, Q15982858, Q18814623, Q1028181, Q1408...   [Q29468]   \n",
       "Q297                                          [Q1028181]       None   \n",
       "\n",
       "      academic_degree              label  \\\n",
       "id                                         \n",
       "Q23              None  George Washington   \n",
       "Q42              None      Douglas Adams   \n",
       "Q1868            None         Paul Otlet   \n",
       "Q207             None     George W. Bush   \n",
       "Q297             None    Diego Velázquez   \n",
       "\n",
       "                                    candidacy  type  \\\n",
       "id                                                    \n",
       "Q23                        [Q698073, Q697949]  item   \n",
       "Q42                                      None  item   \n",
       "Q1868                                    None  item   \n",
       "Q207   [Q327959, Q464075, Q3586276, Q4450587]  item   \n",
       "Q297                                     None  item   \n",
       "\n",
       "                         religion  \n",
       "id                                 \n",
       "Q23                     [Q682443]  \n",
       "Q42                          None  \n",
       "Q1868                        None  \n",
       "Q207   [Q329646, Q682443, Q33203]  \n",
       "Q297                         None  "
      ]
     },
     "execution_count": 6,
     "metadata": {},
     "output_type": "execute_result"
    }
   ],
   "source": [
    "df_speakers = pd.read_parquet(PATH_PARQUET + '/speaker_attributes.parquet')\n",
    "df_speakers.set_index(keys='id', inplace=True)\n",
    "df_speakers.head()"
   ]
  },
  {
   "cell_type": "code",
   "execution_count": 7,
   "id": "7977a48c-2876-459c-8b08-0b017dadea0b",
   "metadata": {},
   "outputs": [
    {
     "name": "stdout",
     "output_type": "stream",
     "text": [
      "Total number of speakers :  9055981\n",
      "Total number of speakers with filled attributes :  3\n",
      "9055978 rows dropped\n"
     ]
    }
   ],
   "source": [
    "df_speakers_cleaned = df_speakers.dropna()\n",
    "print('Total number of speakers : ', len(df_speakers))\n",
    "print('Total number of speakers with filled attributes : ', len(df_speakers_cleaned))\n",
    "print('{} rows dropped'.format(len(df_speakers) - len(df_speakers_cleaned)))"
   ]
  },
  {
   "cell_type": "markdown",
   "id": "c9318a92-b7e5-4a4a-9548-21f233f4081d",
   "metadata": {},
   "source": [
    "As we can see that dropping all speakers with undefined attributes is unrealistic to work with, since we're only left with 3 speakers with all their attributes defined to work with. We're going to have to some fine-grained filtering of undefined values column wise instead of on whole rows (all attributes)."
   ]
  },
  {
   "cell_type": "markdown",
   "id": "65e18d8b-0569-4ecc-929d-e509eb546f9f",
   "metadata": {},
   "source": [
    "## 2 - Merging speakers attributes qids with wikidata labels"
   ]
  },
  {
   "cell_type": "code",
   "execution_count": 8,
   "id": "e5e313f1-885c-4c7d-a036-0a27c72a3bd6",
   "metadata": {},
   "outputs": [
    {
     "data": {
      "text/html": [
       "<div>\n",
       "<style scoped>\n",
       "    .dataframe tbody tr th:only-of-type {\n",
       "        vertical-align: middle;\n",
       "    }\n",
       "\n",
       "    .dataframe tbody tr th {\n",
       "        vertical-align: top;\n",
       "    }\n",
       "\n",
       "    .dataframe thead th {\n",
       "        text-align: right;\n",
       "    }\n",
       "</style>\n",
       "<table border=\"1\" class=\"dataframe\">\n",
       "  <thead>\n",
       "    <tr style=\"text-align: right;\">\n",
       "      <th></th>\n",
       "      <th>aliases</th>\n",
       "      <th>date_of_birth</th>\n",
       "      <th>nationality</th>\n",
       "      <th>gender</th>\n",
       "      <th>lastrevid</th>\n",
       "      <th>ethnic_group</th>\n",
       "      <th>US_congress_bio_ID</th>\n",
       "      <th>occupation</th>\n",
       "      <th>party</th>\n",
       "      <th>academic_degree</th>\n",
       "      <th>label</th>\n",
       "      <th>candidacy</th>\n",
       "      <th>type</th>\n",
       "      <th>religion</th>\n",
       "    </tr>\n",
       "    <tr>\n",
       "      <th>id</th>\n",
       "      <th></th>\n",
       "      <th></th>\n",
       "      <th></th>\n",
       "      <th></th>\n",
       "      <th></th>\n",
       "      <th></th>\n",
       "      <th></th>\n",
       "      <th></th>\n",
       "      <th></th>\n",
       "      <th></th>\n",
       "      <th></th>\n",
       "      <th></th>\n",
       "      <th></th>\n",
       "      <th></th>\n",
       "    </tr>\n",
       "  </thead>\n",
       "  <tbody>\n",
       "    <tr>\n",
       "      <th>Q23</th>\n",
       "      <td>[Washington, President Washington, G. Washingt...</td>\n",
       "      <td>+1732-02-22T00:00:00Z</td>\n",
       "      <td>Q161885</td>\n",
       "      <td>Q6581097</td>\n",
       "      <td>1395141751</td>\n",
       "      <td>None</td>\n",
       "      <td>W000178</td>\n",
       "      <td>Q82955</td>\n",
       "      <td>Q327591</td>\n",
       "      <td>None</td>\n",
       "      <td>George Washington</td>\n",
       "      <td>Q698073</td>\n",
       "      <td>item</td>\n",
       "      <td>Q682443</td>\n",
       "    </tr>\n",
       "    <tr>\n",
       "      <th>Q23</th>\n",
       "      <td>[Washington, President Washington, G. Washingt...</td>\n",
       "      <td>+1732-02-22T00:00:00Z</td>\n",
       "      <td>Q161885</td>\n",
       "      <td>Q6581097</td>\n",
       "      <td>1395141751</td>\n",
       "      <td>None</td>\n",
       "      <td>W000178</td>\n",
       "      <td>Q82955</td>\n",
       "      <td>Q327591</td>\n",
       "      <td>None</td>\n",
       "      <td>George Washington</td>\n",
       "      <td>Q697949</td>\n",
       "      <td>item</td>\n",
       "      <td>Q682443</td>\n",
       "    </tr>\n",
       "    <tr>\n",
       "      <th>Q23</th>\n",
       "      <td>[Washington, President Washington, G. Washingt...</td>\n",
       "      <td>+1732-02-22T00:00:00Z</td>\n",
       "      <td>Q161885</td>\n",
       "      <td>Q6581097</td>\n",
       "      <td>1395141751</td>\n",
       "      <td>None</td>\n",
       "      <td>W000178</td>\n",
       "      <td>Q189290</td>\n",
       "      <td>Q327591</td>\n",
       "      <td>None</td>\n",
       "      <td>George Washington</td>\n",
       "      <td>Q698073</td>\n",
       "      <td>item</td>\n",
       "      <td>Q682443</td>\n",
       "    </tr>\n",
       "    <tr>\n",
       "      <th>Q23</th>\n",
       "      <td>[Washington, President Washington, G. Washingt...</td>\n",
       "      <td>+1732-02-22T00:00:00Z</td>\n",
       "      <td>Q161885</td>\n",
       "      <td>Q6581097</td>\n",
       "      <td>1395141751</td>\n",
       "      <td>None</td>\n",
       "      <td>W000178</td>\n",
       "      <td>Q189290</td>\n",
       "      <td>Q327591</td>\n",
       "      <td>None</td>\n",
       "      <td>George Washington</td>\n",
       "      <td>Q697949</td>\n",
       "      <td>item</td>\n",
       "      <td>Q682443</td>\n",
       "    </tr>\n",
       "    <tr>\n",
       "      <th>Q23</th>\n",
       "      <td>[Washington, President Washington, G. Washingt...</td>\n",
       "      <td>+1732-02-22T00:00:00Z</td>\n",
       "      <td>Q161885</td>\n",
       "      <td>Q6581097</td>\n",
       "      <td>1395141751</td>\n",
       "      <td>None</td>\n",
       "      <td>W000178</td>\n",
       "      <td>Q131512</td>\n",
       "      <td>Q327591</td>\n",
       "      <td>None</td>\n",
       "      <td>George Washington</td>\n",
       "      <td>Q698073</td>\n",
       "      <td>item</td>\n",
       "      <td>Q682443</td>\n",
       "    </tr>\n",
       "  </tbody>\n",
       "</table>\n",
       "</div>"
      ],
      "text/plain": [
       "                                               aliases          date_of_birth  \\\n",
       "id                                                                              \n",
       "Q23  [Washington, President Washington, G. Washingt...  +1732-02-22T00:00:00Z   \n",
       "Q23  [Washington, President Washington, G. Washingt...  +1732-02-22T00:00:00Z   \n",
       "Q23  [Washington, President Washington, G. Washingt...  +1732-02-22T00:00:00Z   \n",
       "Q23  [Washington, President Washington, G. Washingt...  +1732-02-22T00:00:00Z   \n",
       "Q23  [Washington, President Washington, G. Washingt...  +1732-02-22T00:00:00Z   \n",
       "\n",
       "    nationality    gender   lastrevid ethnic_group US_congress_bio_ID  \\\n",
       "id                                                                      \n",
       "Q23     Q161885  Q6581097  1395141751         None            W000178   \n",
       "Q23     Q161885  Q6581097  1395141751         None            W000178   \n",
       "Q23     Q161885  Q6581097  1395141751         None            W000178   \n",
       "Q23     Q161885  Q6581097  1395141751         None            W000178   \n",
       "Q23     Q161885  Q6581097  1395141751         None            W000178   \n",
       "\n",
       "    occupation    party academic_degree              label candidacy  type  \\\n",
       "id                                                                           \n",
       "Q23     Q82955  Q327591            None  George Washington   Q698073  item   \n",
       "Q23     Q82955  Q327591            None  George Washington   Q697949  item   \n",
       "Q23    Q189290  Q327591            None  George Washington   Q698073  item   \n",
       "Q23    Q189290  Q327591            None  George Washington   Q697949  item   \n",
       "Q23    Q131512  Q327591            None  George Washington   Q698073  item   \n",
       "\n",
       "    religion  \n",
       "id            \n",
       "Q23  Q682443  \n",
       "Q23  Q682443  \n",
       "Q23  Q682443  \n",
       "Q23  Q682443  \n",
       "Q23  Q682443  "
      ]
     },
     "execution_count": 8,
     "metadata": {},
     "output_type": "execute_result"
    }
   ],
   "source": [
    "attributes_columns = ['date_of_birth', 'nationality', 'gender', 'ethnic_group', 'occupation', 'party', 'academic_degree', 'candidacy', 'religion']\n",
    "\n",
    "# Let's first explode their attributes\n",
    "for col in attributes_columns:\n",
    "    df_speakers = df_speakers.explode(col)\n",
    "    \n",
    "df_speakers.head()"
   ]
  },
  {
   "cell_type": "markdown",
   "id": "cf67f8f7-cea2-4892-8372-981c962ec1fa",
   "metadata": {},
   "source": [
    "#### Quick stop before proceeding"
   ]
  },
  {
   "cell_type": "markdown",
   "id": "0d25c6aa-3900-4a92-aa1f-2d58d798bb32",
   "metadata": {},
   "source": [
    "Before we continue, we need to convert the date of birth to something meaningful like the speaker's age."
   ]
  },
  {
   "cell_type": "code",
   "execution_count": 11,
   "id": "46d3be94-10eb-4d8c-99a7-7170b809ff4a",
   "metadata": {},
   "outputs": [
    {
     "data": {
      "text/plain": [
       "'1732-02-22'"
      ]
     },
     "metadata": {},
     "output_type": "display_data"
    },
    {
     "data": {
      "text/plain": [
       "'1732'"
      ]
     },
     "metadata": {},
     "output_type": "display_data"
    }
   ],
   "source": [
    "def normalize_date_of_birth(date):\n",
    "    '''\n",
    "    Normalize the date of birth format of our speakers. Currently the format is (+/-)YYYY-MM-DDTHH:MM:SS: Z.\n",
    "    We'll convert it simply to YYYY-MM-DD. However the date sometimes has month or day value of 0, and hence \n",
    "    needs further sanitization, and in that case we just output the year.\n",
    "    \n",
    "    Params: \n",
    "        date: the date\n",
    "    returns:\n",
    "        the date formatted as YYYY:MM:DD\n",
    "    '''\n",
    "    if date is not None:\n",
    "        birth_date = date[1:11]\n",
    "        year, month, day = birth_date[0:4], birth_date[5:7], birth_date[8:11]\n",
    "        if month == '00' or day == '00':\n",
    "            return year\n",
    "        else:\n",
    "            return birth_date\n",
    "    else:\n",
    "        return date\n",
    "\n",
    "test_data = '+1732-02-22T00:00:00Z'\n",
    "display(normalize_date_of_birth(test_data))\n",
    "test_data_invalid_month = '+1732-00-22T00:00:00Z'\n",
    "display(normalize_date_of_birth(test_data_invalid_month))"
   ]
  },
  {
   "cell_type": "code",
   "execution_count": 16,
   "id": "b5bee232-69cf-45b6-bfe7-8a9225e48594",
   "metadata": {},
   "outputs": [
    {
     "data": {
      "text/plain": [
       "id\n",
       "Q23   1732-02-22\n",
       "Q23   1732-02-22\n",
       "Q23   1732-02-22\n",
       "Q23   1732-02-22\n",
       "Q23   1732-02-22\n",
       "Name: date_of_birth, dtype: datetime64[ns]"
      ]
     },
     "execution_count": 16,
     "metadata": {},
     "output_type": "execute_result"
    }
   ],
   "source": [
    "# Normalize date of birth into a new column 'age' in which we'll calculate the age of the speaker\n",
    "# and then convert it to datetime instance\n",
    "df_speakers['age'] = pd.to_datetime(df_speakers.date_of_birth.apply(normalize_date_of_birth), errors='coerce')\n",
    "df_speakers.age.head()"
   ]
  },
  {
   "cell_type": "code",
   "execution_count": null,
   "id": "07b018b9-a237-43fa-a079-794c8b420351",
   "metadata": {},
   "outputs": [],
   "source": [
    "def compute_age(date_of_birth):\n",
    "    now = pd.Timestamp('now')\n",
    "    age = date_o"
   ]
  },
  {
   "cell_type": "code",
   "execution_count": 43,
   "id": "bea19bb6-7c8e-40db-971e-b62031995fa6",
   "metadata": {},
   "outputs": [
    {
     "data": {
      "text/plain": [
       "60.38356164383562"
      ]
     },
     "execution_count": 43,
     "metadata": {},
     "output_type": "execute_result"
    }
   ],
   "source": [
    "# Calculate the age by computing the difference between now and their birth dates.\n",
    "now = pd.Timestamp('now')\n",
    "df_speakers.age = (now.year - df_speakers.age.year)\n",
    "df_speakers.age.head()"
   ]
  },
  {
   "cell_type": "code",
   "execution_count": 48,
   "id": "bda7fdb2-5a80-4112-90d5-98fbbc6c112d",
   "metadata": {},
   "outputs": [
    {
     "data": {
      "text/html": [
       "<div>\n",
       "<style scoped>\n",
       "    .dataframe tbody tr th:only-of-type {\n",
       "        vertical-align: middle;\n",
       "    }\n",
       "\n",
       "    .dataframe tbody tr th {\n",
       "        vertical-align: top;\n",
       "    }\n",
       "\n",
       "    .dataframe thead th {\n",
       "        text-align: right;\n",
       "    }\n",
       "</style>\n",
       "<table border=\"1\" class=\"dataframe\">\n",
       "  <thead>\n",
       "    <tr style=\"text-align: right;\">\n",
       "      <th></th>\n",
       "      <th>aliases</th>\n",
       "      <th>date_of_birth</th>\n",
       "      <th>nationality</th>\n",
       "      <th>gender</th>\n",
       "      <th>lastrevid</th>\n",
       "      <th>ethnic_group</th>\n",
       "      <th>US_congress_bio_ID</th>\n",
       "      <th>occupation</th>\n",
       "      <th>party</th>\n",
       "      <th>academic_degree</th>\n",
       "      <th>label</th>\n",
       "      <th>candidacy</th>\n",
       "      <th>type</th>\n",
       "      <th>religion</th>\n",
       "      <th>normalized_dob</th>\n",
       "    </tr>\n",
       "    <tr>\n",
       "      <th>id</th>\n",
       "      <th></th>\n",
       "      <th></th>\n",
       "      <th></th>\n",
       "      <th></th>\n",
       "      <th></th>\n",
       "      <th></th>\n",
       "      <th></th>\n",
       "      <th></th>\n",
       "      <th></th>\n",
       "      <th></th>\n",
       "      <th></th>\n",
       "      <th></th>\n",
       "      <th></th>\n",
       "      <th></th>\n",
       "      <th></th>\n",
       "    </tr>\n",
       "  </thead>\n",
       "  <tbody>\n",
       "    <tr>\n",
       "      <th>Q22686</th>\n",
       "      <td>[Donald John Trump, Donald J. Trump, Trump, Th...</td>\n",
       "      <td>+1946-06-14T00:00:00Z</td>\n",
       "      <td>Q30</td>\n",
       "      <td>Q6581097</td>\n",
       "      <td>1395141850</td>\n",
       "      <td>None</td>\n",
       "      <td>None</td>\n",
       "      <td>Q911554</td>\n",
       "      <td>Q29468</td>\n",
       "      <td>Q787674</td>\n",
       "      <td>Donald Trump</td>\n",
       "      <td>Q699872</td>\n",
       "      <td>item</td>\n",
       "      <td>Q178169</td>\n",
       "      <td>1946-06-14</td>\n",
       "    </tr>\n",
       "    <tr>\n",
       "      <th>Q22686</th>\n",
       "      <td>[Donald John Trump, Donald J. Trump, Trump, Th...</td>\n",
       "      <td>+1946-06-14T00:00:00Z</td>\n",
       "      <td>Q30</td>\n",
       "      <td>Q6581097</td>\n",
       "      <td>1395141850</td>\n",
       "      <td>None</td>\n",
       "      <td>None</td>\n",
       "      <td>Q911554</td>\n",
       "      <td>Q29468</td>\n",
       "      <td>Q787674</td>\n",
       "      <td>Donald Trump</td>\n",
       "      <td>Q22923830</td>\n",
       "      <td>item</td>\n",
       "      <td>Q178169</td>\n",
       "      <td>1946-06-14</td>\n",
       "    </tr>\n",
       "    <tr>\n",
       "      <th>Q22686</th>\n",
       "      <td>[Donald John Trump, Donald J. Trump, Trump, Th...</td>\n",
       "      <td>+1946-06-14T00:00:00Z</td>\n",
       "      <td>Q30</td>\n",
       "      <td>Q6581097</td>\n",
       "      <td>1395141850</td>\n",
       "      <td>None</td>\n",
       "      <td>None</td>\n",
       "      <td>Q911554</td>\n",
       "      <td>Q29468</td>\n",
       "      <td>Q787674</td>\n",
       "      <td>Donald Trump</td>\n",
       "      <td>Q38051523</td>\n",
       "      <td>item</td>\n",
       "      <td>Q178169</td>\n",
       "      <td>1946-06-14</td>\n",
       "    </tr>\n",
       "    <tr>\n",
       "      <th>Q22686</th>\n",
       "      <td>[Donald John Trump, Donald J. Trump, Trump, Th...</td>\n",
       "      <td>+1946-06-14T00:00:00Z</td>\n",
       "      <td>Q30</td>\n",
       "      <td>Q6581097</td>\n",
       "      <td>1395141850</td>\n",
       "      <td>None</td>\n",
       "      <td>None</td>\n",
       "      <td>Q911554</td>\n",
       "      <td>Q1897793</td>\n",
       "      <td>Q787674</td>\n",
       "      <td>Donald Trump</td>\n",
       "      <td>Q699872</td>\n",
       "      <td>item</td>\n",
       "      <td>Q178169</td>\n",
       "      <td>1946-06-14</td>\n",
       "    </tr>\n",
       "    <tr>\n",
       "      <th>Q22686</th>\n",
       "      <td>[Donald John Trump, Donald J. Trump, Trump, Th...</td>\n",
       "      <td>+1946-06-14T00:00:00Z</td>\n",
       "      <td>Q30</td>\n",
       "      <td>Q6581097</td>\n",
       "      <td>1395141850</td>\n",
       "      <td>None</td>\n",
       "      <td>None</td>\n",
       "      <td>Q911554</td>\n",
       "      <td>Q1897793</td>\n",
       "      <td>Q787674</td>\n",
       "      <td>Donald Trump</td>\n",
       "      <td>Q22923830</td>\n",
       "      <td>item</td>\n",
       "      <td>Q178169</td>\n",
       "      <td>1946-06-14</td>\n",
       "    </tr>\n",
       "    <tr>\n",
       "      <th>...</th>\n",
       "      <td>...</td>\n",
       "      <td>...</td>\n",
       "      <td>...</td>\n",
       "      <td>...</td>\n",
       "      <td>...</td>\n",
       "      <td>...</td>\n",
       "      <td>...</td>\n",
       "      <td>...</td>\n",
       "      <td>...</td>\n",
       "      <td>...</td>\n",
       "      <td>...</td>\n",
       "      <td>...</td>\n",
       "      <td>...</td>\n",
       "      <td>...</td>\n",
       "      <td>...</td>\n",
       "    </tr>\n",
       "    <tr>\n",
       "      <th>Q22686</th>\n",
       "      <td>[Donald John Trump, Donald J. Trump, Trump, Th...</td>\n",
       "      <td>+1946-06-14T00:00:00Z</td>\n",
       "      <td>Q30</td>\n",
       "      <td>Q6581097</td>\n",
       "      <td>1395141850</td>\n",
       "      <td>None</td>\n",
       "      <td>None</td>\n",
       "      <td>Q1062083</td>\n",
       "      <td>Q29468</td>\n",
       "      <td>Q787674</td>\n",
       "      <td>Donald Trump</td>\n",
       "      <td>Q38051523</td>\n",
       "      <td>item</td>\n",
       "      <td>Q178169</td>\n",
       "      <td>1946-06-14</td>\n",
       "    </tr>\n",
       "    <tr>\n",
       "      <th>Q27947481</th>\n",
       "      <td>[Donald L. Trump, Donald Lynn Trump, Skip Trum...</td>\n",
       "      <td>+1945-07-31T00:00:00Z</td>\n",
       "      <td>Q30</td>\n",
       "      <td>Q6581097</td>\n",
       "      <td>1392088288</td>\n",
       "      <td>None</td>\n",
       "      <td>None</td>\n",
       "      <td>Q39631</td>\n",
       "      <td>None</td>\n",
       "      <td>Q913404</td>\n",
       "      <td>Donald Trump</td>\n",
       "      <td>None</td>\n",
       "      <td>item</td>\n",
       "      <td>None</td>\n",
       "      <td>1945-07-31</td>\n",
       "    </tr>\n",
       "    <tr>\n",
       "      <th>Q27947481</th>\n",
       "      <td>[Donald L. Trump, Donald Lynn Trump, Skip Trum...</td>\n",
       "      <td>+1945-07-31T00:00:00Z</td>\n",
       "      <td>Q30</td>\n",
       "      <td>Q6581097</td>\n",
       "      <td>1392088288</td>\n",
       "      <td>None</td>\n",
       "      <td>None</td>\n",
       "      <td>Q16062369</td>\n",
       "      <td>None</td>\n",
       "      <td>Q913404</td>\n",
       "      <td>Donald Trump</td>\n",
       "      <td>None</td>\n",
       "      <td>item</td>\n",
       "      <td>None</td>\n",
       "      <td>1945-07-31</td>\n",
       "    </tr>\n",
       "    <tr>\n",
       "      <th>Q27947481</th>\n",
       "      <td>[Donald L. Trump, Donald Lynn Trump, Skip Trum...</td>\n",
       "      <td>+1945-00-00T00:00:00Z</td>\n",
       "      <td>Q30</td>\n",
       "      <td>Q6581097</td>\n",
       "      <td>1392088288</td>\n",
       "      <td>None</td>\n",
       "      <td>None</td>\n",
       "      <td>Q39631</td>\n",
       "      <td>None</td>\n",
       "      <td>Q913404</td>\n",
       "      <td>Donald Trump</td>\n",
       "      <td>None</td>\n",
       "      <td>item</td>\n",
       "      <td>None</td>\n",
       "      <td>1945-00-00</td>\n",
       "    </tr>\n",
       "    <tr>\n",
       "      <th>Q27947481</th>\n",
       "      <td>[Donald L. Trump, Donald Lynn Trump, Skip Trum...</td>\n",
       "      <td>+1945-00-00T00:00:00Z</td>\n",
       "      <td>Q30</td>\n",
       "      <td>Q6581097</td>\n",
       "      <td>1392088288</td>\n",
       "      <td>None</td>\n",
       "      <td>None</td>\n",
       "      <td>Q16062369</td>\n",
       "      <td>None</td>\n",
       "      <td>Q913404</td>\n",
       "      <td>Donald Trump</td>\n",
       "      <td>None</td>\n",
       "      <td>item</td>\n",
       "      <td>None</td>\n",
       "      <td>1945-00-00</td>\n",
       "    </tr>\n",
       "  </tbody>\n",
       "</table>\n",
       "<p>274 rows × 15 columns</p>\n",
       "</div>"
      ],
      "text/plain": [
       "                                                     aliases  \\\n",
       "id                                                             \n",
       "Q22686     [Donald John Trump, Donald J. Trump, Trump, Th...   \n",
       "Q22686     [Donald John Trump, Donald J. Trump, Trump, Th...   \n",
       "Q22686     [Donald John Trump, Donald J. Trump, Trump, Th...   \n",
       "Q22686     [Donald John Trump, Donald J. Trump, Trump, Th...   \n",
       "Q22686     [Donald John Trump, Donald J. Trump, Trump, Th...   \n",
       "...                                                      ...   \n",
       "Q22686     [Donald John Trump, Donald J. Trump, Trump, Th...   \n",
       "Q27947481  [Donald L. Trump, Donald Lynn Trump, Skip Trum...   \n",
       "Q27947481  [Donald L. Trump, Donald Lynn Trump, Skip Trum...   \n",
       "Q27947481  [Donald L. Trump, Donald Lynn Trump, Skip Trum...   \n",
       "Q27947481  [Donald L. Trump, Donald Lynn Trump, Skip Trum...   \n",
       "\n",
       "                   date_of_birth nationality    gender   lastrevid  \\\n",
       "id                                                                   \n",
       "Q22686     +1946-06-14T00:00:00Z         Q30  Q6581097  1395141850   \n",
       "Q22686     +1946-06-14T00:00:00Z         Q30  Q6581097  1395141850   \n",
       "Q22686     +1946-06-14T00:00:00Z         Q30  Q6581097  1395141850   \n",
       "Q22686     +1946-06-14T00:00:00Z         Q30  Q6581097  1395141850   \n",
       "Q22686     +1946-06-14T00:00:00Z         Q30  Q6581097  1395141850   \n",
       "...                          ...         ...       ...         ...   \n",
       "Q22686     +1946-06-14T00:00:00Z         Q30  Q6581097  1395141850   \n",
       "Q27947481  +1945-07-31T00:00:00Z         Q30  Q6581097  1392088288   \n",
       "Q27947481  +1945-07-31T00:00:00Z         Q30  Q6581097  1392088288   \n",
       "Q27947481  +1945-00-00T00:00:00Z         Q30  Q6581097  1392088288   \n",
       "Q27947481  +1945-00-00T00:00:00Z         Q30  Q6581097  1392088288   \n",
       "\n",
       "          ethnic_group US_congress_bio_ID occupation     party  \\\n",
       "id                                                               \n",
       "Q22686            None               None    Q911554    Q29468   \n",
       "Q22686            None               None    Q911554    Q29468   \n",
       "Q22686            None               None    Q911554    Q29468   \n",
       "Q22686            None               None    Q911554  Q1897793   \n",
       "Q22686            None               None    Q911554  Q1897793   \n",
       "...                ...                ...        ...       ...   \n",
       "Q22686            None               None   Q1062083    Q29468   \n",
       "Q27947481         None               None     Q39631      None   \n",
       "Q27947481         None               None  Q16062369      None   \n",
       "Q27947481         None               None     Q39631      None   \n",
       "Q27947481         None               None  Q16062369      None   \n",
       "\n",
       "          academic_degree         label  candidacy  type religion  \\\n",
       "id                                                                  \n",
       "Q22686            Q787674  Donald Trump    Q699872  item  Q178169   \n",
       "Q22686            Q787674  Donald Trump  Q22923830  item  Q178169   \n",
       "Q22686            Q787674  Donald Trump  Q38051523  item  Q178169   \n",
       "Q22686            Q787674  Donald Trump    Q699872  item  Q178169   \n",
       "Q22686            Q787674  Donald Trump  Q22923830  item  Q178169   \n",
       "...                   ...           ...        ...   ...      ...   \n",
       "Q22686            Q787674  Donald Trump  Q38051523  item  Q178169   \n",
       "Q27947481         Q913404  Donald Trump       None  item     None   \n",
       "Q27947481         Q913404  Donald Trump       None  item     None   \n",
       "Q27947481         Q913404  Donald Trump       None  item     None   \n",
       "Q27947481         Q913404  Donald Trump       None  item     None   \n",
       "\n",
       "          normalized_dob  \n",
       "id                        \n",
       "Q22686        1946-06-14  \n",
       "Q22686        1946-06-14  \n",
       "Q22686        1946-06-14  \n",
       "Q22686        1946-06-14  \n",
       "Q22686        1946-06-14  \n",
       "...                  ...  \n",
       "Q22686        1946-06-14  \n",
       "Q27947481     1945-07-31  \n",
       "Q27947481     1945-07-31  \n",
       "Q27947481     1945-00-00  \n",
       "Q27947481     1945-00-00  \n",
       "\n",
       "[274 rows x 15 columns]"
      ]
     },
     "execution_count": 48,
     "metadata": {},
     "output_type": "execute_result"
    }
   ],
   "source": [
    "df_speakers[df_speakers.label == 'Donald Trump'][['date_of_birth', 'age']]"
   ]
  },
  {
   "cell_type": "code",
   "execution_count": 49,
   "id": "cc228363-4e2b-4889-9e21-e94883e6f901",
   "metadata": {},
   "outputs": [
    {
     "data": {
      "text/plain": [
       "Timestamp('1990-02-01 00:00:00')"
      ]
     },
     "execution_count": 49,
     "metadata": {},
     "output_type": "execute_result"
    }
   ],
   "source": [
    "pd.to_datetime('1990-02-01')"
   ]
  },
  {
   "cell_type": "markdown",
   "id": "ef30f0fd-d577-45bb-bf3d-ebb25ac5bcd6",
   "metadata": {},
   "source": [
    "Of course ages are just indicative, we can have people like president George Washington who are over 200 years old."
   ]
  },
  {
   "cell_type": "markdown",
   "id": "f809cc0e-0e6d-4643-90b7-e593aeee7503",
   "metadata": {},
   "source": [
    "#### Now let's merge attributes with their wikidata labels"
   ]
  },
  {
   "cell_type": "code",
   "execution_count": 9,
   "id": "29a5f1e0-82c2-42cc-abca-ef48df169e6f",
   "metadata": {},
   "outputs": [],
   "source": [
    "df_speakers_labeled = df_speakers.copy()\n",
    "\n",
    "for col in attributes_columns:\n",
    "    df_speakers_labeled = df_speakers_labeled.merge(df_wikidata_labels, left_on=col, right_index=True, how='left')\n",
    "    df_speakers_labeled[col] = df_speakers_labeled['Label']\n",
    "    df_speakers_labeled.drop(columns=['Label', 'Description'], inplace=True)"
   ]
  },
  {
   "cell_type": "code",
   "execution_count": 10,
   "id": "7999ed21-171a-49ed-852a-edf87977960e",
   "metadata": {},
   "outputs": [
    {
     "data": {
      "text/html": [
       "<div>\n",
       "<style scoped>\n",
       "    .dataframe tbody tr th:only-of-type {\n",
       "        vertical-align: middle;\n",
       "    }\n",
       "\n",
       "    .dataframe tbody tr th {\n",
       "        vertical-align: top;\n",
       "    }\n",
       "\n",
       "    .dataframe thead th {\n",
       "        text-align: right;\n",
       "    }\n",
       "</style>\n",
       "<table border=\"1\" class=\"dataframe\">\n",
       "  <thead>\n",
       "    <tr style=\"text-align: right;\">\n",
       "      <th></th>\n",
       "      <th>aliases</th>\n",
       "      <th>date_of_birth</th>\n",
       "      <th>nationality</th>\n",
       "      <th>gender</th>\n",
       "      <th>lastrevid</th>\n",
       "      <th>ethnic_group</th>\n",
       "      <th>US_congress_bio_ID</th>\n",
       "      <th>occupation</th>\n",
       "      <th>party</th>\n",
       "      <th>academic_degree</th>\n",
       "      <th>label</th>\n",
       "      <th>candidacy</th>\n",
       "      <th>type</th>\n",
       "      <th>religion</th>\n",
       "    </tr>\n",
       "    <tr>\n",
       "      <th>id</th>\n",
       "      <th></th>\n",
       "      <th></th>\n",
       "      <th></th>\n",
       "      <th></th>\n",
       "      <th></th>\n",
       "      <th></th>\n",
       "      <th></th>\n",
       "      <th></th>\n",
       "      <th></th>\n",
       "      <th></th>\n",
       "      <th></th>\n",
       "      <th></th>\n",
       "      <th></th>\n",
       "      <th></th>\n",
       "    </tr>\n",
       "  </thead>\n",
       "  <tbody>\n",
       "    <tr>\n",
       "      <th>Q23</th>\n",
       "      <td>[Washington, President Washington, G. Washingt...</td>\n",
       "      <td>[+1732-02-22T00:00:00Z]</td>\n",
       "      <td>Great Britain</td>\n",
       "      <td>male</td>\n",
       "      <td>1395141751</td>\n",
       "      <td>NaN</td>\n",
       "      <td>W000178</td>\n",
       "      <td>politician</td>\n",
       "      <td>independent politician</td>\n",
       "      <td>NaN</td>\n",
       "      <td>George Washington</td>\n",
       "      <td>1792 United States presidential election</td>\n",
       "      <td>item</td>\n",
       "      <td>Episcopal Church</td>\n",
       "    </tr>\n",
       "    <tr>\n",
       "      <th>Q23</th>\n",
       "      <td>[Washington, President Washington, G. Washingt...</td>\n",
       "      <td>[+1732-02-22T00:00:00Z]</td>\n",
       "      <td>Great Britain</td>\n",
       "      <td>male</td>\n",
       "      <td>1395141751</td>\n",
       "      <td>NaN</td>\n",
       "      <td>W000178</td>\n",
       "      <td>politician</td>\n",
       "      <td>independent politician</td>\n",
       "      <td>NaN</td>\n",
       "      <td>George Washington</td>\n",
       "      <td>1788–89 United States presidential election</td>\n",
       "      <td>item</td>\n",
       "      <td>Episcopal Church</td>\n",
       "    </tr>\n",
       "    <tr>\n",
       "      <th>Q23</th>\n",
       "      <td>[Washington, President Washington, G. Washingt...</td>\n",
       "      <td>[+1732-02-22T00:00:00Z]</td>\n",
       "      <td>Great Britain</td>\n",
       "      <td>male</td>\n",
       "      <td>1395141751</td>\n",
       "      <td>NaN</td>\n",
       "      <td>W000178</td>\n",
       "      <td>military officer</td>\n",
       "      <td>independent politician</td>\n",
       "      <td>NaN</td>\n",
       "      <td>George Washington</td>\n",
       "      <td>1792 United States presidential election</td>\n",
       "      <td>item</td>\n",
       "      <td>Episcopal Church</td>\n",
       "    </tr>\n",
       "    <tr>\n",
       "      <th>Q23</th>\n",
       "      <td>[Washington, President Washington, G. Washingt...</td>\n",
       "      <td>[+1732-02-22T00:00:00Z]</td>\n",
       "      <td>Great Britain</td>\n",
       "      <td>male</td>\n",
       "      <td>1395141751</td>\n",
       "      <td>NaN</td>\n",
       "      <td>W000178</td>\n",
       "      <td>military officer</td>\n",
       "      <td>independent politician</td>\n",
       "      <td>NaN</td>\n",
       "      <td>George Washington</td>\n",
       "      <td>1788–89 United States presidential election</td>\n",
       "      <td>item</td>\n",
       "      <td>Episcopal Church</td>\n",
       "    </tr>\n",
       "    <tr>\n",
       "      <th>Q23</th>\n",
       "      <td>[Washington, President Washington, G. Washingt...</td>\n",
       "      <td>[+1732-02-22T00:00:00Z]</td>\n",
       "      <td>Great Britain</td>\n",
       "      <td>male</td>\n",
       "      <td>1395141751</td>\n",
       "      <td>NaN</td>\n",
       "      <td>W000178</td>\n",
       "      <td>farmer</td>\n",
       "      <td>independent politician</td>\n",
       "      <td>NaN</td>\n",
       "      <td>George Washington</td>\n",
       "      <td>1792 United States presidential election</td>\n",
       "      <td>item</td>\n",
       "      <td>Episcopal Church</td>\n",
       "    </tr>\n",
       "  </tbody>\n",
       "</table>\n",
       "</div>"
      ],
      "text/plain": [
       "                                               aliases  \\\n",
       "id                                                       \n",
       "Q23  [Washington, President Washington, G. Washingt...   \n",
       "Q23  [Washington, President Washington, G. Washingt...   \n",
       "Q23  [Washington, President Washington, G. Washingt...   \n",
       "Q23  [Washington, President Washington, G. Washingt...   \n",
       "Q23  [Washington, President Washington, G. Washingt...   \n",
       "\n",
       "               date_of_birth    nationality gender   lastrevid ethnic_group  \\\n",
       "id                                                                            \n",
       "Q23  [+1732-02-22T00:00:00Z]  Great Britain   male  1395141751          NaN   \n",
       "Q23  [+1732-02-22T00:00:00Z]  Great Britain   male  1395141751          NaN   \n",
       "Q23  [+1732-02-22T00:00:00Z]  Great Britain   male  1395141751          NaN   \n",
       "Q23  [+1732-02-22T00:00:00Z]  Great Britain   male  1395141751          NaN   \n",
       "Q23  [+1732-02-22T00:00:00Z]  Great Britain   male  1395141751          NaN   \n",
       "\n",
       "    US_congress_bio_ID        occupation                   party  \\\n",
       "id                                                                 \n",
       "Q23            W000178        politician  independent politician   \n",
       "Q23            W000178        politician  independent politician   \n",
       "Q23            W000178  military officer  independent politician   \n",
       "Q23            W000178  military officer  independent politician   \n",
       "Q23            W000178            farmer  independent politician   \n",
       "\n",
       "    academic_degree              label  \\\n",
       "id                                       \n",
       "Q23             NaN  George Washington   \n",
       "Q23             NaN  George Washington   \n",
       "Q23             NaN  George Washington   \n",
       "Q23             NaN  George Washington   \n",
       "Q23             NaN  George Washington   \n",
       "\n",
       "                                       candidacy  type          religion  \n",
       "id                                                                        \n",
       "Q23     1792 United States presidential election  item  Episcopal Church  \n",
       "Q23  1788–89 United States presidential election  item  Episcopal Church  \n",
       "Q23     1792 United States presidential election  item  Episcopal Church  \n",
       "Q23  1788–89 United States presidential election  item  Episcopal Church  \n",
       "Q23     1792 United States presidential election  item  Episcopal Church  "
      ]
     },
     "execution_count": 10,
     "metadata": {},
     "output_type": "execute_result"
    }
   ],
   "source": [
    "df_speakers_labeled.head()"
   ]
  },
  {
   "cell_type": "markdown",
   "id": "7eaf5d7d-35d1-4e6f-9105-bfe027b16cb4",
   "metadata": {},
   "source": [
    "Now we have a row per speaker for every combination of his attributes. This might be biased for speakers with a lot of attributes (e.g. several occupations, ethnic_group, etc...)."
   ]
  },
  {
   "cell_type": "code",
   "execution_count": 20,
   "id": "f790ca35-41f7-4cee-aeae-a6e6d072f23f",
   "metadata": {},
   "outputs": [
    {
     "data": {
      "text/plain": [
       "aliases               object\n",
       "date_of_birth         object\n",
       "nationality           object\n",
       "gender                object\n",
       "lastrevid              int64\n",
       "ethnic_group          object\n",
       "US_congress_bio_ID    object\n",
       "occupation            object\n",
       "party                 object\n",
       "academic_degree       object\n",
       "label                 object\n",
       "candidacy             object\n",
       "type                  object\n",
       "religion              object\n",
       "dtype: object"
      ]
     },
     "metadata": {},
     "output_type": "display_data"
    },
    {
     "name": "stdout",
     "output_type": "stream",
     "text": [
      "Length of final labeled speakers dataframe 11818189\n"
     ]
    }
   ],
   "source": [
    "display(df_speakers_labeled.dtypes)\n",
    "print('Length of final labeled speakers dataframe {}'.format(len(df_speakers_labeled)))"
   ]
  },
  {
   "cell_type": "markdown",
   "id": "a14f087d-65ec-46c3-abc6-78782b63bafd",
   "metadata": {},
   "source": [
    "## 3 - Save result to disk for quick future retrieval"
   ]
  },
  {
   "cell_type": "code",
   "execution_count": 12,
   "id": "2728789a-9e88-467d-8f26-6582141e41af",
   "metadata": {},
   "outputs": [],
   "source": [
    "df_speakers_labeled.to_csv(PATH_OUTPUT + '/speakers_labeled.csv', index=False)"
   ]
  },
  {
   "cell_type": "markdown",
   "id": "60765e7a-9558-4eff-8794-08f1d7119a73",
   "metadata": {},
   "source": [
    "## 4 - Explore the speakers data (Continue work from here)"
   ]
  },
  {
   "cell_type": "markdown",
   "id": "b5487205-916a-4c5a-9617-e1472d33aa08",
   "metadata": {},
   "source": [
    "Let's do some quick analysis on the speakers' professions. First retrieve our dataframe saved in csv."
   ]
  },
  {
   "cell_type": "code",
   "execution_count": 5,
   "id": "b85b91c2-1243-411e-87ae-11022c9935e1",
   "metadata": {},
   "outputs": [
    {
     "name": "stderr",
     "output_type": "stream",
     "text": [
      "C:\\Users\\steph\\miniconda3\\envs\\ada\\lib\\site-packages\\IPython\\core\\interactiveshell.py:3444: DtypeWarning: Columns (6) have mixed types.Specify dtype option on import or set low_memory=False.\n",
      "  exec(code_obj, self.user_global_ns, self.user_ns)\n"
     ]
    },
    {
     "data": {
      "text/html": [
       "<div>\n",
       "<style scoped>\n",
       "    .dataframe tbody tr th:only-of-type {\n",
       "        vertical-align: middle;\n",
       "    }\n",
       "\n",
       "    .dataframe tbody tr th {\n",
       "        vertical-align: top;\n",
       "    }\n",
       "\n",
       "    .dataframe thead th {\n",
       "        text-align: right;\n",
       "    }\n",
       "</style>\n",
       "<table border=\"1\" class=\"dataframe\">\n",
       "  <thead>\n",
       "    <tr style=\"text-align: right;\">\n",
       "      <th></th>\n",
       "      <th>aliases</th>\n",
       "      <th>date_of_birth</th>\n",
       "      <th>nationality</th>\n",
       "      <th>gender</th>\n",
       "      <th>lastrevid</th>\n",
       "      <th>ethnic_group</th>\n",
       "      <th>US_congress_bio_ID</th>\n",
       "      <th>occupation</th>\n",
       "      <th>party</th>\n",
       "      <th>academic_degree</th>\n",
       "      <th>label</th>\n",
       "      <th>candidacy</th>\n",
       "      <th>type</th>\n",
       "      <th>religion</th>\n",
       "    </tr>\n",
       "  </thead>\n",
       "  <tbody>\n",
       "    <tr>\n",
       "      <th>0</th>\n",
       "      <td>['Washington' 'President Washington' 'G. Washi...</td>\n",
       "      <td>['+1732-02-22T00:00:00Z']</td>\n",
       "      <td>Great Britain</td>\n",
       "      <td>male</td>\n",
       "      <td>1395141751</td>\n",
       "      <td>NaN</td>\n",
       "      <td>W000178</td>\n",
       "      <td>politician</td>\n",
       "      <td>independent politician</td>\n",
       "      <td>NaN</td>\n",
       "      <td>George Washington</td>\n",
       "      <td>1792 United States presidential election</td>\n",
       "      <td>item</td>\n",
       "      <td>Episcopal Church</td>\n",
       "    </tr>\n",
       "    <tr>\n",
       "      <th>1</th>\n",
       "      <td>['Washington' 'President Washington' 'G. Washi...</td>\n",
       "      <td>['+1732-02-22T00:00:00Z']</td>\n",
       "      <td>Great Britain</td>\n",
       "      <td>male</td>\n",
       "      <td>1395141751</td>\n",
       "      <td>NaN</td>\n",
       "      <td>W000178</td>\n",
       "      <td>politician</td>\n",
       "      <td>independent politician</td>\n",
       "      <td>NaN</td>\n",
       "      <td>George Washington</td>\n",
       "      <td>1788–89 United States presidential election</td>\n",
       "      <td>item</td>\n",
       "      <td>Episcopal Church</td>\n",
       "    </tr>\n",
       "    <tr>\n",
       "      <th>2</th>\n",
       "      <td>['Washington' 'President Washington' 'G. Washi...</td>\n",
       "      <td>['+1732-02-22T00:00:00Z']</td>\n",
       "      <td>Great Britain</td>\n",
       "      <td>male</td>\n",
       "      <td>1395141751</td>\n",
       "      <td>NaN</td>\n",
       "      <td>W000178</td>\n",
       "      <td>military officer</td>\n",
       "      <td>independent politician</td>\n",
       "      <td>NaN</td>\n",
       "      <td>George Washington</td>\n",
       "      <td>1792 United States presidential election</td>\n",
       "      <td>item</td>\n",
       "      <td>Episcopal Church</td>\n",
       "    </tr>\n",
       "    <tr>\n",
       "      <th>3</th>\n",
       "      <td>['Washington' 'President Washington' 'G. Washi...</td>\n",
       "      <td>['+1732-02-22T00:00:00Z']</td>\n",
       "      <td>Great Britain</td>\n",
       "      <td>male</td>\n",
       "      <td>1395141751</td>\n",
       "      <td>NaN</td>\n",
       "      <td>W000178</td>\n",
       "      <td>military officer</td>\n",
       "      <td>independent politician</td>\n",
       "      <td>NaN</td>\n",
       "      <td>George Washington</td>\n",
       "      <td>1788–89 United States presidential election</td>\n",
       "      <td>item</td>\n",
       "      <td>Episcopal Church</td>\n",
       "    </tr>\n",
       "    <tr>\n",
       "      <th>4</th>\n",
       "      <td>['Washington' 'President Washington' 'G. Washi...</td>\n",
       "      <td>['+1732-02-22T00:00:00Z']</td>\n",
       "      <td>Great Britain</td>\n",
       "      <td>male</td>\n",
       "      <td>1395141751</td>\n",
       "      <td>NaN</td>\n",
       "      <td>W000178</td>\n",
       "      <td>farmer</td>\n",
       "      <td>independent politician</td>\n",
       "      <td>NaN</td>\n",
       "      <td>George Washington</td>\n",
       "      <td>1792 United States presidential election</td>\n",
       "      <td>item</td>\n",
       "      <td>Episcopal Church</td>\n",
       "    </tr>\n",
       "  </tbody>\n",
       "</table>\n",
       "</div>"
      ],
      "text/plain": [
       "                                             aliases  \\\n",
       "0  ['Washington' 'President Washington' 'G. Washi...   \n",
       "1  ['Washington' 'President Washington' 'G. Washi...   \n",
       "2  ['Washington' 'President Washington' 'G. Washi...   \n",
       "3  ['Washington' 'President Washington' 'G. Washi...   \n",
       "4  ['Washington' 'President Washington' 'G. Washi...   \n",
       "\n",
       "               date_of_birth    nationality gender   lastrevid ethnic_group  \\\n",
       "0  ['+1732-02-22T00:00:00Z']  Great Britain   male  1395141751          NaN   \n",
       "1  ['+1732-02-22T00:00:00Z']  Great Britain   male  1395141751          NaN   \n",
       "2  ['+1732-02-22T00:00:00Z']  Great Britain   male  1395141751          NaN   \n",
       "3  ['+1732-02-22T00:00:00Z']  Great Britain   male  1395141751          NaN   \n",
       "4  ['+1732-02-22T00:00:00Z']  Great Britain   male  1395141751          NaN   \n",
       "\n",
       "  US_congress_bio_ID        occupation                   party  \\\n",
       "0            W000178        politician  independent politician   \n",
       "1            W000178        politician  independent politician   \n",
       "2            W000178  military officer  independent politician   \n",
       "3            W000178  military officer  independent politician   \n",
       "4            W000178            farmer  independent politician   \n",
       "\n",
       "  academic_degree              label  \\\n",
       "0             NaN  George Washington   \n",
       "1             NaN  George Washington   \n",
       "2             NaN  George Washington   \n",
       "3             NaN  George Washington   \n",
       "4             NaN  George Washington   \n",
       "\n",
       "                                     candidacy  type          religion  \n",
       "0     1792 United States presidential election  item  Episcopal Church  \n",
       "1  1788–89 United States presidential election  item  Episcopal Church  \n",
       "2     1792 United States presidential election  item  Episcopal Church  \n",
       "3  1788–89 United States presidential election  item  Episcopal Church  \n",
       "4     1792 United States presidential election  item  Episcopal Church  "
      ]
     },
     "execution_count": 5,
     "metadata": {},
     "output_type": "execute_result"
    }
   ],
   "source": [
    "retrieved_labeled_speakers = pd.read_csv(PATH_OUTPUT + '/speakers_labeled.csv')\n",
    "retrieved_labeled_speakers.head()"
   ]
  },
  {
   "cell_type": "code",
   "execution_count": 6,
   "id": "030cc9ab-94b2-409d-b511-fc9f73e87649",
   "metadata": {},
   "outputs": [
    {
     "data": {
      "text/plain": [
       "aliases               object\n",
       "date_of_birth         object\n",
       "nationality           object\n",
       "gender                object\n",
       "lastrevid              int64\n",
       "ethnic_group          object\n",
       "US_congress_bio_ID    object\n",
       "occupation            object\n",
       "party                 object\n",
       "academic_degree       object\n",
       "label                 object\n",
       "candidacy             object\n",
       "type                  object\n",
       "religion              object\n",
       "dtype: object"
      ]
     },
     "metadata": {},
     "output_type": "display_data"
    },
    {
     "name": "stdout",
     "output_type": "stream",
     "text": [
      "Length of final labeled speakers dataframe 11818189\n"
     ]
    }
   ],
   "source": [
    "display(retrieved_labeled_speakers.dtypes)\n",
    "print('Length of final labeled speakers dataframe {}'.format(len(retrieved_labeled_speakers)))"
   ]
  },
  {
   "cell_type": "markdown",
   "id": "8ab987aa-d942-426a-bd6f-6029072faf1d",
   "metadata": {},
   "source": [
    "### 4.1 - Speakers occupations"
   ]
  },
  {
   "cell_type": "markdown",
   "id": "39f46565-8d6b-40fc-86d0-edc23d88703a",
   "metadata": {},
   "source": [
    "Now let's see the distribution of the speakers' occupations."
   ]
  },
  {
   "cell_type": "code",
   "execution_count": 7,
   "id": "f914dc8c-baef-418d-8d97-b0f455017fed",
   "metadata": {},
   "outputs": [
    {
     "data": {
      "text/html": [
       "<div>\n",
       "<style scoped>\n",
       "    .dataframe tbody tr th:only-of-type {\n",
       "        vertical-align: middle;\n",
       "    }\n",
       "\n",
       "    .dataframe tbody tr th {\n",
       "        vertical-align: top;\n",
       "    }\n",
       "\n",
       "    .dataframe thead th {\n",
       "        text-align: right;\n",
       "    }\n",
       "</style>\n",
       "<table border=\"1\" class=\"dataframe\">\n",
       "  <thead>\n",
       "    <tr style=\"text-align: right;\">\n",
       "      <th></th>\n",
       "      <th>count</th>\n",
       "    </tr>\n",
       "    <tr>\n",
       "      <th>occupation</th>\n",
       "      <th></th>\n",
       "    </tr>\n",
       "  </thead>\n",
       "  <tbody>\n",
       "    <tr>\n",
       "      <th>researcher</th>\n",
       "      <td>1695817</td>\n",
       "    </tr>\n",
       "    <tr>\n",
       "      <th>politician</th>\n",
       "      <td>744803</td>\n",
       "    </tr>\n",
       "    <tr>\n",
       "      <th>association football player</th>\n",
       "      <td>329054</td>\n",
       "    </tr>\n",
       "    <tr>\n",
       "      <th>writer</th>\n",
       "      <td>295335</td>\n",
       "    </tr>\n",
       "    <tr>\n",
       "      <th>actor</th>\n",
       "      <td>285794</td>\n",
       "    </tr>\n",
       "  </tbody>\n",
       "</table>\n",
       "</div>"
      ],
      "text/plain": [
       "                               count\n",
       "occupation                          \n",
       "researcher                   1695817\n",
       "politician                    744803\n",
       "association football player   329054\n",
       "writer                        295335\n",
       "actor                         285794"
      ]
     },
     "execution_count": 7,
     "metadata": {},
     "output_type": "execute_result"
    }
   ],
   "source": [
    "grouped_by_occupations = retrieved_labeled_speakers.groupby(by='occupation').label.agg(['count'])\n",
    "grouped_by_occupations = grouped_by_occupations.sort_values(by='count', ascending=False)\n",
    "grouped_by_occupations.head()"
   ]
  },
  {
   "cell_type": "code",
   "execution_count": 8,
   "id": "4f8ce4d2-5564-45c1-8741-215c440b915f",
   "metadata": {},
   "outputs": [
    {
     "data": {
      "image/png": "[encoded data removed]",
      "text/plain": [
       "<Figure size 1008x576 with 1 Axes>"
      ]
     },
     "metadata": {},
     "output_type": "display_data"
    }
   ],
   "source": [
    "# Plot the distribution of the top 20 occupations\n",
    "fig, ax = plt.subplots(figsize =  (14, 8))\n",
    "ax.pie(grouped_by_occupations[:20]['count'], labels=grouped_by_occupations[:20].index, autopct='%1.1f%%',\n",
    "        shadow=True, startangle=90)\n",
    "\n",
    "fig.tight_layout()"
   ]
  },
  {
   "cell_type": "markdown",
   "id": "af479e23-9353-4ff8-a359-42fdb92bd475",
   "metadata": {},
   "source": [
    "Someone like Donald Trump has a lot of occupations, which means he's going to have a lot of rows dedicated to him in the dataframe, since we exploded the multi-values attributes. (This can be **problematic when training our model**)"
   ]
  },
  {
   "cell_type": "code",
   "execution_count": 9,
   "id": "1839c939-0e34-420c-9fcb-151081c32c12",
   "metadata": {},
   "outputs": [
    {
     "data": {
      "text/plain": [
       "array(['business magnate', 'investor', 'restaurateur',\n",
       "       'non-fiction writer', 'entrepreneur', 'politician',\n",
       "       'businessperson', 'real estate developer', 'game show host',\n",
       "       'real estate entrepreneur', 'television producer', 'film producer',\n",
       "       'writer', 'actor', 'chief executive officer',\n",
       "       'television presenter', 'conspiracy theorist', 'billionaire',\n",
       "       'physician', 'oncologist'], dtype=object)"
      ]
     },
     "metadata": {},
     "output_type": "display_data"
    },
    {
     "data": {
      "text/plain": [
       "array(['politician', 'lawyer', 'political writer', 'community organizer',\n",
       "       'statesperson'], dtype=object)"
      ]
     },
     "metadata": {},
     "output_type": "display_data"
    },
    {
     "ename": "KeyboardInterrupt",
     "evalue": "",
     "output_type": "error",
     "traceback": [
      "\u001b[1;31m---------------------------------------------------------------------------\u001b[0m",
      "\u001b[1;31mKeyboardInterrupt\u001b[0m                         Traceback (most recent call last)",
      "\u001b[1;32m~\\AppData\\Local\\Temp/ipykernel_17456/3006914818.py\u001b[0m in \u001b[0;36m<module>\u001b[1;34m\u001b[0m\n\u001b[0;32m      2\u001b[0m \u001b[0mdisplay\u001b[0m\u001b[1;33m(\u001b[0m\u001b[0mretrieved_labeled_speakers\u001b[0m\u001b[1;33m[\u001b[0m\u001b[0mretrieved_labeled_speakers\u001b[0m\u001b[1;33m.\u001b[0m\u001b[0mlabel\u001b[0m \u001b[1;33m==\u001b[0m \u001b[1;34m'Donald Trump'\u001b[0m\u001b[1;33m]\u001b[0m\u001b[1;33m.\u001b[0m\u001b[0moccupation\u001b[0m\u001b[1;33m.\u001b[0m\u001b[0munique\u001b[0m\u001b[1;33m(\u001b[0m\u001b[1;33m)\u001b[0m\u001b[1;33m)\u001b[0m\u001b[1;33m\u001b[0m\u001b[1;33m\u001b[0m\u001b[0m\n\u001b[0;32m      3\u001b[0m \u001b[0mdisplay\u001b[0m\u001b[1;33m(\u001b[0m\u001b[0mretrieved_labeled_speakers\u001b[0m\u001b[1;33m[\u001b[0m\u001b[0mretrieved_labeled_speakers\u001b[0m\u001b[1;33m.\u001b[0m\u001b[0mlabel\u001b[0m \u001b[1;33m==\u001b[0m \u001b[1;34m'Barack Obama'\u001b[0m\u001b[1;33m]\u001b[0m\u001b[1;33m.\u001b[0m\u001b[0moccupation\u001b[0m\u001b[1;33m.\u001b[0m\u001b[0munique\u001b[0m\u001b[1;33m(\u001b[0m\u001b[1;33m)\u001b[0m\u001b[1;33m)\u001b[0m\u001b[1;33m\u001b[0m\u001b[1;33m\u001b[0m\u001b[0m\n\u001b[1;32m----> 4\u001b[1;33m \u001b[0mdisplay\u001b[0m\u001b[1;33m(\u001b[0m\u001b[0mretrieved_labeled_speakers\u001b[0m\u001b[1;33m[\u001b[0m\u001b[0mretrieved_labeled_speakers\u001b[0m\u001b[1;33m.\u001b[0m\u001b[0mlabel\u001b[0m \u001b[1;33m==\u001b[0m \u001b[1;34m'Alexandria Ocasio-Cortez'\u001b[0m\u001b[1;33m]\u001b[0m\u001b[1;33m.\u001b[0m\u001b[0moccupation\u001b[0m\u001b[1;33m.\u001b[0m\u001b[0munique\u001b[0m\u001b[1;33m(\u001b[0m\u001b[1;33m)\u001b[0m\u001b[1;33m)\u001b[0m\u001b[1;33m\u001b[0m\u001b[1;33m\u001b[0m\u001b[0m\n\u001b[0m\u001b[0;32m      5\u001b[0m \u001b[0mdisplay\u001b[0m\u001b[1;33m(\u001b[0m\u001b[0mretrieved_labeled_speakers\u001b[0m\u001b[1;33m[\u001b[0m\u001b[0mretrieved_labeled_speakers\u001b[0m\u001b[1;33m.\u001b[0m\u001b[0mlabel\u001b[0m \u001b[1;33m==\u001b[0m \u001b[1;34m'Hillary Clinton'\u001b[0m\u001b[1;33m]\u001b[0m\u001b[1;33m.\u001b[0m\u001b[0moccupation\u001b[0m\u001b[1;33m.\u001b[0m\u001b[0munique\u001b[0m\u001b[1;33m(\u001b[0m\u001b[1;33m)\u001b[0m\u001b[1;33m)\u001b[0m\u001b[1;33m\u001b[0m\u001b[1;33m\u001b[0m\u001b[0m\n\u001b[0;32m      6\u001b[0m \u001b[0mdisplay\u001b[0m\u001b[1;33m(\u001b[0m\u001b[0mretrieved_labeled_speakers\u001b[0m\u001b[1;33m[\u001b[0m\u001b[0mretrieved_labeled_speakers\u001b[0m\u001b[1;33m.\u001b[0m\u001b[0mlabel\u001b[0m \u001b[1;33m==\u001b[0m \u001b[1;34m'Bill Clinton'\u001b[0m\u001b[1;33m]\u001b[0m\u001b[1;33m.\u001b[0m\u001b[0moccupation\u001b[0m\u001b[1;33m.\u001b[0m\u001b[0munique\u001b[0m\u001b[1;33m(\u001b[0m\u001b[1;33m)\u001b[0m\u001b[1;33m)\u001b[0m\u001b[1;33m\u001b[0m\u001b[1;33m\u001b[0m\u001b[0m\n",
      "\u001b[1;32m~\\miniconda3\\envs\\ada\\lib\\site-packages\\pandas\\core\\ops\\common.py\u001b[0m in \u001b[0;36mnew_method\u001b[1;34m(self, other)\u001b[0m\n\u001b[0;32m     67\u001b[0m         \u001b[0mother\u001b[0m \u001b[1;33m=\u001b[0m \u001b[0mitem_from_zerodim\u001b[0m\u001b[1;33m(\u001b[0m\u001b[0mother\u001b[0m\u001b[1;33m)\u001b[0m\u001b[1;33m\u001b[0m\u001b[1;33m\u001b[0m\u001b[0m\n\u001b[0;32m     68\u001b[0m \u001b[1;33m\u001b[0m\u001b[0m\n\u001b[1;32m---> 69\u001b[1;33m         \u001b[1;32mreturn\u001b[0m \u001b[0mmethod\u001b[0m\u001b[1;33m(\u001b[0m\u001b[0mself\u001b[0m\u001b[1;33m,\u001b[0m \u001b[0mother\u001b[0m\u001b[1;33m)\u001b[0m\u001b[1;33m\u001b[0m\u001b[1;33m\u001b[0m\u001b[0m\n\u001b[0m\u001b[0;32m     70\u001b[0m \u001b[1;33m\u001b[0m\u001b[0m\n\u001b[0;32m     71\u001b[0m     \u001b[1;32mreturn\u001b[0m \u001b[0mnew_method\u001b[0m\u001b[1;33m\u001b[0m\u001b[1;33m\u001b[0m\u001b[0m\n",
      "\u001b[1;32m~\\miniconda3\\envs\\ada\\lib\\site-packages\\pandas\\core\\arraylike.py\u001b[0m in \u001b[0;36m__eq__\u001b[1;34m(self, other)\u001b[0m\n\u001b[0;32m     30\u001b[0m     \u001b[1;33m@\u001b[0m\u001b[0munpack_zerodim_and_defer\u001b[0m\u001b[1;33m(\u001b[0m\u001b[1;34m\"__eq__\"\u001b[0m\u001b[1;33m)\u001b[0m\u001b[1;33m\u001b[0m\u001b[1;33m\u001b[0m\u001b[0m\n\u001b[0;32m     31\u001b[0m     \u001b[1;32mdef\u001b[0m \u001b[0m__eq__\u001b[0m\u001b[1;33m(\u001b[0m\u001b[0mself\u001b[0m\u001b[1;33m,\u001b[0m \u001b[0mother\u001b[0m\u001b[1;33m)\u001b[0m\u001b[1;33m:\u001b[0m\u001b[1;33m\u001b[0m\u001b[1;33m\u001b[0m\u001b[0m\n\u001b[1;32m---> 32\u001b[1;33m         \u001b[1;32mreturn\u001b[0m \u001b[0mself\u001b[0m\u001b[1;33m.\u001b[0m\u001b[0m_cmp_method\u001b[0m\u001b[1;33m(\u001b[0m\u001b[0mother\u001b[0m\u001b[1;33m,\u001b[0m \u001b[0moperator\u001b[0m\u001b[1;33m.\u001b[0m\u001b[0meq\u001b[0m\u001b[1;33m)\u001b[0m\u001b[1;33m\u001b[0m\u001b[1;33m\u001b[0m\u001b[0m\n\u001b[0m\u001b[0;32m     33\u001b[0m \u001b[1;33m\u001b[0m\u001b[0m\n\u001b[0;32m     34\u001b[0m     \u001b[1;33m@\u001b[0m\u001b[0munpack_zerodim_and_defer\u001b[0m\u001b[1;33m(\u001b[0m\u001b[1;34m\"__ne__\"\u001b[0m\u001b[1;33m)\u001b[0m\u001b[1;33m\u001b[0m\u001b[1;33m\u001b[0m\u001b[0m\n",
      "\u001b[1;32m~\\miniconda3\\envs\\ada\\lib\\site-packages\\pandas\\core\\series.py\u001b[0m in \u001b[0;36m_cmp_method\u001b[1;34m(self, other, op)\u001b[0m\n\u001b[0;32m   5500\u001b[0m \u001b[1;33m\u001b[0m\u001b[0m\n\u001b[0;32m   5501\u001b[0m         \u001b[1;32mwith\u001b[0m \u001b[0mnp\u001b[0m\u001b[1;33m.\u001b[0m\u001b[0merrstate\u001b[0m\u001b[1;33m(\u001b[0m\u001b[0mall\u001b[0m\u001b[1;33m=\u001b[0m\u001b[1;34m\"ignore\"\u001b[0m\u001b[1;33m)\u001b[0m\u001b[1;33m:\u001b[0m\u001b[1;33m\u001b[0m\u001b[1;33m\u001b[0m\u001b[0m\n\u001b[1;32m-> 5502\u001b[1;33m             \u001b[0mres_values\u001b[0m \u001b[1;33m=\u001b[0m \u001b[0mops\u001b[0m\u001b[1;33m.\u001b[0m\u001b[0mcomparison_op\u001b[0m\u001b[1;33m(\u001b[0m\u001b[0mlvalues\u001b[0m\u001b[1;33m,\u001b[0m \u001b[0mrvalues\u001b[0m\u001b[1;33m,\u001b[0m \u001b[0mop\u001b[0m\u001b[1;33m)\u001b[0m\u001b[1;33m\u001b[0m\u001b[1;33m\u001b[0m\u001b[0m\n\u001b[0m\u001b[0;32m   5503\u001b[0m \u001b[1;33m\u001b[0m\u001b[0m\n\u001b[0;32m   5504\u001b[0m         \u001b[1;32mreturn\u001b[0m \u001b[0mself\u001b[0m\u001b[1;33m.\u001b[0m\u001b[0m_construct_result\u001b[0m\u001b[1;33m(\u001b[0m\u001b[0mres_values\u001b[0m\u001b[1;33m,\u001b[0m \u001b[0mname\u001b[0m\u001b[1;33m=\u001b[0m\u001b[0mres_name\u001b[0m\u001b[1;33m)\u001b[0m\u001b[1;33m\u001b[0m\u001b[1;33m\u001b[0m\u001b[0m\n",
      "\u001b[1;32m~\\miniconda3\\envs\\ada\\lib\\site-packages\\pandas\\core\\ops\\array_ops.py\u001b[0m in \u001b[0;36mcomparison_op\u001b[1;34m(left, right, op)\u001b[0m\n\u001b[0;32m    282\u001b[0m \u001b[1;33m\u001b[0m\u001b[0m\n\u001b[0;32m    283\u001b[0m     \u001b[1;32melif\u001b[0m \u001b[0mis_object_dtype\u001b[0m\u001b[1;33m(\u001b[0m\u001b[0mlvalues\u001b[0m\u001b[1;33m.\u001b[0m\u001b[0mdtype\u001b[0m\u001b[1;33m)\u001b[0m \u001b[1;32mor\u001b[0m \u001b[0misinstance\u001b[0m\u001b[1;33m(\u001b[0m\u001b[0mrvalues\u001b[0m\u001b[1;33m,\u001b[0m \u001b[0mstr\u001b[0m\u001b[1;33m)\u001b[0m\u001b[1;33m:\u001b[0m\u001b[1;33m\u001b[0m\u001b[1;33m\u001b[0m\u001b[0m\n\u001b[1;32m--> 284\u001b[1;33m         \u001b[0mres_values\u001b[0m \u001b[1;33m=\u001b[0m \u001b[0mcomp_method_OBJECT_ARRAY\u001b[0m\u001b[1;33m(\u001b[0m\u001b[0mop\u001b[0m\u001b[1;33m,\u001b[0m \u001b[0mlvalues\u001b[0m\u001b[1;33m,\u001b[0m \u001b[0mrvalues\u001b[0m\u001b[1;33m)\u001b[0m\u001b[1;33m\u001b[0m\u001b[1;33m\u001b[0m\u001b[0m\n\u001b[0m\u001b[0;32m    285\u001b[0m \u001b[1;33m\u001b[0m\u001b[0m\n\u001b[0;32m    286\u001b[0m     \u001b[1;32melse\u001b[0m\u001b[1;33m:\u001b[0m\u001b[1;33m\u001b[0m\u001b[1;33m\u001b[0m\u001b[0m\n",
      "\u001b[1;32m~\\miniconda3\\envs\\ada\\lib\\site-packages\\pandas\\core\\ops\\array_ops.py\u001b[0m in \u001b[0;36mcomp_method_OBJECT_ARRAY\u001b[1;34m(op, x, y)\u001b[0m\n\u001b[0;32m     72\u001b[0m     \u001b[1;32melse\u001b[0m\u001b[1;33m:\u001b[0m\u001b[1;33m\u001b[0m\u001b[1;33m\u001b[0m\u001b[0m\n\u001b[0;32m     73\u001b[0m         \u001b[0mresult\u001b[0m \u001b[1;33m=\u001b[0m \u001b[0mlibops\u001b[0m\u001b[1;33m.\u001b[0m\u001b[0mscalar_compare\u001b[0m\u001b[1;33m(\u001b[0m\u001b[0mx\u001b[0m\u001b[1;33m.\u001b[0m\u001b[0mravel\u001b[0m\u001b[1;33m(\u001b[0m\u001b[1;33m)\u001b[0m\u001b[1;33m,\u001b[0m \u001b[0my\u001b[0m\u001b[1;33m,\u001b[0m \u001b[0mop\u001b[0m\u001b[1;33m)\u001b[0m\u001b[1;33m\u001b[0m\u001b[1;33m\u001b[0m\u001b[0m\n\u001b[1;32m---> 74\u001b[1;33m     \u001b[1;32mreturn\u001b[0m \u001b[0mresult\u001b[0m\u001b[1;33m.\u001b[0m\u001b[0mreshape\u001b[0m\u001b[1;33m(\u001b[0m\u001b[0mx\u001b[0m\u001b[1;33m.\u001b[0m\u001b[0mshape\u001b[0m\u001b[1;33m)\u001b[0m\u001b[1;33m\u001b[0m\u001b[1;33m\u001b[0m\u001b[0m\n\u001b[0m\u001b[0;32m     75\u001b[0m \u001b[1;33m\u001b[0m\u001b[0m\n\u001b[0;32m     76\u001b[0m \u001b[1;33m\u001b[0m\u001b[0m\n",
      "\u001b[1;31mKeyboardInterrupt\u001b[0m: "
     ]
    }
   ],
   "source": [
    "# Some examples of prominent US politicans\n",
    "display(retrieved_labeled_speakers[retrieved_labeled_speakers.label == 'Donald Trump'].occupation.unique())\n",
    "display(retrieved_labeled_speakers[retrieved_labeled_speakers.label == 'Barack Obama'].occupation.unique())\n",
    "display(retrieved_labeled_speakers[retrieved_labeled_speakers.label == 'Alexandria Ocasio-Cortez'].occupation.unique())\n",
    "display(retrieved_labeled_speakers[retrieved_labeled_speakers.label == 'Hillary Clinton'].occupation.unique())\n",
    "display(retrieved_labeled_speakers[retrieved_labeled_speakers.label == 'Bill Clinton'].occupation.unique())"
   ]
  },
  {
   "cell_type": "markdown",
   "id": "6b32cc68-72da-4a1d-9824-ec916b319487",
   "metadata": {},
   "source": [
    "### 4.2 - Speaker's gender "
   ]
  },
  {
   "cell_type": "code",
   "execution_count": null,
   "id": "028ee509-9661-4696-b28e-1825484b41fe",
   "metadata": {},
   "outputs": [],
   "source": [
    "grouped_by_gender = retrieved_labeled_speakers.groupby(by='gender').label.agg(['count'])\n",
    "grouped_by_gender = grouped_by_gender.sort_values(by='count', ascending=False)\n",
    "grouped_by_gender.head()"
   ]
  },
  {
   "cell_type": "code",
   "execution_count": null,
   "id": "699a6e32-b1dd-44fe-a29a-d3e7228f41f2",
   "metadata": {},
   "outputs": [],
   "source": [
    "not_male_mask = grouped_by_gender.index != 'male' \n",
    "not_female_mask = grouped_by_gender.index != 'female'\n",
    "len(grouped_by_gender[not_male_mask & not_female_mask]) / len(grouped_by_gender)"
   ]
  },
  {
   "cell_type": "markdown",
   "id": "6d55d188-417c-44c4-81a7-f6ead8822c51",
   "metadata": {},
   "source": [
    "The majority of speakers in the Quotebank are male (almost 70%). All other genders consitute about 5% of the speakers."
   ]
  },
  {
   "cell_type": "markdown",
   "id": "6ec4a96c-1505-4111-9524-f93de79c85df",
   "metadata": {},
   "source": [
    "### 4.3 - Speaker's age"
   ]
  },
  {
   "cell_type": "markdown",
   "id": "5cbdbf92-c9dc-4597-85a0-c0c433176cf6",
   "metadata": {},
   "source": [
    "So far we've had the speakers date of birth. Let's convert that to age."
   ]
  },
  {
   "cell_type": "code",
   "execution_count": 105,
   "id": "fd57a8b1-c986-455d-9870-3e14d0e4bbc1",
   "metadata": {},
   "outputs": [
    {
     "data": {
      "text/plain": [
       "array([\"['+1732-02-22T00:00:00Z']\"], dtype=object)"
      ]
     },
     "execution_count": 105,
     "metadata": {},
     "output_type": "execute_result"
    }
   ],
   "source": []
  },
  {
   "cell_type": "markdown",
   "id": "d2f68cc2-58c5-4284-b976-08b24a07f0dc",
   "metadata": {},
   "source": [
    "## 5 - Constructing a feature matrix"
   ]
  },
  {
   "cell_type": "markdown",
   "id": "8722ea97-2526-4cfc-934e-054122aa5322",
   "metadata": {},
   "source": [
    "If we're trying to train a model using our speakers attributes, we're going to have to think of a way to construct a feature matrix. The issue is a lot of the attributes of the speakers are categorical. One way to construct features from those is to one-hot encode them."
   ]
  },
  {
   "cell_type": "code",
   "execution_count": null,
   "id": "d8c1d663-a637-49e5-81d5-93fddc7f7aba",
   "metadata": {},
   "outputs": [],
   "source": []
  }
 ],
 "metadata": {
  "kernelspec": {
   "display_name": "Python 3 (ipykernel)",
   "language": "python",
   "name": "python3"
  },
  "language_info": {
   "codemirror_mode": {
    "name": "ipython",
    "version": 3
   },
   "file_extension": ".py",
   "mimetype": "text/x-python",
   "name": "python",
   "nbconvert_exporter": "python",
   "pygments_lexer": "ipython3",
   "version": "3.8.11"
  }
 },
 "nbformat": 4,
 "nbformat_minor": 5
}
