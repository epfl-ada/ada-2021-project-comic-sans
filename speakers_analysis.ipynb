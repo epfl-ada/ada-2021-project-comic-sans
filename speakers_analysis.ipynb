{
 "cells": [
  {
   "cell_type": "markdown",
   "id": "2a0d3d6f-9b36-4dde-80a9-d5e5d20d2220",
   "metadata": {},
   "source": [
    "# Setup"
   ]
  },
  {
   "cell_type": "code",
   "execution_count": null,
   "id": "6058f870-f5c3-4c36-913f-70adb4db697b",
   "metadata": {},
   "outputs": [],
   "source": [
    "PATH_ROOT = 'data'\n",
    "PATH_PARQUET = PATH_ROOT + '/project_datasets'"
   ]
  },
  {
   "cell_type": "code",
   "execution_count": null,
   "id": "97d34a54-7cd0-4156-8fc7-710d91443983",
   "metadata": {},
   "outputs": [],
   "source": [
    "PATH_OUTPUT = 'output'"
   ]
  },
  {
   "cell_type": "code",
   "execution_count": null,
   "id": "da7c311a-cb35-4cae-8991-b009fd4b58cb",
   "metadata": {},
   "outputs": [],
   "source": [
    "!pip install pyarrow"
   ]
  },
  {
   "cell_type": "code",
   "execution_count": null,
   "id": "f40ddfdd-d913-41ad-bcff-c6ea6e50cbe3",
   "metadata": {
    "id": "2ciQy6i9jOp-"
   },
   "outputs": [],
   "source": [
    "%load_ext autoreload\n",
    "%autoreload 2\n",
    "\n",
    "import pandas as pd\n",
    "import numpy as np\n",
    "import seaborn as sns\n",
    "\n",
    "#NLP libraries\n",
    "import spacy, nltk, gensim, sklearn\n",
    "import pyLDAvis.gensim_models\n",
    "\n",
    "import matplotlib.pyplot as plt\n",
    "%matplotlib inline  "
   ]
  },
  {
   "cell_type": "markdown",
   "id": "81461c2f-5974-4bbd-a52a-5965372a76d0",
   "metadata": {},
   "source": [
    "# 1. Loading speakers data"
   ]
  },
  {
   "cell_type": "markdown",
   "id": "c8eeb782-384a-4a73-8172-b0d7892474f6",
   "metadata": {
    "id": "aZEhusKde0oI",
    "tags": []
   },
   "source": [
    "## Reading wikidata labels"
   ]
  },
  {
   "cell_type": "code",
   "execution_count": null,
   "id": "c8203205-d3d4-4ec1-8baf-b518a6feb010",
   "metadata": {
    "colab": {
     "base_uri": "https://localhost:8080/",
     "height": 447
    },
    "id": "nu5mKlTCfEaA",
    "outputId": "650af35b-3663-4848-ab54-ef59e4834f8d",
    "tags": []
   },
   "outputs": [],
   "source": [
    "df_wikidata_labels = pd.read_csv(PATH_PARQUET + '/wikidata_labels_descriptions_quotebank.csv.bz2', compression='bz2', index_col='QID')\n",
    "df_wikidata_labels.head()"
   ]
  },
  {
   "cell_type": "markdown",
   "id": "e405dc0b-06fc-4d0c-b55e-746318be1582",
   "metadata": {
    "id": "UnZ3lLf41f_P"
   },
   "source": [
    "## Reading speakers parquet file"
   ]
  },
  {
   "cell_type": "code",
   "execution_count": null,
   "id": "b0e809c6-fbcd-4681-b9e3-bc650dcf1480",
   "metadata": {
    "colab": {
     "base_uri": "https://localhost:8080/",
     "height": 576
    },
    "id": "F4U_W5Fe1n0g",
    "outputId": "c7c1cc47-56d8-4e7e-c74a-cc075d7889cb",
    "tags": []
   },
   "outputs": [],
   "source": [
    "df_speakers = pd.read_parquet(PATH_PARQUET + '/speaker_attributes.parquet')\n",
    "df_speakers.set_index(keys='id', inplace=True)\n",
    "df_speakers.head()"
   ]
  },
  {
   "cell_type": "code",
   "execution_count": null,
   "id": "7977a48c-2876-459c-8b08-0b017dadea0b",
   "metadata": {},
   "outputs": [],
   "source": [
    "df_speakers_cleaned = df_speakers.dropna()\n",
    "print('Total number of speakers : ', len(df_speakers))\n",
    "print('Total number of speakers with filled attributes : ', len(df_speakers_cleaned))\n",
    "print('{} rows dropped'.format(len(df_speakers) - len(df_speakers_cleaned)))"
   ]
  },
  {
   "cell_type": "markdown",
   "id": "c9318a92-b7e5-4a4a-9548-21f233f4081d",
   "metadata": {},
   "source": [
    "As we can see that dropping all speakers with undefined attributes is unrealistic to work with, since we're only left with 3 speakers with all their attributes defined to work with. We're going to have to some fine-grained filtering of undefined values column wise instead of on whole rows (all attributes)."
   ]
  },
  {
   "cell_type": "markdown",
   "id": "65e18d8b-0569-4ecc-929d-e509eb546f9f",
   "metadata": {},
   "source": [
    "## 2 - Merging speakers attributes qids with wikidata labels"
   ]
  },
  {
   "cell_type": "code",
   "execution_count": null,
   "id": "e5e313f1-885c-4c7d-a036-0a27c72a3bd6",
   "metadata": {},
   "outputs": [],
   "source": [
    "attributes_columns = ['date_of_birth', 'nationality', 'gender', 'ethnic_group', 'occupation', 'party', 'academic_degree', 'candidacy', 'religion']\n",
    "\n",
    "# Let's first explode their attributes\n",
    "for col in attributes_columns:\n",
    "    df_speakers = df_speakers.explode(col)\n",
    "    \n",
    "df_speakers.head()"
   ]
  },
  {
   "cell_type": "markdown",
   "id": "cf67f8f7-cea2-4892-8372-981c962ec1fa",
   "metadata": {},
   "source": [
    "#### Quick stop before proceeding"
   ]
  },
  {
   "cell_type": "markdown",
   "id": "0d25c6aa-3900-4a92-aa1f-2d58d798bb32",
   "metadata": {},
   "source": [
    "Before we continue, we need to convert the date of birth to something meaningful like the speaker's age."
   ]
  },
  {
   "cell_type": "code",
   "execution_count": null,
   "id": "46d3be94-10eb-4d8c-99a7-7170b809ff4a",
   "metadata": {},
   "outputs": [],
   "source": [
    "def normalize_date_of_birth(date):\n",
    "    '''\n",
    "    Normalize the date of birth format of our speakers. Currently the format is (+/-)YYYY-MM-DDTHH:MM:SS: Z.\n",
    "    We'll convert it simply to YYYY-MM-DD. However the date sometimes has month or day value of 0, and hence \n",
    "    needs further sanitization, and in that case we just output the year.\n",
    "    \n",
    "    Params: \n",
    "        date: the date\n",
    "    returns:\n",
    "        the date formatted as YYYY:MM:DD\n",
    "    '''\n",
    "    if date is not None:\n",
    "        birth_date = date[1:11]\n",
    "        year, month, day = birth_date[0:4], birth_date[5:7], birth_date[8:11]\n",
    "        if month == '00' or day == '00':\n",
    "            return year\n",
    "        else:\n",
    "            return birth_date\n",
    "    else:\n",
    "        return date\n",
    "\n",
    "test_data = '+1732-02-22T00:00:00Z'\n",
    "display(normalize_date_of_birth(test_data))\n",
    "test_data_invalid_month = '+1732-00-22T00:00:00Z'\n",
    "display(normalize_date_of_birth(test_data_invalid_month))"
   ]
  },
  {
   "cell_type": "code",
   "execution_count": null,
   "id": "b5bee232-69cf-45b6-bfe7-8a9225e48594",
   "metadata": {},
   "outputs": [],
   "source": [
    "# Normalize date of birth into a new column 'age' in which we'll calculate the age of the speaker\n",
    "# and then convert it to datetime instance\n",
    "df_speakers['age'] = pd.to_datetime(df_speakers.date_of_birth.apply(normalize_date_of_birth), errors='coerce')\n",
    "df_speakers.age.head()"
   ]
  },
  {
   "cell_type": "code",
   "execution_count": null,
   "id": "07b018b9-a237-43fa-a079-794c8b420351",
   "metadata": {},
   "outputs": [],
   "source": [
    "def compute_age(date_of_birth):\n",
    "    now = pd.Timestamp('now')\n",
    "    age = date_o"
   ]
  },
  {
   "cell_type": "code",
   "execution_count": null,
   "id": "bea19bb6-7c8e-40db-971e-b62031995fa6",
   "metadata": {},
   "outputs": [],
   "source": [
    "# Calculate the age by computing the difference between now and their birth dates.\n",
    "now = pd.Timestamp('now')\n",
    "df_speakers.age = (now.year - df_speakers.age.year)\n",
    "df_speakers.age.head()"
   ]
  },
  {
   "cell_type": "code",
   "execution_count": null,
   "id": "bda7fdb2-5a80-4112-90d5-98fbbc6c112d",
   "metadata": {},
   "outputs": [],
   "source": [
    "df_speakers[df_speakers.label == 'Donald Trump'][['date_of_birth', 'age']]"
   ]
  },
  {
   "cell_type": "code",
   "execution_count": null,
   "id": "cc228363-4e2b-4889-9e21-e94883e6f901",
   "metadata": {},
   "outputs": [],
   "source": [
    "pd.to_datetime('1990-02-01')"
   ]
  },
  {
   "cell_type": "markdown",
   "id": "ef30f0fd-d577-45bb-bf3d-ebb25ac5bcd6",
   "metadata": {},
   "source": [
    "Of course ages are just indicative, we can have people like president George Washington who are over 200 years old."
   ]
  },
  {
   "cell_type": "markdown",
   "id": "f809cc0e-0e6d-4643-90b7-e593aeee7503",
   "metadata": {},
   "source": [
    "#### Now let's merge attributes with their wikidata labels"
   ]
  },
  {
   "cell_type": "code",
   "execution_count": null,
   "id": "29a5f1e0-82c2-42cc-abca-ef48df169e6f",
   "metadata": {},
   "outputs": [],
   "source": [
    "df_speakers_labeled = df_speakers.copy()\n",
    "\n",
    "for col in attributes_columns:\n",
    "    df_speakers_labeled = df_speakers_labeled.merge(df_wikidata_labels, left_on=col, right_index=True, how='left')\n",
    "    df_speakers_labeled[col] = df_speakers_labeled['Label']\n",
    "    df_speakers_labeled.drop(columns=['Label', 'Description'], inplace=True)"
   ]
  },
  {
   "cell_type": "code",
   "execution_count": null,
   "id": "7999ed21-171a-49ed-852a-edf87977960e",
   "metadata": {},
   "outputs": [],
   "source": [
    "df_speakers_labeled.head()"
   ]
  },
  {
   "cell_type": "markdown",
   "id": "7eaf5d7d-35d1-4e6f-9105-bfe027b16cb4",
   "metadata": {},
   "source": [
    "Now we have a row per speaker for every combination of his attributes. This might be biased for speakers with a lot of attributes (e.g. several occupations, ethnic_group, etc...)."
   ]
  },
  {
   "cell_type": "code",
   "execution_count": null,
   "id": "f790ca35-41f7-4cee-aeae-a6e6d072f23f",
   "metadata": {},
   "outputs": [],
   "source": [
    "display(df_speakers_labeled.dtypes)\n",
    "print('Length of final labeled speakers dataframe {}'.format(len(df_speakers_labeled)))"
   ]
  },
  {
   "cell_type": "markdown",
   "id": "a14f087d-65ec-46c3-abc6-78782b63bafd",
   "metadata": {},
   "source": [
    "## 3 - Save result to disk for quick future retrieval"
   ]
  },
  {
   "cell_type": "code",
   "execution_count": null,
   "id": "2728789a-9e88-467d-8f26-6582141e41af",
   "metadata": {},
   "outputs": [],
   "source": [
    "df_speakers_labeled.to_csv(PATH_OUTPUT + '/speakers_labeled.csv', index=False)"
   ]
  },
  {
   "cell_type": "markdown",
   "id": "60765e7a-9558-4eff-8794-08f1d7119a73",
   "metadata": {},
   "source": [
    "## 4 - Explore the speakers data (Continue work from here)"
   ]
  },
  {
   "cell_type": "markdown",
   "id": "b5487205-916a-4c5a-9617-e1472d33aa08",
   "metadata": {},
   "source": [
    "Let's do some quick analysis on the speakers' professions. First retrieve our dataframe saved in csv."
   ]
  },
  {
   "cell_type": "code",
   "execution_count": null,
   "id": "b85b91c2-1243-411e-87ae-11022c9935e1",
   "metadata": {},
   "outputs": [],
   "source": [
    "retrieved_labeled_speakers = pd.read_csv(PATH_OUTPUT + '/speakers_labeled.csv')\n",
    "retrieved_labeled_speakers.head()"
   ]
  },
  {
   "cell_type": "code",
   "execution_count": null,
   "id": "030cc9ab-94b2-409d-b511-fc9f73e87649",
   "metadata": {},
   "outputs": [],
   "source": [
    "display(retrieved_labeled_speakers.dtypes)\n",
    "print('Length of final labeled speakers dataframe {}'.format(len(retrieved_labeled_speakers)))"
   ]
  },
  {
   "cell_type": "markdown",
   "id": "8ab987aa-d942-426a-bd6f-6029072faf1d",
   "metadata": {},
   "source": [
    "### 4.1 - Speakers occupations"
   ]
  },
  {
   "cell_type": "markdown",
   "id": "39f46565-8d6b-40fc-86d0-edc23d88703a",
   "metadata": {},
   "source": [
    "Now let's see the distribution of the speakers' occupations."
   ]
  },
  {
   "cell_type": "code",
   "execution_count": null,
   "id": "f914dc8c-baef-418d-8d97-b0f455017fed",
   "metadata": {},
   "outputs": [],
   "source": [
    "grouped_by_occupations = retrieved_labeled_speakers.groupby(by='occupation').label.agg(['count'])\n",
    "grouped_by_occupations = grouped_by_occupations.sort_values(by='count', ascending=False)\n",
    "grouped_by_occupations.head()"
   ]
  },
  {
   "cell_type": "code",
   "execution_count": null,
   "id": "4f8ce4d2-5564-45c1-8741-215c440b915f",
   "metadata": {},
   "outputs": [],
   "source": [
    "# Plot the distribution of the top 20 occupations\n",
    "fig, ax = plt.subplots(figsize =  (14, 8))\n",
    "ax.pie(grouped_by_occupations[:20]['count'], labels=grouped_by_occupations[:20].index, autopct='%1.1f%%',\n",
    "        shadow=True, startangle=90)\n",
    "\n",
    "fig.tight_layout()"
   ]
  },
  {
   "cell_type": "markdown",
   "id": "af479e23-9353-4ff8-a359-42fdb92bd475",
   "metadata": {},
   "source": [
    "Someone like Donald Trump has a lot of occupations, which means he's going to have a lot of rows dedicated to him in the dataframe, since we exploded the multi-values attributes. (This can be **problematic when training our model**)"
   ]
  },
  {
   "cell_type": "code",
   "execution_count": null,
   "id": "1839c939-0e34-420c-9fcb-151081c32c12",
   "metadata": {},
   "outputs": [],
   "source": [
    "# Some examples of prominent US politicans\n",
    "display(retrieved_labeled_speakers[retrieved_labeled_speakers.label == 'Donald Trump'].occupation.unique())\n",
    "display(retrieved_labeled_speakers[retrieved_labeled_speakers.label == 'Barack Obama'].occupation.unique())\n",
    "display(retrieved_labeled_speakers[retrieved_labeled_speakers.label == 'Alexandria Ocasio-Cortez'].occupation.unique())\n",
    "display(retrieved_labeled_speakers[retrieved_labeled_speakers.label == 'Hillary Clinton'].occupation.unique())\n",
    "display(retrieved_labeled_speakers[retrieved_labeled_speakers.label == 'Bill Clinton'].occupation.unique())"
   ]
  },
  {
   "cell_type": "markdown",
   "id": "6b32cc68-72da-4a1d-9824-ec916b319487",
   "metadata": {},
   "source": [
    "### 4.2 - Speaker's gender "
   ]
  },
  {
   "cell_type": "code",
   "execution_count": null,
   "id": "028ee509-9661-4696-b28e-1825484b41fe",
   "metadata": {},
   "outputs": [],
   "source": [
    "grouped_by_gender = retrieved_labeled_speakers.groupby(by='gender').label.agg(['count'])\n",
    "grouped_by_gender = grouped_by_gender.sort_values(by='count', ascending=False)\n",
    "grouped_by_gender.head()"
   ]
  },
  {
   "cell_type": "code",
   "execution_count": null,
   "id": "699a6e32-b1dd-44fe-a29a-d3e7228f41f2",
   "metadata": {},
   "outputs": [],
   "source": [
    "not_male_mask = grouped_by_gender.index != 'male' \n",
    "not_female_mask = grouped_by_gender.index != 'female'\n",
    "len(grouped_by_gender[not_male_mask & not_female_mask]) / len(grouped_by_gender)"
   ]
  },
  {
   "cell_type": "markdown",
   "id": "6d55d188-417c-44c4-81a7-f6ead8822c51",
   "metadata": {},
   "source": [
    "The majority of speakers in the Quotebank are male (almost 70%). All other genders consitute about 5% of the speakers."
   ]
  },
  {
   "cell_type": "markdown",
   "id": "6ec4a96c-1505-4111-9524-f93de79c85df",
   "metadata": {},
   "source": [
    "### 4.3 - Speaker's age"
   ]
  },
  {
   "cell_type": "markdown",
   "id": "5cbdbf92-c9dc-4597-85a0-c0c433176cf6",
   "metadata": {},
   "source": [
    "So far we've had the speakers date of birth. Let's convert that to age."
   ]
  },
  {
   "cell_type": "code",
   "execution_count": null,
   "id": "fd57a8b1-c986-455d-9870-3e14d0e4bbc1",
   "metadata": {},
   "outputs": [],
   "source": []
  },
  {
   "cell_type": "markdown",
   "id": "d2f68cc2-58c5-4284-b976-08b24a07f0dc",
   "metadata": {},
   "source": [
    "## 5 - Constructing a feature matrix"
   ]
  },
  {
   "cell_type": "markdown",
   "id": "8722ea97-2526-4cfc-934e-054122aa5322",
   "metadata": {},
   "source": [
    "If we're trying to train a model using our speakers attributes, we're going to have to think of a way to construct a feature matrix. The issue is a lot of the attributes of the speakers are categorical. One way to construct features from those is to one-hot encode them."
   ]
  },
  {
   "cell_type": "code",
   "execution_count": null,
   "id": "d8c1d663-a637-49e5-81d5-93fddc7f7aba",
   "metadata": {},
   "outputs": [],
   "source": []
  }
 ],
 "metadata": {
  "kernelspec": {
   "display_name": "Python 3 (ipykernel)",
   "language": "python",
   "name": "python3"
  },
  "language_info": {
   "codemirror_mode": {
    "name": "ipython",
    "version": 3
   },
   "file_extension": ".py",
   "mimetype": "text/x-python",
   "name": "python",
   "nbconvert_exporter": "python",
   "pygments_lexer": "ipython3",
   "version": "3.8.11"
  }
 },
 "nbformat": 4,
 "nbformat_minor": 5
}
