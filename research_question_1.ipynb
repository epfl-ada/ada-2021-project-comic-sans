{
 "cells": [
  {
   "cell_type": "markdown",
   "id": "2a642fe6-17dd-4fa8-85a5-378bef77dfc4",
   "metadata": {},
   "source": [
    "# Analysis on the speakers data"
   ]
  },
  {
   "cell_type": "markdown",
   "id": "a2c95682-780c-4db0-8e9b-e20a25372f62",
   "metadata": {},
   "source": [
    "In this notebook, we will go about exploring the preprocessed speakers data.\n",
    "\n",
    "More specifically, we will try to answer the first research question we've posed which is **what is the most common profile of a speaker that talks about the environment?** And **how likely a speaker of a certain profile would mention the environment?**\n",
    "\n",
    "We will proceed as follows:\n",
    "\n",
    "1. We will first start retrieving our preprocessed speakers data, with all their attributes labeled.\n",
    "2. Exploring in general the speakers attributes and their distributions.\n",
    "3. Isolating speakers of the environment and extracting a common profile for a speaker to be likely to speak of the environment.\n",
    "4. Training a model using features of the speaker to predict if they are likely to speak of the environment or not, and test it.\n",
    "\n",
    "In the following we will refer to speakers who have spoken about the environment in their quotations as **environmental speakers**."
   ]
  },
  {
   "cell_type": "markdown",
   "id": "d4dd7393-1ec7-49dd-bdef-66cf715bc77a",
   "metadata": {},
   "source": [
    "## 0. Setup"
   ]
  },
  {
   "cell_type": "code",
   "execution_count": 1,
   "id": "cee91640-8148-47ad-8fe5-cb4676fc4eaa",
   "metadata": {
    "id": "2ciQy6i9jOp-"
   },
   "outputs": [],
   "source": [
    "%load_ext autoreload\n",
    "%autoreload 2\n",
    "\n",
    "import pandas as pd\n",
    "import numpy as np\n",
    "import seaborn as sns\n",
    "\n",
    "import matplotlib.pyplot as plt\n",
    "%matplotlib inline \n",
    "\n",
    "import pickle"
   ]
  },
  {
   "cell_type": "code",
   "execution_count": 2,
   "id": "b3ed66ea-8640-425c-b3f0-af4a31fa55ec",
   "metadata": {},
   "outputs": [],
   "source": [
    "PATH_ROOT = 'data'\n",
    "PATH_OUTPUT = 'output'\n",
    "PATH_PARQUET = PATH_ROOT + '/project_datasets'\n",
    "PATH_QUOTEBANK = PATH_ROOT + '/Quotebank'\n",
    "PATH_TO_QUOTES = PATH_QUOTEBANK + '/quotes-{year}.json.bz2'"
   ]
  },
  {
   "cell_type": "markdown",
   "id": "dd68dab0-06d1-434b-9c2c-3399010898cf",
   "metadata": {},
   "source": [
    "## 1. Retrieve the preprocessed data"
   ]
  },
  {
   "cell_type": "code",
   "execution_count": 3,
   "id": "3e595797-9310-47ea-ab61-c2ca83d66c7d",
   "metadata": {},
   "outputs": [
    {
     "data": {
      "text/html": [
       "<div>\n",
       "<style scoped>\n",
       "    .dataframe tbody tr th:only-of-type {\n",
       "        vertical-align: middle;\n",
       "    }\n",
       "\n",
       "    .dataframe tbody tr th {\n",
       "        vertical-align: top;\n",
       "    }\n",
       "\n",
       "    .dataframe thead th {\n",
       "        text-align: right;\n",
       "    }\n",
       "</style>\n",
       "<table border=\"1\" class=\"dataframe\">\n",
       "  <thead>\n",
       "    <tr style=\"text-align: right;\">\n",
       "      <th></th>\n",
       "      <th>aliases</th>\n",
       "      <th>date_of_birth</th>\n",
       "      <th>nationality</th>\n",
       "      <th>gender</th>\n",
       "      <th>lastrevid</th>\n",
       "      <th>ethnic_group</th>\n",
       "      <th>US_congress_bio_ID</th>\n",
       "      <th>occupation</th>\n",
       "      <th>party</th>\n",
       "      <th>academic_degree</th>\n",
       "      <th>label</th>\n",
       "      <th>candidacy</th>\n",
       "      <th>type</th>\n",
       "      <th>religion</th>\n",
       "      <th>age</th>\n",
       "      <th>age_group</th>\n",
       "    </tr>\n",
       "    <tr>\n",
       "      <th>id</th>\n",
       "      <th></th>\n",
       "      <th></th>\n",
       "      <th></th>\n",
       "      <th></th>\n",
       "      <th></th>\n",
       "      <th></th>\n",
       "      <th></th>\n",
       "      <th></th>\n",
       "      <th></th>\n",
       "      <th></th>\n",
       "      <th></th>\n",
       "      <th></th>\n",
       "      <th></th>\n",
       "      <th></th>\n",
       "      <th></th>\n",
       "      <th></th>\n",
       "    </tr>\n",
       "  </thead>\n",
       "  <tbody>\n",
       "    <tr>\n",
       "      <th>Q23</th>\n",
       "      <td>[Washington, President Washington, G. Washingt...</td>\n",
       "      <td>[+1732-02-22T00:00:00Z]</td>\n",
       "      <td>[Great Britain, United States of America]</td>\n",
       "      <td>[male]</td>\n",
       "      <td>1395141751</td>\n",
       "      <td>[None]</td>\n",
       "      <td>W000178</td>\n",
       "      <td>[politician, military officer, farmer, cartogr...</td>\n",
       "      <td>[independent politician]</td>\n",
       "      <td>[None]</td>\n",
       "      <td>George Washington</td>\n",
       "      <td>[1792 United States presidential election, 178...</td>\n",
       "      <td>item</td>\n",
       "      <td>[Episcopal Church]</td>\n",
       "      <td>289.0</td>\n",
       "      <td>&gt;=100</td>\n",
       "    </tr>\n",
       "    <tr>\n",
       "      <th>Q42</th>\n",
       "      <td>[Douglas Noel Adams, Douglas Noël Adams, Dougl...</td>\n",
       "      <td>[+1952-03-11T00:00:00Z]</td>\n",
       "      <td>[United Kingdom]</td>\n",
       "      <td>[male]</td>\n",
       "      <td>1395737157</td>\n",
       "      <td>[White British]</td>\n",
       "      <td>None</td>\n",
       "      <td>[playwright, screenwriter, novelist, children'...</td>\n",
       "      <td>[None]</td>\n",
       "      <td>[None]</td>\n",
       "      <td>Douglas Adams</td>\n",
       "      <td>[None]</td>\n",
       "      <td>item</td>\n",
       "      <td>[None]</td>\n",
       "      <td>69.0</td>\n",
       "      <td>60s</td>\n",
       "    </tr>\n",
       "    <tr>\n",
       "      <th>Q1868</th>\n",
       "      <td>[Paul Marie Ghislain Otlet, Paul Marie Otlet]</td>\n",
       "      <td>[+1868-08-23T00:00:00Z]</td>\n",
       "      <td>[Belgium]</td>\n",
       "      <td>[male]</td>\n",
       "      <td>1380367296</td>\n",
       "      <td>[None]</td>\n",
       "      <td>None</td>\n",
       "      <td>[writer, lawyer, librarian, information scient...</td>\n",
       "      <td>[None]</td>\n",
       "      <td>[None]</td>\n",
       "      <td>Paul Otlet</td>\n",
       "      <td>[None]</td>\n",
       "      <td>item</td>\n",
       "      <td>[None]</td>\n",
       "      <td>153.0</td>\n",
       "      <td>&gt;=100</td>\n",
       "    </tr>\n",
       "    <tr>\n",
       "      <th>Q207</th>\n",
       "      <td>[George Walker Bush, Bush Jr., Dubya, GWB, Bus...</td>\n",
       "      <td>[+1946-07-06T00:00:00Z]</td>\n",
       "      <td>[United States of America]</td>\n",
       "      <td>[male]</td>\n",
       "      <td>1395142029</td>\n",
       "      <td>[None]</td>\n",
       "      <td>None</td>\n",
       "      <td>[politician, motivational speaker, autobiograp...</td>\n",
       "      <td>[Republican Party]</td>\n",
       "      <td>[None]</td>\n",
       "      <td>George W. Bush</td>\n",
       "      <td>[2000 United States presidential election, 200...</td>\n",
       "      <td>item</td>\n",
       "      <td>[United Methodist Church, Episcopal Church, Me...</td>\n",
       "      <td>75.0</td>\n",
       "      <td>70s</td>\n",
       "    </tr>\n",
       "    <tr>\n",
       "      <th>Q297</th>\n",
       "      <td>[Velázquez, Diego Rodríguez de Silva y Velázqu...</td>\n",
       "      <td>[+1599-06-06T00:00:00Z]</td>\n",
       "      <td>[Spain]</td>\n",
       "      <td>[male]</td>\n",
       "      <td>1391704596</td>\n",
       "      <td>[None]</td>\n",
       "      <td>None</td>\n",
       "      <td>[painter]</td>\n",
       "      <td>[None]</td>\n",
       "      <td>[None]</td>\n",
       "      <td>Diego Velázquez</td>\n",
       "      <td>[None]</td>\n",
       "      <td>item</td>\n",
       "      <td>[None]</td>\n",
       "      <td>422.0</td>\n",
       "      <td>&gt;=100</td>\n",
       "    </tr>\n",
       "  </tbody>\n",
       "</table>\n",
       "</div>"
      ],
      "text/plain": [
       "                                                 aliases  \\\n",
       "id                                                         \n",
       "Q23    [Washington, President Washington, G. Washingt...   \n",
       "Q42    [Douglas Noel Adams, Douglas Noël Adams, Dougl...   \n",
       "Q1868      [Paul Marie Ghislain Otlet, Paul Marie Otlet]   \n",
       "Q207   [George Walker Bush, Bush Jr., Dubya, GWB, Bus...   \n",
       "Q297   [Velázquez, Diego Rodríguez de Silva y Velázqu...   \n",
       "\n",
       "                 date_of_birth                                nationality  \\\n",
       "id                                                                          \n",
       "Q23    [+1732-02-22T00:00:00Z]  [Great Britain, United States of America]   \n",
       "Q42    [+1952-03-11T00:00:00Z]                           [United Kingdom]   \n",
       "Q1868  [+1868-08-23T00:00:00Z]                                  [Belgium]   \n",
       "Q207   [+1946-07-06T00:00:00Z]                 [United States of America]   \n",
       "Q297   [+1599-06-06T00:00:00Z]                                    [Spain]   \n",
       "\n",
       "       gender   lastrevid     ethnic_group US_congress_bio_ID  \\\n",
       "id                                                              \n",
       "Q23    [male]  1395141751           [None]            W000178   \n",
       "Q42    [male]  1395737157  [White British]               None   \n",
       "Q1868  [male]  1380367296           [None]               None   \n",
       "Q207   [male]  1395142029           [None]               None   \n",
       "Q297   [male]  1391704596           [None]               None   \n",
       "\n",
       "                                              occupation  \\\n",
       "id                                                         \n",
       "Q23    [politician, military officer, farmer, cartogr...   \n",
       "Q42    [playwright, screenwriter, novelist, children'...   \n",
       "Q1868  [writer, lawyer, librarian, information scient...   \n",
       "Q207   [politician, motivational speaker, autobiograp...   \n",
       "Q297                                           [painter]   \n",
       "\n",
       "                          party academic_degree              label  \\\n",
       "id                                                                   \n",
       "Q23    [independent politician]          [None]  George Washington   \n",
       "Q42                      [None]          [None]      Douglas Adams   \n",
       "Q1868                    [None]          [None]         Paul Otlet   \n",
       "Q207         [Republican Party]          [None]     George W. Bush   \n",
       "Q297                     [None]          [None]    Diego Velázquez   \n",
       "\n",
       "                                               candidacy  type  \\\n",
       "id                                                               \n",
       "Q23    [1792 United States presidential election, 178...  item   \n",
       "Q42                                               [None]  item   \n",
       "Q1868                                             [None]  item   \n",
       "Q207   [2000 United States presidential election, 200...  item   \n",
       "Q297                                              [None]  item   \n",
       "\n",
       "                                                religion    age age_group  \n",
       "id                                                                         \n",
       "Q23                                   [Episcopal Church]  289.0     >=100  \n",
       "Q42                                               [None]   69.0       60s  \n",
       "Q1868                                             [None]  153.0     >=100  \n",
       "Q207   [United Methodist Church, Episcopal Church, Me...   75.0       70s  \n",
       "Q297                                              [None]  422.0     >=100  "
      ]
     },
     "metadata": {},
     "output_type": "display_data"
    },
    {
     "data": {
      "text/plain": [
       "aliases                object\n",
       "date_of_birth          object\n",
       "nationality            object\n",
       "gender                 object\n",
       "lastrevid               int64\n",
       "ethnic_group           object\n",
       "US_congress_bio_ID     object\n",
       "occupation             object\n",
       "party                  object\n",
       "academic_degree        object\n",
       "label                  object\n",
       "candidacy              object\n",
       "type                   object\n",
       "religion               object\n",
       "age                   float64\n",
       "age_group              object\n",
       "dtype: object"
      ]
     },
     "metadata": {},
     "output_type": "display_data"
    },
    {
     "name": "stdout",
     "output_type": "stream",
     "text": [
      "Length of final labeled speakers dataframe 9055981\n"
     ]
    }
   ],
   "source": [
    "# Retrieve the preprocessed dataframe\n",
    "retrieved_labeled_speakers = pd.read_parquet(PATH_OUTPUT + '/speakers_labeled.parquet.gzip')\n",
    "display(retrieved_labeled_speakers.head())\n",
    "display(retrieved_labeled_speakers.dtypes)\n",
    "print('Length of final labeled speakers dataframe {}'.format(len(retrieved_labeled_speakers)))"
   ]
  },
  {
   "cell_type": "markdown",
   "id": "88eb07da-5bf8-463d-a12f-bf1f8585a435",
   "metadata": {},
   "source": [
    "## 2. Exploring speakers attributes"
   ]
  },
  {
   "cell_type": "markdown",
   "id": "87a9fbeb-62a6-4b0d-ab16-64f2d4979096",
   "metadata": {},
   "source": [
    "Let's check the distribution of some of the speakers attributes, that we could potentially use as features."
   ]
  },
  {
   "cell_type": "markdown",
   "id": "9c5708cf-fc53-4963-915f-f2c21d535fa6",
   "metadata": {},
   "source": [
    "We first a define a helper function to help us group speakers by one or more features, and sorting them by frequency. This will help us to get the most prominent instances of a feature."
   ]
  },
  {
   "cell_type": "code",
   "execution_count": 4,
   "id": "60763ade-d26b-4d1d-8f50-7637798e2e1b",
   "metadata": {},
   "outputs": [],
   "source": [
    "def group_and_sort_by_features(df, features):\n",
    "    '''\n",
    "    Group a dataframe by the given features and sort them by the number of occurrences.\n",
    "    We use aggregation on the label column (speaker's name) since we don't take into account any quotations\n",
    "    that we can't attribute to an actual speaker (e.g. if label == None).\n",
    "    \n",
    "    Params:\n",
    "        df: the input dataframe that has columns corresponding to the features given\n",
    "        features: the features we're grouping on\n",
    "    '''\n",
    "    grouped_by_features = df.copy()\n",
    "    for feature in features:\n",
    "        grouped_by_features = grouped_by_features.explode(feature)\n",
    "    grouped_by_features = grouped_by_features.groupby(by=features)\n",
    "    sorted_by_features = grouped_by_features['label'].agg(['count']).sort_values(by='count', ascending=False)\n",
    "    return sorted_by_features"
   ]
  },
  {
   "cell_type": "markdown",
   "id": "6a0d57b6-3634-4941-ac9c-1c2a95fc16ab",
   "metadata": {},
   "source": [
    "#### 2.1 - Speaker's academic degree"
   ]
  },
  {
   "cell_type": "markdown",
   "id": "f4ec54e2-27d2-4c3a-8df1-8286aeba9dc3",
   "metadata": {},
   "source": [
    "If we consider speakers that have *None* value in *academic_degree* as 'uneducated', we can calculate the portion of 'educated' speakers with respect to the 'uneducated'."
   ]
  },
  {
   "cell_type": "code",
   "execution_count": 5,
   "id": "dedf8142-63d9-4f85-888c-54fffeb246a4",
   "metadata": {},
   "outputs": [],
   "source": [
    "def check_academic_degree(va):\n",
    "    return va[0] is not None\n",
    "\n",
    "academic_degree_df = retrieved_labeled_speakers[retrieved_labeled_speakers.academic_degree.apply(check_academic_degree)]\n",
    "nb_educated_speakers = len(academic_degree_df)\n",
    "nb_uneducated_speakers = len(retrieved_labeled_speakers) - nb_educated_speakers"
   ]
  },
  {
   "cell_type": "code",
   "execution_count": 6,
   "id": "13a5819f-1741-4c5b-8bb2-817c39c9d98c",
   "metadata": {},
   "outputs": [
    {
     "name": "stdout",
     "output_type": "stream",
     "text": [
      "99483 speakers with an academic degree\n",
      "8956498 speakers with no academic degree\n",
      "0.011 % of speakers are \"educated\"\n"
     ]
    }
   ],
   "source": [
    "print('{} speakers with an academic degree'.format(nb_educated_speakers))\n",
    "print('{} speakers with no academic degree'.format(nb_uneducated_speakers))\n",
    "print('{:.3f} % of speakers are \"educated\"'.format(nb_educated_speakers / len(retrieved_labeled_speakers)))"
   ]
  },
  {
   "cell_type": "markdown",
   "id": "f75647d2-7b87-4d90-9e4f-1e7ba1f29400",
   "metadata": {},
   "source": [
    "#### 2.2 - Speaker's occupation"
   ]
  },
  {
   "cell_type": "markdown",
   "id": "2a9d2534-da98-44ed-bdb7-8e29b163e806",
   "metadata": {},
   "source": [
    "Now let's see the distribution of the speakers' occupations."
   ]
  },
  {
   "cell_type": "code",
   "execution_count": 7,
   "id": "a6990130-7d0f-44c9-a7cc-1016353e605a",
   "metadata": {},
   "outputs": [
    {
     "data": {
      "text/html": [
       "<div>\n",
       "<style scoped>\n",
       "    .dataframe tbody tr th:only-of-type {\n",
       "        vertical-align: middle;\n",
       "    }\n",
       "\n",
       "    .dataframe tbody tr th {\n",
       "        vertical-align: top;\n",
       "    }\n",
       "\n",
       "    .dataframe thead th {\n",
       "        text-align: right;\n",
       "    }\n",
       "</style>\n",
       "<table border=\"1\" class=\"dataframe\">\n",
       "  <thead>\n",
       "    <tr style=\"text-align: right;\">\n",
       "      <th></th>\n",
       "      <th>count</th>\n",
       "    </tr>\n",
       "    <tr>\n",
       "      <th>occupation</th>\n",
       "      <th></th>\n",
       "    </tr>\n",
       "  </thead>\n",
       "  <tbody>\n",
       "    <tr>\n",
       "      <th>researcher</th>\n",
       "      <td>1693607</td>\n",
       "    </tr>\n",
       "    <tr>\n",
       "      <th>politician</th>\n",
       "      <td>589893</td>\n",
       "    </tr>\n",
       "    <tr>\n",
       "      <th>association football player</th>\n",
       "      <td>309608</td>\n",
       "    </tr>\n",
       "    <tr>\n",
       "      <th>actor</th>\n",
       "      <td>267074</td>\n",
       "    </tr>\n",
       "    <tr>\n",
       "      <th>writer</th>\n",
       "      <td>262005</td>\n",
       "    </tr>\n",
       "    <tr>\n",
       "      <th>painter</th>\n",
       "      <td>161762</td>\n",
       "    </tr>\n",
       "    <tr>\n",
       "      <th>basketball player</th>\n",
       "      <td>132345</td>\n",
       "    </tr>\n",
       "    <tr>\n",
       "      <th>journalist</th>\n",
       "      <td>121720</td>\n",
       "    </tr>\n",
       "    <tr>\n",
       "      <th>university teacher</th>\n",
       "      <td>118013</td>\n",
       "    </tr>\n",
       "    <tr>\n",
       "      <th>singer</th>\n",
       "      <td>93092</td>\n",
       "    </tr>\n",
       "  </tbody>\n",
       "</table>\n",
       "</div>"
      ],
      "text/plain": [
       "                               count\n",
       "occupation                          \n",
       "researcher                   1693607\n",
       "politician                    589893\n",
       "association football player   309608\n",
       "actor                         267074\n",
       "writer                        262005\n",
       "painter                       161762\n",
       "basketball player             132345\n",
       "journalist                    121720\n",
       "university teacher            118013\n",
       "singer                         93092"
      ]
     },
     "execution_count": 7,
     "metadata": {},
     "output_type": "execute_result"
    }
   ],
   "source": [
    "all_speakers_grouped_by_occupations = group_and_sort_by_features(retrieved_labeled_speakers, ['occupation'])\n",
    "\n",
    "# The top 10 occupations\n",
    "top_10_occupations = all_speakers_grouped_by_occupations.head(n=10)\n",
    "top_10_occupations"
   ]
  },
  {
   "cell_type": "markdown",
   "id": "27ab2a5a-e700-463e-af10-eb87ff390b3e",
   "metadata": {},
   "source": [
    "Someone like Donald Trump has a lot of occupations, which means he's going to have a lot of rows dedicated to him in the dataframe, since we exploded the *occupation* attribute."
   ]
  },
  {
   "cell_type": "code",
   "execution_count": 8,
   "id": "74cdb84b-0178-4cee-ad8e-df6a77077a48",
   "metadata": {},
   "outputs": [
    {
     "data": {
      "text/plain": [
       "id\n",
       "Q22686       [business magnate, investor, restaurateur, non...\n",
       "Q27947481                              [physician, oncologist]\n",
       "Name: occupation, dtype: object"
      ]
     },
     "metadata": {},
     "output_type": "display_data"
    },
    {
     "data": {
      "text/plain": [
       "id\n",
       "Q76    [politician, lawyer, political writer, communi...\n",
       "Name: occupation, dtype: object"
      ]
     },
     "metadata": {},
     "output_type": "display_data"
    },
    {
     "data": {
      "text/plain": [
       "id\n",
       "Q55223040    [politician, political activist, community org...\n",
       "Name: occupation, dtype: object"
      ]
     },
     "metadata": {},
     "output_type": "display_data"
    },
    {
     "data": {
      "text/plain": [
       "id\n",
       "Q6294    [politician, lawyer, diplomat, writer, autobio...\n",
       "Name: occupation, dtype: object"
      ]
     },
     "metadata": {},
     "output_type": "display_data"
    },
    {
     "data": {
      "text/plain": [
       "id\n",
       "Q1124    [politician, lawyer, diplomat, autobiographer,...\n",
       "Name: occupation, dtype: object"
      ]
     },
     "metadata": {},
     "output_type": "display_data"
    }
   ],
   "source": [
    "# Some examples of prominent US politicans\n",
    "display(retrieved_labeled_speakers[retrieved_labeled_speakers.label == 'Donald Trump'].occupation)\n",
    "display(retrieved_labeled_speakers[retrieved_labeled_speakers.label == 'Barack Obama'].occupation)\n",
    "display(retrieved_labeled_speakers[retrieved_labeled_speakers.label == 'Alexandria Ocasio-Cortez'].occupation)\n",
    "display(retrieved_labeled_speakers[retrieved_labeled_speakers.label == 'Hillary Clinton'].occupation)\n",
    "display(retrieved_labeled_speakers[retrieved_labeled_speakers.label == 'Bill Clinton'].occupation)"
   ]
  },
  {
   "cell_type": "markdown",
   "id": "c34aea8b-fe31-4f7a-9c57-9b03ac0b65ad",
   "metadata": {},
   "source": [
    "#### 2.3 - Speaker's gender"
   ]
  },
  {
   "cell_type": "code",
   "execution_count": 9,
   "id": "e290b28e-ffa7-4120-8287-de4d3e483f10",
   "metadata": {
    "tags": []
   },
   "outputs": [
    {
     "data": {
      "text/html": [
       "<div>\n",
       "<style scoped>\n",
       "    .dataframe tbody tr th:only-of-type {\n",
       "        vertical-align: middle;\n",
       "    }\n",
       "\n",
       "    .dataframe tbody tr th {\n",
       "        vertical-align: top;\n",
       "    }\n",
       "\n",
       "    .dataframe thead th {\n",
       "        text-align: right;\n",
       "    }\n",
       "</style>\n",
       "<table border=\"1\" class=\"dataframe\">\n",
       "  <thead>\n",
       "    <tr style=\"text-align: right;\">\n",
       "      <th></th>\n",
       "      <th>count</th>\n",
       "    </tr>\n",
       "    <tr>\n",
       "      <th>gender</th>\n",
       "      <th></th>\n",
       "    </tr>\n",
       "  </thead>\n",
       "  <tbody>\n",
       "    <tr>\n",
       "      <th>male</th>\n",
       "      <td>5082907</td>\n",
       "    </tr>\n",
       "    <tr>\n",
       "      <th>female</th>\n",
       "      <td>1628261</td>\n",
       "    </tr>\n",
       "    <tr>\n",
       "      <th>transgender female</th>\n",
       "      <td>929</td>\n",
       "    </tr>\n",
       "    <tr>\n",
       "      <th>non-binary</th>\n",
       "      <td>363</td>\n",
       "    </tr>\n",
       "    <tr>\n",
       "      <th>transgender male</th>\n",
       "      <td>250</td>\n",
       "    </tr>\n",
       "  </tbody>\n",
       "</table>\n",
       "</div>"
      ],
      "text/plain": [
       "                      count\n",
       "gender                     \n",
       "male                5082907\n",
       "female              1628261\n",
       "transgender female      929\n",
       "non-binary              363\n",
       "transgender male        250"
      ]
     },
     "execution_count": 9,
     "metadata": {},
     "output_type": "execute_result"
    }
   ],
   "source": [
    "all_speakers_grouped_by_gender = group_and_sort_by_features(retrieved_labeled_speakers, ['gender'])\n",
    "all_speakers_grouped_by_gender.head()"
   ]
  },
  {
   "cell_type": "markdown",
   "id": "e9e4cd36-fbcf-4e08-a2c2-08a299b5f304",
   "metadata": {},
   "source": [
    "The majority of speakers in the Quotebank are male (almost 75%) and females (almost 25%). All other genders consitute less than 0.1% of the speakers. So if we were to encode gender as features, we would have ['male', 'female', 'other'] where 'other' refers to the rest of the genders."
   ]
  },
  {
   "cell_type": "markdown",
   "id": "6cb5c2ab-6b20-4f5a-82e0-465665755580",
   "metadata": {},
   "source": [
    "#### 2.4 Speaker's nationality"
   ]
  },
  {
   "cell_type": "code",
   "execution_count": 10,
   "id": "60eacba2-bfb8-4b04-80a0-d92e810efcb3",
   "metadata": {},
   "outputs": [
    {
     "data": {
      "text/html": [
       "<div>\n",
       "<style scoped>\n",
       "    .dataframe tbody tr th:only-of-type {\n",
       "        vertical-align: middle;\n",
       "    }\n",
       "\n",
       "    .dataframe tbody tr th {\n",
       "        vertical-align: top;\n",
       "    }\n",
       "\n",
       "    .dataframe thead th {\n",
       "        text-align: right;\n",
       "    }\n",
       "</style>\n",
       "<table border=\"1\" class=\"dataframe\">\n",
       "  <thead>\n",
       "    <tr style=\"text-align: right;\">\n",
       "      <th></th>\n",
       "      <th>count</th>\n",
       "    </tr>\n",
       "    <tr>\n",
       "      <th>nationality</th>\n",
       "      <th></th>\n",
       "    </tr>\n",
       "  </thead>\n",
       "  <tbody>\n",
       "    <tr>\n",
       "      <th>United States of America</th>\n",
       "      <td>438676</td>\n",
       "    </tr>\n",
       "    <tr>\n",
       "      <th>France</th>\n",
       "      <td>263775</td>\n",
       "    </tr>\n",
       "    <tr>\n",
       "      <th>Germany</th>\n",
       "      <td>254606</td>\n",
       "    </tr>\n",
       "    <tr>\n",
       "      <th>United Kingdom</th>\n",
       "      <td>166656</td>\n",
       "    </tr>\n",
       "    <tr>\n",
       "      <th>Japan</th>\n",
       "      <td>158739</td>\n",
       "    </tr>\n",
       "    <tr>\n",
       "      <th>Spain</th>\n",
       "      <td>127052</td>\n",
       "    </tr>\n",
       "    <tr>\n",
       "      <th>Ming dynasty</th>\n",
       "      <td>124526</td>\n",
       "    </tr>\n",
       "    <tr>\n",
       "      <th>Italy</th>\n",
       "      <td>98308</td>\n",
       "    </tr>\n",
       "    <tr>\n",
       "      <th>Canada</th>\n",
       "      <td>83369</td>\n",
       "    </tr>\n",
       "    <tr>\n",
       "      <th>Sweden</th>\n",
       "      <td>79170</td>\n",
       "    </tr>\n",
       "  </tbody>\n",
       "</table>\n",
       "</div>"
      ],
      "text/plain": [
       "                           count\n",
       "nationality                     \n",
       "United States of America  438676\n",
       "France                    263775\n",
       "Germany                   254606\n",
       "United Kingdom            166656\n",
       "Japan                     158739\n",
       "Spain                     127052\n",
       "Ming dynasty              124526\n",
       "Italy                      98308\n",
       "Canada                     83369\n",
       "Sweden                     79170"
      ]
     },
     "execution_count": 10,
     "metadata": {},
     "output_type": "execute_result"
    }
   ],
   "source": [
    "all_speakers_grouped_by_nationality = group_and_sort_by_features(retrieved_labeled_speakers, ['nationality'])\n",
    "\n",
    "# Top 10 nationalities among our speakers\n",
    "all_speakers_grouped_by_nationality.head(n=10)"
   ]
  },
  {
   "cell_type": "markdown",
   "id": "f90a8695-c8bf-4cab-82ab-1c45088e6ac0",
   "metadata": {},
   "source": [
    "#### 2.5 - Speaker's age"
   ]
  },
  {
   "cell_type": "code",
   "execution_count": 11,
   "id": "3f9f85ee-1d04-41d9-add0-e4b4e6f40a8e",
   "metadata": {},
   "outputs": [
    {
     "data": {
      "text/html": [
       "<div>\n",
       "<style scoped>\n",
       "    .dataframe tbody tr th:only-of-type {\n",
       "        vertical-align: middle;\n",
       "    }\n",
       "\n",
       "    .dataframe tbody tr th {\n",
       "        vertical-align: top;\n",
       "    }\n",
       "\n",
       "    .dataframe thead th {\n",
       "        text-align: right;\n",
       "    }\n",
       "</style>\n",
       "<table border=\"1\" class=\"dataframe\">\n",
       "  <thead>\n",
       "    <tr style=\"text-align: right;\">\n",
       "      <th></th>\n",
       "      <th>count</th>\n",
       "    </tr>\n",
       "    <tr>\n",
       "      <th>age_group</th>\n",
       "      <th></th>\n",
       "    </tr>\n",
       "  </thead>\n",
       "  <tbody>\n",
       "    <tr>\n",
       "      <th>10s</th>\n",
       "      <td>23548</td>\n",
       "    </tr>\n",
       "    <tr>\n",
       "      <th>20s</th>\n",
       "      <td>252593</td>\n",
       "    </tr>\n",
       "    <tr>\n",
       "      <th>30s</th>\n",
       "      <td>335141</td>\n",
       "    </tr>\n",
       "    <tr>\n",
       "      <th>40s</th>\n",
       "      <td>353919</td>\n",
       "    </tr>\n",
       "    <tr>\n",
       "      <th>50s</th>\n",
       "      <td>385817</td>\n",
       "    </tr>\n",
       "    <tr>\n",
       "      <th>60s</th>\n",
       "      <td>403952</td>\n",
       "    </tr>\n",
       "    <tr>\n",
       "      <th>70s</th>\n",
       "      <td>380428</td>\n",
       "    </tr>\n",
       "    <tr>\n",
       "      <th>80s</th>\n",
       "      <td>277815</td>\n",
       "    </tr>\n",
       "    <tr>\n",
       "      <th>90s</th>\n",
       "      <td>262312</td>\n",
       "    </tr>\n",
       "    <tr>\n",
       "      <th>&lt;10</th>\n",
       "      <td>2929</td>\n",
       "    </tr>\n",
       "    <tr>\n",
       "      <th>&gt;=100</th>\n",
       "      <td>1988098</td>\n",
       "    </tr>\n",
       "  </tbody>\n",
       "</table>\n",
       "</div>"
      ],
      "text/plain": [
       "             count\n",
       "age_group         \n",
       "10s          23548\n",
       "20s         252593\n",
       "30s         335141\n",
       "40s         353919\n",
       "50s         385817\n",
       "60s         403952\n",
       "70s         380428\n",
       "80s         277815\n",
       "90s         262312\n",
       "<10           2929\n",
       ">=100      1988098"
      ]
     },
     "execution_count": 11,
     "metadata": {},
     "output_type": "execute_result"
    }
   ],
   "source": [
    "# Don't need to explode the age here, we made sure each speaker has a unique age\n",
    "all_speakers_age_groups = retrieved_labeled_speakers.groupby(by='age_group').label.agg(['count'])\n",
    "all_speakers_age_groups"
   ]
  },
  {
   "cell_type": "code",
   "execution_count": 12,
   "id": "d7c7c4af-aa2c-4a4e-b72e-437d37ead47d",
   "metadata": {},
   "outputs": [
    {
     "data": {
      "text/plain": [
       "Text(0.5, 1.0, 'Distribution of the speakers age groups')"
      ]
     },
     "execution_count": 12,
     "metadata": {},
     "output_type": "execute_result"
    },
    {
     "data": {
      "image/png": "[encoded data removed]",
      "text/plain": [
       "<Figure size 432x288 with 1 Axes>"
      ]
     },
     "metadata": {
      "needs_background": "light"
     },
     "output_type": "display_data"
    }
   ],
   "source": [
    "sns.barplot(x=all_speakers_age_groups.index, y=(all_speakers_age_groups['count']))\n",
    "plt.title('Distribution of the speakers age groups')"
   ]
  },
  {
   "cell_type": "code",
   "execution_count": 13,
   "id": "2d10b86a-f497-43d1-8099-923c60cd9653",
   "metadata": {},
   "outputs": [
    {
     "data": {
      "text/plain": [
       "Text(0.5, 1.0, 'Distribution of the speakers age groups in log scale')"
      ]
     },
     "execution_count": 13,
     "metadata": {},
     "output_type": "execute_result"
    },
    {
     "data": {
      "image/png": "[encoded data removed]",
      "text/plain": [
       "<Figure size 432x288 with 1 Axes>"
      ]
     },
     "metadata": {
      "needs_background": "light"
     },
     "output_type": "display_data"
    }
   ],
   "source": [
    "sns.barplot(x=all_speakers_age_groups.index, y=np.log(all_speakers_age_groups['count']))\n",
    "plt.title('Distribution of the speakers age groups in log scale')"
   ]
  },
  {
   "cell_type": "markdown",
   "id": "1e68f791-c77f-442d-a0a8-6c9f4dd160db",
   "metadata": {},
   "source": [
    "We can see that there a lot of the speakers are over 100 years old (probably quoted historical figures). And the distribution is more or less normally distributed around the 60s years old. To confirm let's take a look at speakers strictly less than 100 years old, i.e. contemporary speakers."
   ]
  },
  {
   "cell_type": "code",
   "execution_count": 14,
   "id": "8bafb000-aeeb-4975-9cda-ec1ff469c13a",
   "metadata": {},
   "outputs": [
    {
     "data": {
      "text/plain": [
       "Text(0.5, 1.0, 'Distribution of contemporary speakers age groups')"
      ]
     },
     "execution_count": 14,
     "metadata": {},
     "output_type": "execute_result"
    },
    {
     "data": {
      "image/png": "[encoded data removed]",
      "text/plain": [
       "<Figure size 432x288 with 1 Axes>"
      ]
     },
     "metadata": {
      "needs_background": "light"
     },
     "output_type": "display_data"
    }
   ],
   "source": [
    "contemporary_groups_index = all_speakers_age_groups.index[:10]\n",
    "contemporary_group = all_speakers_age_groups[all_speakers_age_groups.index.isin(contemporary_groups_index)]\n",
    "sns.barplot(x=contemporary_group.index, y=(contemporary_group['count']))\n",
    "plt.title('Distribution of contemporary speakers age groups')"
   ]
  },
  {
   "cell_type": "markdown",
   "id": "7c8d3e2d-8897-4910-9c97-3f5374fc03cb",
   "metadata": {},
   "source": [
    "#### General view of the distributions of the speakers attributes"
   ]
  },
  {
   "cell_type": "code",
   "execution_count": 15,
   "id": "17376a84-f74b-46b4-afc1-0f71b1067f42",
   "metadata": {},
   "outputs": [
    {
     "data": {
      "image/png": "[encoded data removed]",
      "text/plain": [
       "<Figure size 1152x720 with 6 Axes>"
      ]
     },
     "metadata": {},
     "output_type": "display_data"
    }
   ],
   "source": [
    "fig, axs = plt.subplots(nrows=2, ncols=3, figsize=(16, 10))\n",
    "axs = axs.flatten()\n",
    "\n",
    "# Plot the academic degree distribution\n",
    "axs[0].pie([nb_educated_speakers, nb_uneducated_speakers],\n",
    "           labels=['educated speakers', 'uneducated speakers'], autopct='%1.1f%%',\n",
    "           shadow=True, startangle=90)\n",
    "axs[0].set_title('Academic degree')\n",
    "\n",
    "# Plot the speakers' occupations\n",
    "remaining_occupations = all_speakers_grouped_by_occupations[9:].sum()\n",
    "occupations_plot = all_speakers_grouped_by_occupations[:8].append(\n",
    "    pd.DataFrame([remaining_occupations], columns=['count'], index=['Other'])\n",
    ")\n",
    "\n",
    "axs[1].pie(occupations_plot['count'],\n",
    "       labels=occupations_plot.index, autopct='%1.1f%%',\n",
    "       shadow=True, startangle=90)\n",
    "\n",
    "axs[1].set_title('Occupation')\n",
    "\n",
    "# Plot the speaker's gender\n",
    "remaining_genders = all_speakers_grouped_by_gender[2:].sum()\n",
    "genders_plot = all_speakers_grouped_by_gender[:2].append(\n",
    "    pd.DataFrame([remaining_genders], columns=['count'], index=['Other'])\n",
    ")\n",
    "\n",
    "axs[2].pie(genders_plot['count'],\n",
    "       labels=genders_plot.index, autopct='%1.3f%%',\n",
    "       shadow=True, startangle=90)\n",
    "\n",
    "axs[2].set_title('Gender')\n",
    "\n",
    "# Plot the speakers' nationalities\n",
    "remaining_nationalities = all_speakers_grouped_by_nationality[10:].sum()\n",
    "nationalities_plot = all_speakers_grouped_by_nationality[:9].append(\n",
    "    pd.DataFrame([remaining_nationalities], columns=['count'], index=['Other'])\n",
    ")\n",
    "\n",
    "axs[3].pie(nationalities_plot['count'],\n",
    "       labels=nationalities_plot.index, autopct='%1.1f%%',\n",
    "       shadow=True, startangle=90)\n",
    "\n",
    "axs[3].set_title('Nationality')\n",
    "\n",
    "# Plot the speakers age\n",
    "axs[4].pie(all_speakers_age_groups['count'], labels=all_speakers_age_groups.index, \n",
    "           autopct='%1.1f%%', shadow=True, startangle=90)\n",
    "axs[4].set_title('Speakers ages')\n",
    "\n",
    "# Plot the contemporary speakers ages\n",
    "axs[5].pie(contemporary_group['count'], labels=contemporary_group.index, \n",
    "           autopct='%1.1f%%', shadow=True, startangle=90)\n",
    "axs[5].set_title('Only contemporary speakers ages (age < 100)')\n",
    "\n",
    "fig.suptitle('Distribution of selected speakers attributes')\n",
    "fig.tight_layout()\n",
    "\n",
    "plt.savefig('graphs/distribution_of_speakers_attributes')"
   ]
  },
  {
   "cell_type": "markdown",
   "id": "db687dc0-5f1b-48aa-aea0-2aa3f683f180",
   "metadata": {},
   "source": [
    "## 3. Analyzing speakers profiles"
   ]
  },
  {
   "cell_type": "markdown",
   "id": "7c3a3464-86d0-4b1c-a352-437346f9a0e9",
   "metadata": {},
   "source": [
    "The question we're trying to asnwer here is **how likely a speaker would speak about a certain topic**. For this we've narrowed it down to the topic of the **environment**. Let's explore."
   ]
  },
  {
   "cell_type": "markdown",
   "id": "3d4d2472-bff8-40c2-8de3-072f7edcaff1",
   "metadata": {},
   "source": [
    "### 3.1 - Retrieving the relevant quotations for the environment from 2018 to 2020 dataset"
   ]
  },
  {
   "cell_type": "markdown",
   "id": "2aa1df2d-34e3-44c5-bca7-cf939e9811e2",
   "metadata": {},
   "source": [
    "We have filtered the quotebank environment-related quotations from the 2018 to 2020 dataset and now we can retrieve them."
   ]
  },
  {
   "cell_type": "code",
   "execution_count": 16,
   "id": "9cafb6ea-37a9-4241-963e-52ed7a067365",
   "metadata": {},
   "outputs": [
    {
     "data": {
      "text/html": [
       "<div>\n",
       "<style scoped>\n",
       "    .dataframe tbody tr th:only-of-type {\n",
       "        vertical-align: middle;\n",
       "    }\n",
       "\n",
       "    .dataframe tbody tr th {\n",
       "        vertical-align: top;\n",
       "    }\n",
       "\n",
       "    .dataframe thead th {\n",
       "        text-align: right;\n",
       "    }\n",
       "</style>\n",
       "<table border=\"1\" class=\"dataframe\">\n",
       "  <thead>\n",
       "    <tr style=\"text-align: right;\">\n",
       "      <th></th>\n",
       "      <th>quotation</th>\n",
       "      <th>qids</th>\n",
       "      <th>numOccurrences</th>\n",
       "    </tr>\n",
       "    <tr>\n",
       "      <th>quoteID</th>\n",
       "      <th></th>\n",
       "      <th></th>\n",
       "      <th></th>\n",
       "    </tr>\n",
       "  </thead>\n",
       "  <tbody>\n",
       "    <tr>\n",
       "      <th>2018-06-21-001025</th>\n",
       "      <td>A carbon tax, if the myriad of subsidies and r...</td>\n",
       "      <td>[]</td>\n",
       "      <td>1</td>\n",
       "    </tr>\n",
       "    <tr>\n",
       "      <th>2018-03-06-005798</th>\n",
       "      <td>Alternative technologies outside North Carolin...</td>\n",
       "      <td>[Q16150195, Q16150206, Q16197597, Q20894995, Q...</td>\n",
       "      <td>4</td>\n",
       "    </tr>\n",
       "    <tr>\n",
       "      <th>2018-06-12-008636</th>\n",
       "      <td>As any farmer will tell you, June is a very di...</td>\n",
       "      <td>[Q5389146, Q57081966]</td>\n",
       "      <td>2</td>\n",
       "    </tr>\n",
       "    <tr>\n",
       "      <th>2018-11-14-010036</th>\n",
       "      <td>At 3AM when I stare at the ceiling and worry a...</td>\n",
       "      <td>[Q1359387, Q21289642, Q21464307, Q22213056, Q3...</td>\n",
       "      <td>3</td>\n",
       "    </tr>\n",
       "    <tr>\n",
       "      <th>2018-02-16-012151</th>\n",
       "      <td>basic viewpoint is that if you ban fracking yo...</td>\n",
       "      <td>[]</td>\n",
       "      <td>7</td>\n",
       "    </tr>\n",
       "    <tr>\n",
       "      <th>...</th>\n",
       "      <td>...</td>\n",
       "      <td>...</td>\n",
       "      <td>...</td>\n",
       "    </tr>\n",
       "    <tr>\n",
       "      <th>2020-04-03-059591</th>\n",
       "      <td>Then, global emissions dropped immensely for a...</td>\n",
       "      <td>[Q21263801]</td>\n",
       "      <td>1</td>\n",
       "    </tr>\n",
       "    <tr>\n",
       "      <th>2020-03-11-065584</th>\n",
       "      <td>These results demonstrate A.A.'s effectiveness...</td>\n",
       "      <td>[Q21461335, Q28059471, Q6232322]</td>\n",
       "      <td>2</td>\n",
       "    </tr>\n",
       "    <tr>\n",
       "      <th>2020-01-21-085595</th>\n",
       "      <td>This concept of over-regulation is an interest...</td>\n",
       "      <td>[Q10381179, Q3528685, Q513960, Q7804212, Q7804...</td>\n",
       "      <td>3</td>\n",
       "    </tr>\n",
       "    <tr>\n",
       "      <th>2020-02-23-041538</th>\n",
       "      <td>We've been writing about climate change being ...</td>\n",
       "      <td>[Q53473786]</td>\n",
       "      <td>2</td>\n",
       "    </tr>\n",
       "    <tr>\n",
       "      <th>2020-02-05-118499</th>\n",
       "      <td>What's far more meaningful to the climate righ...</td>\n",
       "      <td>[]</td>\n",
       "      <td>3</td>\n",
       "    </tr>\n",
       "  </tbody>\n",
       "</table>\n",
       "<p>304728 rows × 3 columns</p>\n",
       "</div>"
      ],
      "text/plain": [
       "                                                           quotation  \\\n",
       "quoteID                                                                \n",
       "2018-06-21-001025  A carbon tax, if the myriad of subsidies and r...   \n",
       "2018-03-06-005798  Alternative technologies outside North Carolin...   \n",
       "2018-06-12-008636  As any farmer will tell you, June is a very di...   \n",
       "2018-11-14-010036  At 3AM when I stare at the ceiling and worry a...   \n",
       "2018-02-16-012151  basic viewpoint is that if you ban fracking yo...   \n",
       "...                                                              ...   \n",
       "2020-04-03-059591  Then, global emissions dropped immensely for a...   \n",
       "2020-03-11-065584  These results demonstrate A.A.'s effectiveness...   \n",
       "2020-01-21-085595  This concept of over-regulation is an interest...   \n",
       "2020-02-23-041538  We've been writing about climate change being ...   \n",
       "2020-02-05-118499  What's far more meaningful to the climate righ...   \n",
       "\n",
       "                                                                qids  \\\n",
       "quoteID                                                                \n",
       "2018-06-21-001025                                                 []   \n",
       "2018-03-06-005798  [Q16150195, Q16150206, Q16197597, Q20894995, Q...   \n",
       "2018-06-12-008636                              [Q5389146, Q57081966]   \n",
       "2018-11-14-010036  [Q1359387, Q21289642, Q21464307, Q22213056, Q3...   \n",
       "2018-02-16-012151                                                 []   \n",
       "...                                                              ...   \n",
       "2020-04-03-059591                                        [Q21263801]   \n",
       "2020-03-11-065584                   [Q21461335, Q28059471, Q6232322]   \n",
       "2020-01-21-085595  [Q10381179, Q3528685, Q513960, Q7804212, Q7804...   \n",
       "2020-02-23-041538                                        [Q53473786]   \n",
       "2020-02-05-118499                                                 []   \n",
       "\n",
       "                   numOccurrences  \n",
       "quoteID                            \n",
       "2018-06-21-001025               1  \n",
       "2018-03-06-005798               4  \n",
       "2018-06-12-008636               2  \n",
       "2018-11-14-010036               3  \n",
       "2018-02-16-012151               7  \n",
       "...                           ...  \n",
       "2020-04-03-059591               1  \n",
       "2020-03-11-065584               2  \n",
       "2020-01-21-085595               3  \n",
       "2020-02-23-041538               2  \n",
       "2020-02-05-118499               3  \n",
       "\n",
       "[304728 rows x 3 columns]"
      ]
     },
     "execution_count": 16,
     "metadata": {},
     "output_type": "execute_result"
    }
   ],
   "source": [
    "environment_quotations = []\n",
    "ENVIRONMENT_RELATED_QUOTES = PATH_ROOT + '/quotes-{}-filtered.json.bz2'\n",
    "BEGIN_YEAR = 2018\n",
    "END_YEAR = 2020\n",
    "\n",
    "for year in range(2018, END_YEAR + 1):\n",
    "    environment_quotations.append(pd.read_json(path_or_buf=ENVIRONMENT_RELATED_QUOTES.format(year), compression='bz2', lines=True))\n",
    "    \n",
    "environment_quotations = pd.concat(environment_quotations)\n",
    "# reset index to unique quoteID per quotation\n",
    "environment_quotations = environment_quotations.set_index('quoteID')\n",
    "\n",
    "# Keep the relevant columns for this part\n",
    "environment_quotations = environment_quotations[['quotation', 'qids', 'numOccurrences']]\n",
    "environment_quotations"
   ]
  },
  {
   "cell_type": "markdown",
   "id": "b2eda868-51e3-4d4f-a0ea-0132e4bf001a",
   "metadata": {},
   "source": [
    "Now we'll narrow down the speakers that talked about the environment in that time period. Again we're faced with the **issue that there could be multiple qids associated with the speaker of a quotation**, meaning that there could be multiple persons that share the same name as the actual speaker and we don't necessarily know who said the quotation. We're going to assume that each of them actually said it so we'll **explode the qids**."
   ]
  },
  {
   "cell_type": "code",
   "execution_count": 17,
   "id": "8ed5c48b-0b88-40e6-8504-5d9ec64192a4",
   "metadata": {},
   "outputs": [
    {
     "data": {
      "text/html": [
       "<div>\n",
       "<style scoped>\n",
       "    .dataframe tbody tr th:only-of-type {\n",
       "        vertical-align: middle;\n",
       "    }\n",
       "\n",
       "    .dataframe tbody tr th {\n",
       "        vertical-align: top;\n",
       "    }\n",
       "\n",
       "    .dataframe thead th {\n",
       "        text-align: right;\n",
       "    }\n",
       "</style>\n",
       "<table border=\"1\" class=\"dataframe\">\n",
       "  <thead>\n",
       "    <tr style=\"text-align: right;\">\n",
       "      <th></th>\n",
       "      <th>aliases</th>\n",
       "      <th>date_of_birth</th>\n",
       "      <th>nationality</th>\n",
       "      <th>gender</th>\n",
       "      <th>lastrevid</th>\n",
       "      <th>ethnic_group</th>\n",
       "      <th>US_congress_bio_ID</th>\n",
       "      <th>occupation</th>\n",
       "      <th>party</th>\n",
       "      <th>academic_degree</th>\n",
       "      <th>label</th>\n",
       "      <th>candidacy</th>\n",
       "      <th>type</th>\n",
       "      <th>religion</th>\n",
       "      <th>age</th>\n",
       "      <th>age_group</th>\n",
       "      <th>quotation</th>\n",
       "      <th>qids</th>\n",
       "      <th>numOccurrences</th>\n",
       "    </tr>\n",
       "    <tr>\n",
       "      <th>quoteID</th>\n",
       "      <th></th>\n",
       "      <th></th>\n",
       "      <th></th>\n",
       "      <th></th>\n",
       "      <th></th>\n",
       "      <th></th>\n",
       "      <th></th>\n",
       "      <th></th>\n",
       "      <th></th>\n",
       "      <th></th>\n",
       "      <th></th>\n",
       "      <th></th>\n",
       "      <th></th>\n",
       "      <th></th>\n",
       "      <th></th>\n",
       "      <th></th>\n",
       "      <th></th>\n",
       "      <th></th>\n",
       "      <th></th>\n",
       "    </tr>\n",
       "  </thead>\n",
       "  <tbody>\n",
       "    <tr>\n",
       "      <th>2018-03-05-070476</th>\n",
       "      <td>[George Walker Bush, Bush Jr., Dubya, GWB, Bus...</td>\n",
       "      <td>[+1946-07-06T00:00:00Z]</td>\n",
       "      <td>[United States of America]</td>\n",
       "      <td>[male]</td>\n",
       "      <td>1395142029</td>\n",
       "      <td>[None]</td>\n",
       "      <td>None</td>\n",
       "      <td>[politician, motivational speaker, autobiograp...</td>\n",
       "      <td>[Republican Party]</td>\n",
       "      <td>[None]</td>\n",
       "      <td>George W. Bush</td>\n",
       "      <td>[2000 United States presidential election, 200...</td>\n",
       "      <td>item</td>\n",
       "      <td>[United Methodist Church, Episcopal Church, Me...</td>\n",
       "      <td>75.0</td>\n",
       "      <td>70s</td>\n",
       "      <td>manipulate the work of federal climate scienti...</td>\n",
       "      <td>Q207</td>\n",
       "      <td>1</td>\n",
       "    </tr>\n",
       "    <tr>\n",
       "      <th>2018-12-19-103057</th>\n",
       "      <td>[George Walker Bush, Bush Jr., Dubya, GWB, Bus...</td>\n",
       "      <td>[+1946-07-06T00:00:00Z]</td>\n",
       "      <td>[United States of America]</td>\n",
       "      <td>[male]</td>\n",
       "      <td>1395142029</td>\n",
       "      <td>[None]</td>\n",
       "      <td>None</td>\n",
       "      <td>[politician, motivational speaker, autobiograp...</td>\n",
       "      <td>[Republican Party]</td>\n",
       "      <td>[None]</td>\n",
       "      <td>George W. Bush</td>\n",
       "      <td>[2000 United States presidential election, 200...</td>\n",
       "      <td>item</td>\n",
       "      <td>[United Methodist Church, Episcopal Church, Me...</td>\n",
       "      <td>75.0</td>\n",
       "      <td>70s</td>\n",
       "      <td>to disclose its progress on formulating climat...</td>\n",
       "      <td>Q207</td>\n",
       "      <td>4</td>\n",
       "    </tr>\n",
       "    <tr>\n",
       "      <th>2018-01-30-033875</th>\n",
       "      <td>[George Walker Bush, Bush Jr., Dubya, GWB, Bus...</td>\n",
       "      <td>[+1946-07-06T00:00:00Z]</td>\n",
       "      <td>[United States of America]</td>\n",
       "      <td>[male]</td>\n",
       "      <td>1395142029</td>\n",
       "      <td>[None]</td>\n",
       "      <td>None</td>\n",
       "      <td>[politician, motivational speaker, autobiograp...</td>\n",
       "      <td>[Republican Party]</td>\n",
       "      <td>[None]</td>\n",
       "      <td>George W. Bush</td>\n",
       "      <td>[2000 United States presidential election, 200...</td>\n",
       "      <td>item</td>\n",
       "      <td>[United Methodist Church, Episcopal Church, Me...</td>\n",
       "      <td>75.0</td>\n",
       "      <td>70s</td>\n",
       "      <td>help us to confront the serious challenge of g...</td>\n",
       "      <td>Q207</td>\n",
       "      <td>1</td>\n",
       "    </tr>\n",
       "    <tr>\n",
       "      <th>2018-12-03-070604</th>\n",
       "      <td>[George Walker Bush, Bush Jr., Dubya, GWB, Bus...</td>\n",
       "      <td>[+1946-07-06T00:00:00Z]</td>\n",
       "      <td>[United States of America]</td>\n",
       "      <td>[male]</td>\n",
       "      <td>1395142029</td>\n",
       "      <td>[None]</td>\n",
       "      <td>None</td>\n",
       "      <td>[politician, motivational speaker, autobiograp...</td>\n",
       "      <td>[Republican Party]</td>\n",
       "      <td>[None]</td>\n",
       "      <td>George W. Bush</td>\n",
       "      <td>[2000 United States presidential election, 200...</td>\n",
       "      <td>item</td>\n",
       "      <td>[United Methodist Church, Episcopal Church, Me...</td>\n",
       "      <td>75.0</td>\n",
       "      <td>70s</td>\n",
       "      <td>prevailing GOP view expressed on the campaign ...</td>\n",
       "      <td>Q207</td>\n",
       "      <td>1</td>\n",
       "    </tr>\n",
       "    <tr>\n",
       "      <th>2018-10-19-082879</th>\n",
       "      <td>[George Walker Bush, Bush Jr., Dubya, GWB, Bus...</td>\n",
       "      <td>[+1946-07-06T00:00:00Z]</td>\n",
       "      <td>[United States of America]</td>\n",
       "      <td>[male]</td>\n",
       "      <td>1395142029</td>\n",
       "      <td>[None]</td>\n",
       "      <td>None</td>\n",
       "      <td>[politician, motivational speaker, autobiograp...</td>\n",
       "      <td>[Republican Party]</td>\n",
       "      <td>[None]</td>\n",
       "      <td>George W. Bush</td>\n",
       "      <td>[2000 United States presidential election, 200...</td>\n",
       "      <td>item</td>\n",
       "      <td>[United Methodist Church, Episcopal Church, Me...</td>\n",
       "      <td>75.0</td>\n",
       "      <td>70s</td>\n",
       "      <td>require petroleum refiners to blend ever-incre...</td>\n",
       "      <td>Q207</td>\n",
       "      <td>1</td>\n",
       "    </tr>\n",
       "  </tbody>\n",
       "</table>\n",
       "</div>"
      ],
      "text/plain": [
       "                                                             aliases  \\\n",
       "quoteID                                                                \n",
       "2018-03-05-070476  [George Walker Bush, Bush Jr., Dubya, GWB, Bus...   \n",
       "2018-12-19-103057  [George Walker Bush, Bush Jr., Dubya, GWB, Bus...   \n",
       "2018-01-30-033875  [George Walker Bush, Bush Jr., Dubya, GWB, Bus...   \n",
       "2018-12-03-070604  [George Walker Bush, Bush Jr., Dubya, GWB, Bus...   \n",
       "2018-10-19-082879  [George Walker Bush, Bush Jr., Dubya, GWB, Bus...   \n",
       "\n",
       "                             date_of_birth                 nationality  \\\n",
       "quoteID                                                                  \n",
       "2018-03-05-070476  [+1946-07-06T00:00:00Z]  [United States of America]   \n",
       "2018-12-19-103057  [+1946-07-06T00:00:00Z]  [United States of America]   \n",
       "2018-01-30-033875  [+1946-07-06T00:00:00Z]  [United States of America]   \n",
       "2018-12-03-070604  [+1946-07-06T00:00:00Z]  [United States of America]   \n",
       "2018-10-19-082879  [+1946-07-06T00:00:00Z]  [United States of America]   \n",
       "\n",
       "                   gender   lastrevid ethnic_group US_congress_bio_ID  \\\n",
       "quoteID                                                                 \n",
       "2018-03-05-070476  [male]  1395142029       [None]               None   \n",
       "2018-12-19-103057  [male]  1395142029       [None]               None   \n",
       "2018-01-30-033875  [male]  1395142029       [None]               None   \n",
       "2018-12-03-070604  [male]  1395142029       [None]               None   \n",
       "2018-10-19-082879  [male]  1395142029       [None]               None   \n",
       "\n",
       "                                                          occupation  \\\n",
       "quoteID                                                                \n",
       "2018-03-05-070476  [politician, motivational speaker, autobiograp...   \n",
       "2018-12-19-103057  [politician, motivational speaker, autobiograp...   \n",
       "2018-01-30-033875  [politician, motivational speaker, autobiograp...   \n",
       "2018-12-03-070604  [politician, motivational speaker, autobiograp...   \n",
       "2018-10-19-082879  [politician, motivational speaker, autobiograp...   \n",
       "\n",
       "                                party academic_degree           label  \\\n",
       "quoteID                                                                 \n",
       "2018-03-05-070476  [Republican Party]          [None]  George W. Bush   \n",
       "2018-12-19-103057  [Republican Party]          [None]  George W. Bush   \n",
       "2018-01-30-033875  [Republican Party]          [None]  George W. Bush   \n",
       "2018-12-03-070604  [Republican Party]          [None]  George W. Bush   \n",
       "2018-10-19-082879  [Republican Party]          [None]  George W. Bush   \n",
       "\n",
       "                                                           candidacy  type  \\\n",
       "quoteID                                                                      \n",
       "2018-03-05-070476  [2000 United States presidential election, 200...  item   \n",
       "2018-12-19-103057  [2000 United States presidential election, 200...  item   \n",
       "2018-01-30-033875  [2000 United States presidential election, 200...  item   \n",
       "2018-12-03-070604  [2000 United States presidential election, 200...  item   \n",
       "2018-10-19-082879  [2000 United States presidential election, 200...  item   \n",
       "\n",
       "                                                            religion   age  \\\n",
       "quoteID                                                                      \n",
       "2018-03-05-070476  [United Methodist Church, Episcopal Church, Me...  75.0   \n",
       "2018-12-19-103057  [United Methodist Church, Episcopal Church, Me...  75.0   \n",
       "2018-01-30-033875  [United Methodist Church, Episcopal Church, Me...  75.0   \n",
       "2018-12-03-070604  [United Methodist Church, Episcopal Church, Me...  75.0   \n",
       "2018-10-19-082879  [United Methodist Church, Episcopal Church, Me...  75.0   \n",
       "\n",
       "                  age_group  \\\n",
       "quoteID                       \n",
       "2018-03-05-070476       70s   \n",
       "2018-12-19-103057       70s   \n",
       "2018-01-30-033875       70s   \n",
       "2018-12-03-070604       70s   \n",
       "2018-10-19-082879       70s   \n",
       "\n",
       "                                                           quotation  qids  \\\n",
       "quoteID                                                                      \n",
       "2018-03-05-070476  manipulate the work of federal climate scienti...  Q207   \n",
       "2018-12-19-103057  to disclose its progress on formulating climat...  Q207   \n",
       "2018-01-30-033875  help us to confront the serious challenge of g...  Q207   \n",
       "2018-12-03-070604  prevailing GOP view expressed on the campaign ...  Q207   \n",
       "2018-10-19-082879  require petroleum refiners to blend ever-incre...  Q207   \n",
       "\n",
       "                   numOccurrences  \n",
       "quoteID                            \n",
       "2018-03-05-070476               1  \n",
       "2018-12-19-103057               4  \n",
       "2018-01-30-033875               1  \n",
       "2018-12-03-070604               1  \n",
       "2018-10-19-082879               1  "
      ]
     },
     "metadata": {},
     "output_type": "display_data"
    }
   ],
   "source": [
    "# Inner join between speakers dataframe and the environment-related quotations dataframe\n",
    "environment_speakers = retrieved_labeled_speakers.merge(\n",
    "    environment_quotations.explode('qids'), left_index=True, right_on='qids')\n",
    "display(environment_speakers.head())"
   ]
  },
  {
   "cell_type": "markdown",
   "id": "d396dc61-09d9-4e0b-a91f-3198e7436104",
   "metadata": {},
   "source": [
    "### 3.2 - Extracting the most common profile of speakers that speak of the environment"
   ]
  },
  {
   "cell_type": "markdown",
   "id": "42d0a249-a22a-4241-a75e-d76c990b6c47",
   "metadata": {},
   "source": [
    "For this, we're going to **conduct analysis on each feature of the speaker profile independently** and then move on to take into account multiple features at the same time."
   ]
  },
  {
   "cell_type": "markdown",
   "id": "d4ce9f7a-dbdd-46c1-a86e-ae75f1f1c2e5",
   "metadata": {},
   "source": [
    "#### Occupation"
   ]
  },
  {
   "cell_type": "code",
   "execution_count": 18,
   "id": "42561d38-7c11-44a5-babf-2f877e564c52",
   "metadata": {},
   "outputs": [
    {
     "data": {
      "text/plain": [
       "'Top environmental speakers occupations'"
      ]
     },
     "metadata": {},
     "output_type": "display_data"
    },
    {
     "data": {
      "text/html": [
       "<div>\n",
       "<style scoped>\n",
       "    .dataframe tbody tr th:only-of-type {\n",
       "        vertical-align: middle;\n",
       "    }\n",
       "\n",
       "    .dataframe tbody tr th {\n",
       "        vertical-align: top;\n",
       "    }\n",
       "\n",
       "    .dataframe thead th {\n",
       "        text-align: right;\n",
       "    }\n",
       "</style>\n",
       "<table border=\"1\" class=\"dataframe\">\n",
       "  <thead>\n",
       "    <tr style=\"text-align: right;\">\n",
       "      <th></th>\n",
       "      <th>count</th>\n",
       "    </tr>\n",
       "    <tr>\n",
       "      <th>occupation</th>\n",
       "      <th></th>\n",
       "    </tr>\n",
       "  </thead>\n",
       "  <tbody>\n",
       "    <tr>\n",
       "      <th>politician</th>\n",
       "      <td>98735</td>\n",
       "    </tr>\n",
       "    <tr>\n",
       "      <th>researcher</th>\n",
       "      <td>41340</td>\n",
       "    </tr>\n",
       "    <tr>\n",
       "      <th>association football player</th>\n",
       "      <td>28285</td>\n",
       "    </tr>\n",
       "    <tr>\n",
       "      <th>writer</th>\n",
       "      <td>23924</td>\n",
       "    </tr>\n",
       "    <tr>\n",
       "      <th>actor</th>\n",
       "      <td>21405</td>\n",
       "    </tr>\n",
       "    <tr>\n",
       "      <th>lawyer</th>\n",
       "      <td>21178</td>\n",
       "    </tr>\n",
       "    <tr>\n",
       "      <th>journalist</th>\n",
       "      <td>16537</td>\n",
       "    </tr>\n",
       "    <tr>\n",
       "      <th>American football player</th>\n",
       "      <td>15242</td>\n",
       "    </tr>\n",
       "    <tr>\n",
       "      <th>businessperson</th>\n",
       "      <td>15162</td>\n",
       "    </tr>\n",
       "    <tr>\n",
       "      <th>university teacher</th>\n",
       "      <td>12799</td>\n",
       "    </tr>\n",
       "  </tbody>\n",
       "</table>\n",
       "</div>"
      ],
      "text/plain": [
       "                             count\n",
       "occupation                        \n",
       "politician                   98735\n",
       "researcher                   41340\n",
       "association football player  28285\n",
       "writer                       23924\n",
       "actor                        21405\n",
       "lawyer                       21178\n",
       "journalist                   16537\n",
       "American football player     15242\n",
       "businessperson               15162\n",
       "university teacher           12799"
      ]
     },
     "execution_count": 18,
     "metadata": {},
     "output_type": "execute_result"
    }
   ],
   "source": [
    "top_environment_speakers_occupations = group_and_sort_by_features(environment_speakers, ['occupation'])\n",
    "display('Top environmental speakers occupations')\n",
    "top_environment_speakers_occupations.head(n=10)"
   ]
  },
  {
   "cell_type": "markdown",
   "id": "0d549c1d-6c3a-469b-9a65-cfc396fd2c1f",
   "metadata": {},
   "source": [
    "**Findings**: Since the speakers occupations aren't evenly distributed, we can see that the top 10 environment speakers occupations more or less correlate with the top 10 general speakers occupations. To counter this, a viable metric would the **ratio of speakers of each occupation** that spoke about the environment."
   ]
  },
  {
   "cell_type": "code",
   "execution_count": 19,
   "id": "a3291cf2-d5c7-40d3-9549-2a01ece7cc66",
   "metadata": {},
   "outputs": [
    {
     "data": {
      "text/html": [
       "<div>\n",
       "<style scoped>\n",
       "    .dataframe tbody tr th:only-of-type {\n",
       "        vertical-align: middle;\n",
       "    }\n",
       "\n",
       "    .dataframe tbody tr th {\n",
       "        vertical-align: top;\n",
       "    }\n",
       "\n",
       "    .dataframe thead th {\n",
       "        text-align: right;\n",
       "    }\n",
       "</style>\n",
       "<table border=\"1\" class=\"dataframe\">\n",
       "  <thead>\n",
       "    <tr style=\"text-align: right;\">\n",
       "      <th></th>\n",
       "      <th>count_environment</th>\n",
       "      <th>count_all</th>\n",
       "      <th>ratio</th>\n",
       "    </tr>\n",
       "    <tr>\n",
       "      <th>occupation</th>\n",
       "      <th></th>\n",
       "      <th></th>\n",
       "      <th></th>\n",
       "    </tr>\n",
       "  </thead>\n",
       "  <tbody>\n",
       "    <tr>\n",
       "      <th>educational strategist</th>\n",
       "      <td>722</td>\n",
       "      <td>1</td>\n",
       "      <td>722.000000</td>\n",
       "    </tr>\n",
       "    <tr>\n",
       "      <th>World Meteorological Organization</th>\n",
       "      <td>316</td>\n",
       "      <td>1</td>\n",
       "      <td>316.000000</td>\n",
       "    </tr>\n",
       "    <tr>\n",
       "      <th>Finnish Meteorological Institute</th>\n",
       "      <td>316</td>\n",
       "      <td>2</td>\n",
       "      <td>158.000000</td>\n",
       "    </tr>\n",
       "    <tr>\n",
       "      <th>policy analysis</th>\n",
       "      <td>75</td>\n",
       "      <td>1</td>\n",
       "      <td>75.000000</td>\n",
       "    </tr>\n",
       "    <tr>\n",
       "      <th>emergency management</th>\n",
       "      <td>44</td>\n",
       "      <td>1</td>\n",
       "      <td>44.000000</td>\n",
       "    </tr>\n",
       "    <tr>\n",
       "      <th>county attorney</th>\n",
       "      <td>42</td>\n",
       "      <td>1</td>\n",
       "      <td>42.000000</td>\n",
       "    </tr>\n",
       "    <tr>\n",
       "      <th>candidate</th>\n",
       "      <td>150</td>\n",
       "      <td>4</td>\n",
       "      <td>37.500000</td>\n",
       "    </tr>\n",
       "    <tr>\n",
       "      <th>game show host</th>\n",
       "      <td>1120</td>\n",
       "      <td>43</td>\n",
       "      <td>26.046512</td>\n",
       "    </tr>\n",
       "    <tr>\n",
       "      <th>social statistician</th>\n",
       "      <td>26</td>\n",
       "      <td>1</td>\n",
       "      <td>26.000000</td>\n",
       "    </tr>\n",
       "    <tr>\n",
       "      <th>real estate entrepreneur</th>\n",
       "      <td>1111</td>\n",
       "      <td>48</td>\n",
       "      <td>23.145833</td>\n",
       "    </tr>\n",
       "  </tbody>\n",
       "</table>\n",
       "</div>"
      ],
      "text/plain": [
       "                                   count_environment  count_all       ratio\n",
       "occupation                                                                 \n",
       "educational strategist                           722          1  722.000000\n",
       "World Meteorological Organization                316          1  316.000000\n",
       "Finnish Meteorological Institute                 316          2  158.000000\n",
       "policy analysis                                   75          1   75.000000\n",
       "emergency management                              44          1   44.000000\n",
       "county attorney                                   42          1   42.000000\n",
       "candidate                                        150          4   37.500000\n",
       "game show host                                  1120         43   26.046512\n",
       "social statistician                               26          1   26.000000\n",
       "real estate entrepreneur                        1111         48   23.145833"
      ]
     },
     "execution_count": 19,
     "metadata": {},
     "output_type": "execute_result"
    }
   ],
   "source": [
    "def extract_and_sort_by_ratio(df_speakers_of_environment, df_speakers):\n",
    "    '''\n",
    "    Extract the ratio of speakers that spoke about the environment, given a certain feature.\n",
    "    \n",
    "    Params:\n",
    "        df_speakers_of_environment: the speakers that spoke of the environment grouped by certain features\n",
    "        df_speakers: All the speakers grouped by the same features\n",
    "        \n",
    "    Returns dataframe with ratio of speakers that spoke about the environment\n",
    "    '''\n",
    "    top_environment_speakers_ratios = df_speakers_of_environment.merge(\n",
    "        df_speakers, left_index=True, right_index=True, suffixes=('_environment', '_all'))\n",
    "    top_environment_speakers_ratios['ratio'] = top_environment_speakers_ratios.count_environment / top_environment_speakers_ratios.count_all\n",
    "    return top_environment_speakers_ratios.sort_values(by='ratio', ascending=False)\n",
    "    \n",
    "extract_and_sort_by_ratio(top_environment_speakers_occupations, all_speakers_grouped_by_occupations).head(n=10)"
   ]
  },
  {
   "cell_type": "markdown",
   "id": "f704c98f-0206-4d76-b45e-e947fdaeb567",
   "metadata": {},
   "source": [
    "**Findings**: Of course if the number of speakers in a certain occupation is very low (= 1, 2 etc..), and **they're quoted many many times speaking about the environment, then their ratio will be very high which is expected**. \n",
    "\n",
    "But this isn't very interesting since we're disregarding the majority of the speakers that way. To remedy this, we're going to **resconstruct the dataframe so that each speaker is counted only one time** regardless of how many times he quoted the environment. And then we're keeping only the **most prominent jobs** to have a better ratio (otherwise if an occupation occurs only once and that speakers mentions the environment, they will have a ratio of one and they will be on top of the list)."
   ]
  },
  {
   "cell_type": "code",
   "execution_count": 20,
   "id": "4a1961ff-9be1-4bfd-9363-d94ec8d2e1f9",
   "metadata": {},
   "outputs": [
    {
     "data": {
      "text/plain": [
       "'Top 10 occupations of unique environmental speakers'"
      ]
     },
     "metadata": {},
     "output_type": "display_data"
    },
    {
     "data": {
      "text/html": [
       "<div>\n",
       "<style scoped>\n",
       "    .dataframe tbody tr th:only-of-type {\n",
       "        vertical-align: middle;\n",
       "    }\n",
       "\n",
       "    .dataframe tbody tr th {\n",
       "        vertical-align: top;\n",
       "    }\n",
       "\n",
       "    .dataframe thead th {\n",
       "        text-align: right;\n",
       "    }\n",
       "</style>\n",
       "<table border=\"1\" class=\"dataframe\">\n",
       "  <thead>\n",
       "    <tr style=\"text-align: right;\">\n",
       "      <th></th>\n",
       "      <th>count</th>\n",
       "    </tr>\n",
       "    <tr>\n",
       "      <th>occupation</th>\n",
       "      <th></th>\n",
       "    </tr>\n",
       "  </thead>\n",
       "  <tbody>\n",
       "    <tr>\n",
       "      <th>politician</th>\n",
       "      <td>12664</td>\n",
       "    </tr>\n",
       "    <tr>\n",
       "      <th>researcher</th>\n",
       "      <td>10659</td>\n",
       "    </tr>\n",
       "    <tr>\n",
       "      <th>association football player</th>\n",
       "      <td>5854</td>\n",
       "    </tr>\n",
       "    <tr>\n",
       "      <th>actor</th>\n",
       "      <td>4827</td>\n",
       "    </tr>\n",
       "    <tr>\n",
       "      <th>writer</th>\n",
       "      <td>3852</td>\n",
       "    </tr>\n",
       "    <tr>\n",
       "      <th>journalist</th>\n",
       "      <td>3258</td>\n",
       "    </tr>\n",
       "    <tr>\n",
       "      <th>American football player</th>\n",
       "      <td>2864</td>\n",
       "    </tr>\n",
       "    <tr>\n",
       "      <th>television actor</th>\n",
       "      <td>2554</td>\n",
       "    </tr>\n",
       "    <tr>\n",
       "      <th>film actor</th>\n",
       "      <td>2342</td>\n",
       "    </tr>\n",
       "    <tr>\n",
       "      <th>singer</th>\n",
       "      <td>2210</td>\n",
       "    </tr>\n",
       "  </tbody>\n",
       "</table>\n",
       "</div>"
      ],
      "text/plain": [
       "                             count\n",
       "occupation                        \n",
       "politician                   12664\n",
       "researcher                   10659\n",
       "association football player   5854\n",
       "actor                         4827\n",
       "writer                        3852\n",
       "journalist                    3258\n",
       "American football player      2864\n",
       "television actor              2554\n",
       "film actor                    2342\n",
       "singer                        2210"
      ]
     },
     "metadata": {},
     "output_type": "display_data"
    },
    {
     "data": {
      "text/plain": [
       "'Top 10 ratios of environmental speakers per occupation'"
      ]
     },
     "metadata": {},
     "output_type": "display_data"
    },
    {
     "data": {
      "text/html": [
       "<div>\n",
       "<style scoped>\n",
       "    .dataframe tbody tr th:only-of-type {\n",
       "        vertical-align: middle;\n",
       "    }\n",
       "\n",
       "    .dataframe tbody tr th {\n",
       "        vertical-align: top;\n",
       "    }\n",
       "\n",
       "    .dataframe thead th {\n",
       "        text-align: right;\n",
       "    }\n",
       "</style>\n",
       "<table border=\"1\" class=\"dataframe\">\n",
       "  <thead>\n",
       "    <tr style=\"text-align: right;\">\n",
       "      <th></th>\n",
       "      <th>count_environment</th>\n",
       "      <th>count_all</th>\n",
       "      <th>ratio</th>\n",
       "    </tr>\n",
       "    <tr>\n",
       "      <th>occupation</th>\n",
       "      <th></th>\n",
       "      <th></th>\n",
       "      <th></th>\n",
       "    </tr>\n",
       "  </thead>\n",
       "  <tbody>\n",
       "    <tr>\n",
       "      <th>American football player</th>\n",
       "      <td>2864</td>\n",
       "      <td>33983</td>\n",
       "      <td>0.084277</td>\n",
       "    </tr>\n",
       "    <tr>\n",
       "      <th>television producer</th>\n",
       "      <td>879</td>\n",
       "      <td>10687</td>\n",
       "      <td>0.082249</td>\n",
       "    </tr>\n",
       "    <tr>\n",
       "      <th>Australian rules football player</th>\n",
       "      <td>1121</td>\n",
       "      <td>14105</td>\n",
       "      <td>0.079475</td>\n",
       "    </tr>\n",
       "    <tr>\n",
       "      <th>guitarist</th>\n",
       "      <td>896</td>\n",
       "      <td>14516</td>\n",
       "      <td>0.061725</td>\n",
       "    </tr>\n",
       "    <tr>\n",
       "      <th>television actor</th>\n",
       "      <td>2554</td>\n",
       "      <td>41790</td>\n",
       "      <td>0.061115</td>\n",
       "    </tr>\n",
       "    <tr>\n",
       "      <th>voice actor</th>\n",
       "      <td>688</td>\n",
       "      <td>12257</td>\n",
       "      <td>0.056131</td>\n",
       "    </tr>\n",
       "    <tr>\n",
       "      <th>singer-songwriter</th>\n",
       "      <td>843</td>\n",
       "      <td>15065</td>\n",
       "      <td>0.055958</td>\n",
       "    </tr>\n",
       "    <tr>\n",
       "      <th>cricketer</th>\n",
       "      <td>2109</td>\n",
       "      <td>37791</td>\n",
       "      <td>0.055807</td>\n",
       "    </tr>\n",
       "    <tr>\n",
       "      <th>rugby union player</th>\n",
       "      <td>1025</td>\n",
       "      <td>19068</td>\n",
       "      <td>0.053755</td>\n",
       "    </tr>\n",
       "    <tr>\n",
       "      <th>record producer</th>\n",
       "      <td>752</td>\n",
       "      <td>14518</td>\n",
       "      <td>0.051798</td>\n",
       "    </tr>\n",
       "  </tbody>\n",
       "</table>\n",
       "</div>"
      ],
      "text/plain": [
       "                                  count_environment  count_all     ratio\n",
       "occupation                                                              \n",
       "American football player                       2864      33983  0.084277\n",
       "television producer                             879      10687  0.082249\n",
       "Australian rules football player               1121      14105  0.079475\n",
       "guitarist                                       896      14516  0.061725\n",
       "television actor                               2554      41790  0.061115\n",
       "voice actor                                     688      12257  0.056131\n",
       "singer-songwriter                               843      15065  0.055958\n",
       "cricketer                                      2109      37791  0.055807\n",
       "rugby union player                             1025      19068  0.053755\n",
       "record producer                                 752      14518  0.051798"
      ]
     },
     "metadata": {},
     "output_type": "display_data"
    }
   ],
   "source": [
    "# Dropping duplicates of speaker qid to count speakers who are quoted many times only once.\n",
    "environment_unique_speakers = environment_speakers.drop_duplicates(subset=['qids'], keep='first')\n",
    "\n",
    "# Redo the analysis\n",
    "top_environment_unique_speakers = group_and_sort_by_features(environment_unique_speakers, ['occupation'])\n",
    "display('Top 10 occupations of unique environmental speakers',\n",
    "        top_environment_unique_speakers.head(n=10))\n",
    "\n",
    "# Keep only the most prominent jobs\n",
    "THRESHOLD = 10000\n",
    "top_environment_speakers_occupations_ratios = extract_and_sort_by_ratio(\n",
    "    top_environment_unique_speakers,\n",
    "    all_speakers_grouped_by_occupations[all_speakers_grouped_by_occupations['count'] > THRESHOLD]\n",
    ")\n",
    "\n",
    "display('Top 10 ratios of environmental speakers per occupation',\n",
    "        top_environment_speakers_occupations_ratios.head(n=10))"
   ]
  },
  {
   "cell_type": "code",
   "execution_count": 21,
   "id": "71ad3504-7081-4104-940a-83d0def5e6de",
   "metadata": {},
   "outputs": [
    {
     "data": {
      "image/png": "[encoded data removed]",
      "text/plain": [
       "<Figure size 1584x864 with 2 Axes>"
      ]
     },
     "metadata": {
      "needs_background": "light"
     },
     "output_type": "display_data"
    }
   ],
   "source": [
    "fig, (ax1, ax2) = plt.subplots(2, 1, figsize=(22, 12))\n",
    "\n",
    "ax1.set_yscale('log')\n",
    "ax2.set_yscale('log')\n",
    "\n",
    "# Get the ratios for the top 10 occupations\n",
    "top_10_general_occupations_ratios = top_environment_speakers_occupations_ratios[\n",
    "    top_environment_speakers_occupations_ratios.index.isin(top_10_occupations.index)\n",
    "]\n",
    "\n",
    "ax1.bar(top_10_general_occupations_ratios.index,\n",
    "        top_10_general_occupations_ratios['count_all'], color='darkblue', label='All')\n",
    "\n",
    "ax1.bar(top_10_general_occupations_ratios.index,\n",
    "        top_10_general_occupations_ratios['count_environment'], color='lightblue', label='Environmental')\n",
    "\n",
    "ax2.bar(top_environment_speakers_occupations_ratios[:10].index,\n",
    "        top_environment_speakers_occupations_ratios[:10]['count_all'], color='darkblue', label='All')\n",
    "\n",
    "ax2.bar(top_environment_speakers_occupations_ratios[:10].index,\n",
    "        top_environment_speakers_occupations_ratios[:10]['count_environment'], color='lightblue', label='Environmental')\n",
    "\n",
    "ax1.set_ylabel('frequency')\n",
    "ax1.set_title('Ratios of environmental speakers for the top 10 speakers occupations')\n",
    "ax1.legend()\n",
    "\n",
    "ax2.set_ylabel('frequency')\n",
    "ax2.set_title('Occupations with the highest ratios of environmental speakers')\n",
    "ax2.legend()\n",
    "\n",
    "#plt.savefig('purchase_fre_job')\n",
    "plt.show()"
   ]
  },
  {
   "cell_type": "code",
   "execution_count": 43,
   "id": "bc760490-b6e1-4954-bf4e-05e1bc7a9240",
   "metadata": {},
   "outputs": [
    {
     "data": {
      "image/png": "[encoded data removed]",
      "text/plain": [
       "<Figure size 1440x432 with 2 Axes>"
      ]
     },
     "metadata": {
      "needs_background": "light"
     },
     "output_type": "display_data"
    }
   ],
   "source": [
    "# Plot the comparison between the ratios\n",
    "fig, (ax1, ax2) = plt.subplots(1, 2, figsize=(20, 6), sharey=True)\n",
    "\n",
    "# Get the ratios for the top 5 occupations\n",
    "top_5_occupations_ratios = top_environment_speakers_occupations_ratios[\n",
    "    top_environment_speakers_occupations_ratios.index.isin(top_10_occupations[:5].index)\n",
    "]\n",
    "\n",
    "ax1.bar(top_5_occupations_ratios.index,\n",
    "        top_5_occupations_ratios['ratio'])\n",
    "\n",
    "ax2.bar(top_environment_speakers_occupations_ratios[:5].index,\n",
    "        top_environment_speakers_occupations_ratios[:5]['ratio'])\n",
    "\n",
    "ax1.set_title('Ratios of environmental speakers for the top 5 speakers occupations')\n",
    "\n",
    "ax2.set_title('Occupations with the highest ratios of environmental speakers')\n",
    "\n",
    "plt.savefig('graphs/occupation_top_ratios_vs_ratios_tops')\n",
    "plt.tight_layout()\n",
    "plt.show()"
   ]
  },
  {
   "cell_type": "markdown",
   "id": "776f74f7-f021-49a9-9bdf-dbb3ac09fc93",
   "metadata": {},
   "source": [
    "**Findings**: The number of speakers per occupation that have talked about the environment still reflect the underlying distribution of the occupations of the speakers in general (cf. top 10 speakers occupations in part 2).\n",
    "\n",
    "However the **ratio per occupation** of speakers who have talked about the environment is much more revelatory and can be used to answer the question of **how likely a speakers would be quoted talking about the environment given his occupation**. In that respect, we can see that the top 10 occupations quoted talking about the environment are related to **sports** (football player...) and **arts** (musician, actor...), more commonly associated with the domain of **entertainment**."
   ]
  },
  {
   "cell_type": "markdown",
   "id": "0dad00cc-375f-4920-bed4-79c7c80ebca6",
   "metadata": {},
   "source": [
    "#### Gender"
   ]
  },
  {
   "cell_type": "markdown",
   "id": "595bd9d8-3bf8-4858-bec1-f5b28d33610b",
   "metadata": {},
   "source": [
    "Following the same approach, we separate the genders into 3 categories: 'male', 'female' and 'other' to refer to all other genders."
   ]
  },
  {
   "cell_type": "code",
   "execution_count": 23,
   "id": "1e38f0fb-2be2-44af-aba9-392d55a1cc1f",
   "metadata": {},
   "outputs": [
    {
     "data": {
      "text/plain": [
       "[82870, 12875, 86]"
      ]
     },
     "execution_count": 23,
     "metadata": {},
     "output_type": "execute_result"
    }
   ],
   "source": [
    "environment_speakers_genders_grouped = group_and_sort_by_features(environment_unique_speakers, ['gender'])\n",
    "\n",
    "female_mask = environment_speakers_genders_grouped.index == 'female'\n",
    "male_mask = environment_speakers_genders_grouped.index == 'male'\n",
    "\n",
    "environment_genders_counts = [\n",
    "    environment_speakers_genders_grouped[male_mask]['count'].sum(),\n",
    "    environment_speakers_genders_grouped[female_mask]['count'].sum(),\n",
    "    environment_speakers_genders_grouped[~(male_mask | female_mask)]['count'].sum()\n",
    "]\n",
    "environment_genders_counts"
   ]
  },
  {
   "cell_type": "markdown",
   "id": "de8d547c-1a0a-4325-a797-6cf31037c8ca",
   "metadata": {},
   "source": [
    "Again the real information is shrouded behind the underlying distribution of male and female genders within the speakers in general. Let's check the ratios."
   ]
  },
  {
   "cell_type": "code",
   "execution_count": 24,
   "id": "3dd0dddf-fcda-42a7-b59e-7de29f5e890f",
   "metadata": {},
   "outputs": [
    {
     "data": {
      "text/plain": [
       "array([0.01630366, 0.00790721, 0.04154589])"
      ]
     },
     "execution_count": 24,
     "metadata": {},
     "output_type": "execute_result"
    }
   ],
   "source": [
    "male_mask = all_speakers_grouped_by_gender.index == 'male'\n",
    "female_mask = all_speakers_grouped_by_gender.index == 'female'\n",
    "gender_total_counts = [\n",
    "    all_speakers_grouped_by_gender[male_mask]['count'].sum(),\n",
    "    all_speakers_grouped_by_gender[female_mask]['count'].sum(),\n",
    "    all_speakers_grouped_by_gender[~(male_mask | female_mask)]['count'].sum()\n",
    "]\n",
    "\n",
    "gender_ratios = np.array(environment_genders_counts) / np.array(gender_total_counts)\n",
    "gender_ratios"
   ]
  },
  {
   "cell_type": "code",
   "execution_count": 25,
   "id": "4c1eadea-123a-4b76-8ed8-4b1c0515ea9d",
   "metadata": {},
   "outputs": [
    {
     "data": {
      "image/png": "[encoded data removed]",
      "text/plain": [
       "<Figure size 1008x576 with 1 Axes>"
      ]
     },
     "metadata": {},
     "output_type": "display_data"
    }
   ],
   "source": [
    "# Plot the distribution of the genders speaking of the environment\n",
    "fig, ax = plt.subplots(figsize =  (14, 8))\n",
    "ax.pie(gender_ratios * 100, labels=np.array(['Male', 'Female', 'Other']), autopct='%1.1f%%',\n",
    "        shadow=True, startangle=90)\n",
    "\n",
    "ax.set_title('Ratios of environmental speakers per gender')\n",
    "\n",
    "plt.savefig('graphs/gender_environmental_ratios')\n",
    "fig.tight_layout()"
   ]
  },
  {
   "cell_type": "markdown",
   "id": "d241716e-5dbe-4392-8e4d-f3659e12b223",
   "metadata": {},
   "source": [
    "**Findings**: Again when we look at the ratios per gender instead of the actual numbers, the information changes. We can see that **speakers from other genders other than male or female are more likely to speak about the environment**. However **males are still more likely to speak about the environment than females** according to the pie chart."
   ]
  },
  {
   "cell_type": "markdown",
   "id": "daa12e8d-836f-420d-bcaa-b922d88b9565",
   "metadata": {},
   "source": [
    "#### Academic degree"
   ]
  },
  {
   "cell_type": "markdown",
   "id": "29b574a7-e774-451a-9e45-e2eb4799c00d",
   "metadata": {},
   "source": [
    "Here we will see if **having an academic degree** makes you more likely to speak about the environment or not."
   ]
  },
  {
   "cell_type": "code",
   "execution_count": 26,
   "id": "7411a72b-a68b-4e67-b609-11e01ce18dee",
   "metadata": {},
   "outputs": [
    {
     "data": {
      "text/plain": [
       "1075"
      ]
     },
     "metadata": {},
     "output_type": "display_data"
    },
    {
     "data": {
      "text/plain": [
       "99487"
      ]
     },
     "metadata": {},
     "output_type": "display_data"
    }
   ],
   "source": [
    "environment_educated_speakers = environment_unique_speakers[environment_unique_speakers.academic_degree.apply(check_academic_degree)]\n",
    "nb_environment_educated_speakers = len(environment_educated_speakers)\n",
    "nb_environment_uneducated_speakers = len(environment_unique_speakers) - nb_environment_educated_speakers\n",
    "\n",
    "display(nb_environment_educated_speakers)\n",
    "display(nb_environment_uneducated_speakers)"
   ]
  },
  {
   "cell_type": "code",
   "execution_count": 27,
   "id": "9b62a937-ece6-439c-8ee9-93cdf2c74cbf",
   "metadata": {},
   "outputs": [
    {
     "data": {
      "image/png": "[encoded data removed]",
      "text/plain": [
       "<Figure size 1008x576 with 1 Axes>"
      ]
     },
     "metadata": {},
     "output_type": "display_data"
    }
   ],
   "source": [
    "# Computing the ratios of speakers of environment based on academic degree\n",
    "ratio_environment_educated = nb_environment_educated_speakers / nb_educated_speakers\n",
    "ratio_environment_uneducated = nb_environment_uneducated_speakers / nb_uneducated_speakers\n",
    "\n",
    "# Plot the distribution of the genders speaking of the environment\n",
    "fig, ax = plt.subplots(figsize =  (14, 8))\n",
    "ax.pie(np.array([ratio_environment_educated, ratio_environment_uneducated]) * 100,\n",
    "       labels=np.array(['Speakers with academic degree', 'Speakers with no academic degree']), autopct='%1.1f%%',\n",
    "       shadow=True, startangle=90)\n",
    "\n",
    "ax.set_title('Ratios of environmental speakers depending on academic degree')\n",
    "\n",
    "plt.savefig('graphs/academic_degree_environmental_ratios')\n",
    "fig.tight_layout()"
   ]
  },
  {
   "cell_type": "markdown",
   "id": "9b9bba6a-a508-44d4-a091-61a119e60c34",
   "metadata": {},
   "source": [
    "**Findings**: It seems a speaker is not more likely to mention the environment if he was educated than if he were not."
   ]
  },
  {
   "cell_type": "markdown",
   "id": "8f13b4d1-c8a4-4e49-87b8-436bc61918a7",
   "metadata": {},
   "source": [
    "#### Nationality"
   ]
  },
  {
   "cell_type": "code",
   "execution_count": 28,
   "id": "009bd8a2-b854-4807-beed-dd6c47a65336",
   "metadata": {},
   "outputs": [
    {
     "data": {
      "text/html": [
       "<div>\n",
       "<style scoped>\n",
       "    .dataframe tbody tr th:only-of-type {\n",
       "        vertical-align: middle;\n",
       "    }\n",
       "\n",
       "    .dataframe tbody tr th {\n",
       "        vertical-align: top;\n",
       "    }\n",
       "\n",
       "    .dataframe thead th {\n",
       "        text-align: right;\n",
       "    }\n",
       "</style>\n",
       "<table border=\"1\" class=\"dataframe\">\n",
       "  <thead>\n",
       "    <tr style=\"text-align: right;\">\n",
       "      <th></th>\n",
       "      <th>count</th>\n",
       "    </tr>\n",
       "    <tr>\n",
       "      <th>nationality</th>\n",
       "      <th></th>\n",
       "    </tr>\n",
       "  </thead>\n",
       "  <tbody>\n",
       "    <tr>\n",
       "      <th>United States of America</th>\n",
       "      <td>25501</td>\n",
       "    </tr>\n",
       "    <tr>\n",
       "      <th>United Kingdom</th>\n",
       "      <td>14031</td>\n",
       "    </tr>\n",
       "    <tr>\n",
       "      <th>Australia</th>\n",
       "      <td>4782</td>\n",
       "    </tr>\n",
       "    <tr>\n",
       "      <th>Canada</th>\n",
       "      <td>4278</td>\n",
       "    </tr>\n",
       "    <tr>\n",
       "      <th>Ming dynasty</th>\n",
       "      <td>2827</td>\n",
       "    </tr>\n",
       "    <tr>\n",
       "      <th>India</th>\n",
       "      <td>2081</td>\n",
       "    </tr>\n",
       "    <tr>\n",
       "      <th>Germany</th>\n",
       "      <td>1707</td>\n",
       "    </tr>\n",
       "    <tr>\n",
       "      <th>New Zealand</th>\n",
       "      <td>1573</td>\n",
       "    </tr>\n",
       "    <tr>\n",
       "      <th>Ireland</th>\n",
       "      <td>1408</td>\n",
       "    </tr>\n",
       "    <tr>\n",
       "      <th>Tang Empire</th>\n",
       "      <td>877</td>\n",
       "    </tr>\n",
       "  </tbody>\n",
       "</table>\n",
       "</div>"
      ],
      "text/plain": [
       "                          count\n",
       "nationality                    \n",
       "United States of America  25501\n",
       "United Kingdom            14031\n",
       "Australia                  4782\n",
       "Canada                     4278\n",
       "Ming dynasty               2827\n",
       "India                      2081\n",
       "Germany                    1707\n",
       "New Zealand                1573\n",
       "Ireland                    1408\n",
       "Tang Empire                 877"
      ]
     },
     "execution_count": 28,
     "metadata": {},
     "output_type": "execute_result"
    }
   ],
   "source": [
    "top_nationalities_environment_speakers = group_and_sort_by_features(environment_unique_speakers, ['nationality'])\n",
    "top_nationalities_environment_speakers.head(n=10)"
   ]
  },
  {
   "cell_type": "markdown",
   "id": "b9c6a502-498c-4bf5-b69e-0d284bf71c12",
   "metadata": {},
   "source": [
    "Now we compute the ratios of (#environment speakers / #all speakers) per nationality."
   ]
  },
  {
   "cell_type": "code",
   "execution_count": 29,
   "id": "69e49b56-17e2-40e8-84f7-ea4737b13989",
   "metadata": {},
   "outputs": [
    {
     "data": {
      "text/plain": [
       "'Ratio of speakers that have talked about the environment at least once, per nationality'"
      ]
     },
     "metadata": {},
     "output_type": "display_data"
    },
    {
     "data": {
      "text/html": [
       "<div>\n",
       "<style scoped>\n",
       "    .dataframe tbody tr th:only-of-type {\n",
       "        vertical-align: middle;\n",
       "    }\n",
       "\n",
       "    .dataframe tbody tr th {\n",
       "        vertical-align: top;\n",
       "    }\n",
       "\n",
       "    .dataframe thead th {\n",
       "        text-align: right;\n",
       "    }\n",
       "</style>\n",
       "<table border=\"1\" class=\"dataframe\">\n",
       "  <thead>\n",
       "    <tr style=\"text-align: right;\">\n",
       "      <th></th>\n",
       "      <th>count_environment</th>\n",
       "      <th>count_all</th>\n",
       "      <th>ratio</th>\n",
       "    </tr>\n",
       "    <tr>\n",
       "      <th>nationality</th>\n",
       "      <th></th>\n",
       "      <th></th>\n",
       "      <th></th>\n",
       "    </tr>\n",
       "  </thead>\n",
       "  <tbody>\n",
       "    <tr>\n",
       "      <th>Ireland</th>\n",
       "      <td>1408</td>\n",
       "      <td>14828</td>\n",
       "      <td>0.094955</td>\n",
       "    </tr>\n",
       "    <tr>\n",
       "      <th>Australia</th>\n",
       "      <td>4782</td>\n",
       "      <td>53093</td>\n",
       "      <td>0.090068</td>\n",
       "    </tr>\n",
       "    <tr>\n",
       "      <th>United Kingdom</th>\n",
       "      <td>14031</td>\n",
       "      <td>166656</td>\n",
       "      <td>0.084191</td>\n",
       "    </tr>\n",
       "    <tr>\n",
       "      <th>New Zealand</th>\n",
       "      <td>1573</td>\n",
       "      <td>23454</td>\n",
       "      <td>0.067067</td>\n",
       "    </tr>\n",
       "    <tr>\n",
       "      <th>United States of America</th>\n",
       "      <td>25501</td>\n",
       "      <td>438676</td>\n",
       "      <td>0.058132</td>\n",
       "    </tr>\n",
       "    <tr>\n",
       "      <th>Canada</th>\n",
       "      <td>4278</td>\n",
       "      <td>83369</td>\n",
       "      <td>0.051314</td>\n",
       "    </tr>\n",
       "    <tr>\n",
       "      <th>South Africa</th>\n",
       "      <td>538</td>\n",
       "      <td>14375</td>\n",
       "      <td>0.037426</td>\n",
       "    </tr>\n",
       "    <tr>\n",
       "      <th>India</th>\n",
       "      <td>2081</td>\n",
       "      <td>56687</td>\n",
       "      <td>0.036710</td>\n",
       "    </tr>\n",
       "    <tr>\n",
       "      <th>Tang Empire</th>\n",
       "      <td>877</td>\n",
       "      <td>37247</td>\n",
       "      <td>0.023546</td>\n",
       "    </tr>\n",
       "    <tr>\n",
       "      <th>People's Republic of China</th>\n",
       "      <td>556</td>\n",
       "      <td>24264</td>\n",
       "      <td>0.022915</td>\n",
       "    </tr>\n",
       "  </tbody>\n",
       "</table>\n",
       "</div>"
      ],
      "text/plain": [
       "                            count_environment  count_all     ratio\n",
       "nationality                                                       \n",
       "Ireland                                  1408      14828  0.094955\n",
       "Australia                                4782      53093  0.090068\n",
       "United Kingdom                          14031     166656  0.084191\n",
       "New Zealand                              1573      23454  0.067067\n",
       "United States of America                25501     438676  0.058132\n",
       "Canada                                   4278      83369  0.051314\n",
       "South Africa                              538      14375  0.037426\n",
       "India                                    2081      56687  0.036710\n",
       "Tang Empire                               877      37247  0.023546\n",
       "People's Republic of China                556      24264  0.022915"
      ]
     },
     "metadata": {},
     "output_type": "display_data"
    }
   ],
   "source": [
    "# Now the ratios per nationality\n",
    "all_speakers_grouped_by_nationality = group_and_sort_by_features(retrieved_labeled_speakers, ['nationality'])\n",
    "\n",
    "ratios_by_nationalities = extract_and_sort_by_ratio(\n",
    "            top_nationalities_environment_speakers,\n",
    "            all_speakers_grouped_by_nationality[all_speakers_grouped_by_nationality['count'] > THRESHOLD]\n",
    ")\n",
    "\n",
    "display(\n",
    "    'Ratio of speakers that have talked about the environment at least once, per nationality',\n",
    "        ratios_by_nationalities.head(n=10)\n",
    ")"
   ]
  },
  {
   "cell_type": "code",
   "execution_count": 30,
   "id": "f706301c-06e9-4e4e-96f6-d31093341bba",
   "metadata": {},
   "outputs": [
    {
     "data": {
      "image/png": "[encoded data removed]",
      "text/plain": [
       "<Figure size 1008x576 with 1 Axes>"
      ]
     },
     "metadata": {},
     "output_type": "display_data"
    }
   ],
   "source": [
    "# Plot the distribution of the genders speaking of the environment based on nationality\n",
    "fig, ax = plt.subplots(figsize = (14, 8))\n",
    "\n",
    "ax.pie((ratios_by_nationalities['ratio']*10).head(n=10),\n",
    "       labels=ratios_by_nationalities.head(n=10).index, autopct='%1.1f%%',\n",
    "       shadow=True, startangle=90)\n",
    "\n",
    "ax.set_title('Top 10 ratios per nationality of environmental speakers')\n",
    "\n",
    "fig.tight_layout()"
   ]
  },
  {
   "cell_type": "code",
   "execution_count": 31,
   "id": "f6fc4771-314f-4aab-a635-3845b8545922",
   "metadata": {},
   "outputs": [
    {
     "data": {
      "image/png": "[encoded data removed]",
      "text/plain": [
       "<Figure size 1440x432 with 2 Axes>"
      ]
     },
     "metadata": {
      "needs_background": "light"
     },
     "output_type": "display_data"
    }
   ],
   "source": [
    "# Plot the comparison between the ratios\n",
    "fig, (ax1, ax2) = plt.subplots(1, 2, figsize=(20, 6), sharey=True)\n",
    "\n",
    "# Get the ratio for the top 5 nationalities to compare\n",
    "top_nationalities_ratios = ratios_by_nationalities[\n",
    "    ratios_by_nationalities.index.isin(all_speakers_grouped_by_nationality[:5].index)\n",
    "]\n",
    "\n",
    "ax1.bar(top_nationalities_ratios.index,\n",
    "        top_nationalities_ratios['ratio'])\n",
    "\n",
    "ax2.bar(ratios_by_nationalities[:5].index,\n",
    "        ratios_by_nationalities[:5]['ratio'])\n",
    "\n",
    "ax1.set_title('Ratios of environmental speakers for the top 5 speaker nationalities')\n",
    "\n",
    "ax2.set_title('Nationalities with the highest ratios of environmental speakers')\n",
    "\n",
    "plt.savefig('graphs/nationality_top_ratios_vs_ratios_tops')\n",
    "plt.tight_layout()\n",
    "plt.show()"
   ]
  },
  {
   "cell_type": "markdown",
   "id": "aef1f2a9-08bd-493b-8ee2-46a4eb1f9cd6",
   "metadata": {},
   "source": [
    "**Findings**: The top countries where speakers are more likely to speak about the environment are usually **from the western hemisphere (politically speaking)**, like the USA, UK, Australia, NZ and Canada."
   ]
  },
  {
   "cell_type": "markdown",
   "id": "a8de7076-6c70-4e5a-bff4-bed662c00204",
   "metadata": {},
   "source": [
    "#### Age"
   ]
  },
  {
   "cell_type": "code",
   "execution_count": 33,
   "id": "8ef90b19-f60f-40c4-81fb-bfe1ed60f11b",
   "metadata": {},
   "outputs": [
    {
     "data": {
      "text/html": [
       "<div>\n",
       "<style scoped>\n",
       "    .dataframe tbody tr th:only-of-type {\n",
       "        vertical-align: middle;\n",
       "    }\n",
       "\n",
       "    .dataframe tbody tr th {\n",
       "        vertical-align: top;\n",
       "    }\n",
       "\n",
       "    .dataframe thead th {\n",
       "        text-align: right;\n",
       "    }\n",
       "</style>\n",
       "<table border=\"1\" class=\"dataframe\">\n",
       "  <thead>\n",
       "    <tr style=\"text-align: right;\">\n",
       "      <th></th>\n",
       "      <th>count</th>\n",
       "    </tr>\n",
       "    <tr>\n",
       "      <th>age_group</th>\n",
       "      <th></th>\n",
       "    </tr>\n",
       "  </thead>\n",
       "  <tbody>\n",
       "    <tr>\n",
       "      <th>60s</th>\n",
       "      <td>13911</td>\n",
       "    </tr>\n",
       "    <tr>\n",
       "      <th>50s</th>\n",
       "      <td>13619</td>\n",
       "    </tr>\n",
       "    <tr>\n",
       "      <th>70s</th>\n",
       "      <td>10654</td>\n",
       "    </tr>\n",
       "    <tr>\n",
       "      <th>40s</th>\n",
       "      <td>10576</td>\n",
       "    </tr>\n",
       "    <tr>\n",
       "      <th>30s</th>\n",
       "      <td>8615</td>\n",
       "    </tr>\n",
       "    <tr>\n",
       "      <th>80s</th>\n",
       "      <td>5333</td>\n",
       "    </tr>\n",
       "    <tr>\n",
       "      <th>20s</th>\n",
       "      <td>4148</td>\n",
       "    </tr>\n",
       "    <tr>\n",
       "      <th>90s</th>\n",
       "      <td>2761</td>\n",
       "    </tr>\n",
       "    <tr>\n",
       "      <th>&gt;=100</th>\n",
       "      <td>2021</td>\n",
       "    </tr>\n",
       "    <tr>\n",
       "      <th>10s</th>\n",
       "      <td>32</td>\n",
       "    </tr>\n",
       "  </tbody>\n",
       "</table>\n",
       "</div>"
      ],
      "text/plain": [
       "           count\n",
       "age_group       \n",
       "60s        13911\n",
       "50s        13619\n",
       "70s        10654\n",
       "40s        10576\n",
       "30s         8615\n",
       "80s         5333\n",
       "20s         4148\n",
       "90s         2761\n",
       ">=100       2021\n",
       "10s           32"
      ]
     },
     "execution_count": 33,
     "metadata": {},
     "output_type": "execute_result"
    }
   ],
   "source": [
    "top_age_groups_environment_speakers = group_and_sort_by_features(environment_unique_speakers, ['age_group'])\n",
    "top_age_groups_environment_speakers.head(n=10)"
   ]
  },
  {
   "cell_type": "code",
   "execution_count": 33,
   "id": "bddc87fb-f61c-4227-a032-a1eb6c1cbf3e",
   "metadata": {},
   "outputs": [
    {
     "data": {
      "text/html": [
       "<div>\n",
       "<style scoped>\n",
       "    .dataframe tbody tr th:only-of-type {\n",
       "        vertical-align: middle;\n",
       "    }\n",
       "\n",
       "    .dataframe tbody tr th {\n",
       "        vertical-align: top;\n",
       "    }\n",
       "\n",
       "    .dataframe thead th {\n",
       "        text-align: right;\n",
       "    }\n",
       "</style>\n",
       "<table border=\"1\" class=\"dataframe\">\n",
       "  <thead>\n",
       "    <tr style=\"text-align: right;\">\n",
       "      <th></th>\n",
       "      <th>count</th>\n",
       "    </tr>\n",
       "    <tr>\n",
       "      <th>age_group</th>\n",
       "      <th></th>\n",
       "    </tr>\n",
       "  </thead>\n",
       "  <tbody>\n",
       "    <tr>\n",
       "      <th>60s</th>\n",
       "      <td>13911</td>\n",
       "    </tr>\n",
       "    <tr>\n",
       "      <th>50s</th>\n",
       "      <td>13619</td>\n",
       "    </tr>\n",
       "    <tr>\n",
       "      <th>70s</th>\n",
       "      <td>10654</td>\n",
       "    </tr>\n",
       "    <tr>\n",
       "      <th>40s</th>\n",
       "      <td>10576</td>\n",
       "    </tr>\n",
       "    <tr>\n",
       "      <th>30s</th>\n",
       "      <td>8615</td>\n",
       "    </tr>\n",
       "    <tr>\n",
       "      <th>80s</th>\n",
       "      <td>5333</td>\n",
       "    </tr>\n",
       "    <tr>\n",
       "      <th>20s</th>\n",
       "      <td>4148</td>\n",
       "    </tr>\n",
       "    <tr>\n",
       "      <th>90s</th>\n",
       "      <td>2761</td>\n",
       "    </tr>\n",
       "    <tr>\n",
       "      <th>&gt;=100</th>\n",
       "      <td>2021</td>\n",
       "    </tr>\n",
       "    <tr>\n",
       "      <th>10s</th>\n",
       "      <td>32</td>\n",
       "    </tr>\n",
       "    <tr>\n",
       "      <th>&lt;10</th>\n",
       "      <td>1</td>\n",
       "    </tr>\n",
       "  </tbody>\n",
       "</table>\n",
       "</div>"
      ],
      "text/plain": [
       "           count\n",
       "age_group       \n",
       "60s        13911\n",
       "50s        13619\n",
       "70s        10654\n",
       "40s        10576\n",
       "30s         8615\n",
       "80s         5333\n",
       "20s         4148\n",
       "90s         2761\n",
       ">=100       2021\n",
       "10s           32\n",
       "<10            1"
      ]
     },
     "execution_count": 33,
     "metadata": {},
     "output_type": "execute_result"
    }
   ],
   "source": [
    "environment_speakers_ages_grouped = group_and_sort_by_features(environment_unique_speakers, ['age_group'])\n",
    "environment_speakers_ages_grouped.head(n=20)"
   ]
  },
  {
   "cell_type": "code",
   "execution_count": 34,
   "id": "4bf2010a-fabe-4c24-a209-68e7fbcbf3db",
   "metadata": {},
   "outputs": [
    {
     "data": {
      "text/plain": [
       "'Ratio of speakers that have talked about the environment at least once, per age group'"
      ]
     },
     "metadata": {},
     "output_type": "display_data"
    },
    {
     "data": {
      "text/html": [
       "<div>\n",
       "<style scoped>\n",
       "    .dataframe tbody tr th:only-of-type {\n",
       "        vertical-align: middle;\n",
       "    }\n",
       "\n",
       "    .dataframe tbody tr th {\n",
       "        vertical-align: top;\n",
       "    }\n",
       "\n",
       "    .dataframe thead th {\n",
       "        text-align: right;\n",
       "    }\n",
       "</style>\n",
       "<table border=\"1\" class=\"dataframe\">\n",
       "  <thead>\n",
       "    <tr style=\"text-align: right;\">\n",
       "      <th></th>\n",
       "      <th>count_environment</th>\n",
       "      <th>count_all</th>\n",
       "      <th>ratio</th>\n",
       "    </tr>\n",
       "    <tr>\n",
       "      <th>age_group</th>\n",
       "      <th></th>\n",
       "      <th></th>\n",
       "      <th></th>\n",
       "    </tr>\n",
       "  </thead>\n",
       "  <tbody>\n",
       "    <tr>\n",
       "      <th>50s</th>\n",
       "      <td>13619</td>\n",
       "      <td>385817</td>\n",
       "      <td>0.035299</td>\n",
       "    </tr>\n",
       "    <tr>\n",
       "      <th>60s</th>\n",
       "      <td>13911</td>\n",
       "      <td>403952</td>\n",
       "      <td>0.034437</td>\n",
       "    </tr>\n",
       "    <tr>\n",
       "      <th>40s</th>\n",
       "      <td>10576</td>\n",
       "      <td>353919</td>\n",
       "      <td>0.029883</td>\n",
       "    </tr>\n",
       "    <tr>\n",
       "      <th>70s</th>\n",
       "      <td>10654</td>\n",
       "      <td>380428</td>\n",
       "      <td>0.028005</td>\n",
       "    </tr>\n",
       "    <tr>\n",
       "      <th>30s</th>\n",
       "      <td>8615</td>\n",
       "      <td>335141</td>\n",
       "      <td>0.025706</td>\n",
       "    </tr>\n",
       "    <tr>\n",
       "      <th>80s</th>\n",
       "      <td>5333</td>\n",
       "      <td>277815</td>\n",
       "      <td>0.019196</td>\n",
       "    </tr>\n",
       "    <tr>\n",
       "      <th>20s</th>\n",
       "      <td>4148</td>\n",
       "      <td>252593</td>\n",
       "      <td>0.016422</td>\n",
       "    </tr>\n",
       "    <tr>\n",
       "      <th>90s</th>\n",
       "      <td>2761</td>\n",
       "      <td>262312</td>\n",
       "      <td>0.010526</td>\n",
       "    </tr>\n",
       "    <tr>\n",
       "      <th>10s</th>\n",
       "      <td>32</td>\n",
       "      <td>23548</td>\n",
       "      <td>0.001359</td>\n",
       "    </tr>\n",
       "    <tr>\n",
       "      <th>&gt;=100</th>\n",
       "      <td>2021</td>\n",
       "      <td>1988098</td>\n",
       "      <td>0.001017</td>\n",
       "    </tr>\n",
       "  </tbody>\n",
       "</table>\n",
       "</div>"
      ],
      "text/plain": [
       "           count_environment  count_all     ratio\n",
       "age_group                                        \n",
       "50s                    13619     385817  0.035299\n",
       "60s                    13911     403952  0.034437\n",
       "40s                    10576     353919  0.029883\n",
       "70s                    10654     380428  0.028005\n",
       "30s                     8615     335141  0.025706\n",
       "80s                     5333     277815  0.019196\n",
       "20s                     4148     252593  0.016422\n",
       "90s                     2761     262312  0.010526\n",
       "10s                       32      23548  0.001359\n",
       ">=100                   2021    1988098  0.001017"
      ]
     },
     "metadata": {},
     "output_type": "display_data"
    }
   ],
   "source": [
    "ratios_by_age_groups = extract_and_sort_by_ratio(\n",
    "            top_age_groups_environment_speakers, all_speakers_age_groups\n",
    ")\n",
    "\n",
    "display('Ratio of speakers that have talked about the environment at least once, per age group',\n",
    "        ratios_by_age_groups.head(n=10)\n",
    "       )"
   ]
  },
  {
   "cell_type": "code",
   "execution_count": null,
   "id": "6fd5de77-94ba-4799-b2bb-8ad952788401",
   "metadata": {},
   "outputs": [],
   "source": [
    "# Plot the distribution of the genders speaking of the environment based on age group\n",
    "fig, ax = plt.subplots(figsize =  (14, 8))\n",
    "ax.pie((ratios_by_age_groups['ratio']*10).head(n=10),\n",
    "       labels=ratios_by_age_groups.head(n=10).index, autopct='%1.1f%%',\n",
    "       shadow=True, startangle=90)\n",
    "\n",
    "ax.set_title('Ratios of speakers speaking about the environment depending on age group')\n",
    "\n",
    "fig.tight_layout()"
   ]
  },
  {
   "cell_type": "markdown",
   "id": "03023b16-5070-4b7d-baae-ae80ae9a01d4",
   "metadata": {},
   "source": [
    "**Findings**: A speaker's age group doesn't really change how likely he'd be speaking about the environment as we see the proportions aren't drastically different between the different age groups. **Yet a speaker in his 50s is doubly likely to quote the environment than a speaker in his 20s**.\n",
    "\n",
    "And **if you're over a 100 years old** (probably a dead historical figure), the age group of which appears the most frequently in the speakers dataset, you are **very highly unlikely to have spoken about the environment. This shows the topic of the environment only came to prominence during the last century.**"
   ]
  },
  {
   "cell_type": "markdown",
   "id": "0f81bc96-8222-4c90-9931-c1f0252eea7e",
   "metadata": {},
   "source": [
    "#### Occupation & Age"
   ]
  },
  {
   "cell_type": "markdown",
   "id": "0f66451a-2ac7-48b4-8873-08a17888ce3a",
   "metadata": {},
   "source": [
    "To be fair, a lot of the speakers in our speakers dataset are over 100 years old, which means they're historical figures and the environment may not have been such a hot topic back then. Let's keep our interest to contemporary speakers, and redo our analysis using the speakers' occupations again."
   ]
  },
  {
   "cell_type": "code",
   "execution_count": 37,
   "id": "4adc018d-7e7c-4dbb-86ee-a6ceca169e77",
   "metadata": {},
   "outputs": [
    {
     "data": {
      "text/plain": [
       "'Number of contemporary speakers that have talked about the environment at least once, per occupation and age group'"
      ]
     },
     "metadata": {},
     "output_type": "display_data"
    },
    {
     "data": {
      "text/html": [
       "<div>\n",
       "<style scoped>\n",
       "    .dataframe tbody tr th:only-of-type {\n",
       "        vertical-align: middle;\n",
       "    }\n",
       "\n",
       "    .dataframe tbody tr th {\n",
       "        vertical-align: top;\n",
       "    }\n",
       "\n",
       "    .dataframe thead th {\n",
       "        text-align: right;\n",
       "    }\n",
       "</style>\n",
       "<table border=\"1\" class=\"dataframe\">\n",
       "  <thead>\n",
       "    <tr style=\"text-align: right;\">\n",
       "      <th></th>\n",
       "      <th></th>\n",
       "      <th>count</th>\n",
       "    </tr>\n",
       "    <tr>\n",
       "      <th>occupation</th>\n",
       "      <th>age_group</th>\n",
       "      <th></th>\n",
       "    </tr>\n",
       "  </thead>\n",
       "  <tbody>\n",
       "    <tr>\n",
       "      <th rowspan=\"4\" valign=\"top\">politician</th>\n",
       "      <th>60s</th>\n",
       "      <td>2965</td>\n",
       "    </tr>\n",
       "    <tr>\n",
       "      <th>50s</th>\n",
       "      <td>2486</td>\n",
       "    </tr>\n",
       "    <tr>\n",
       "      <th>70s</th>\n",
       "      <td>2086</td>\n",
       "    </tr>\n",
       "    <tr>\n",
       "      <th>40s</th>\n",
       "      <td>1408</td>\n",
       "    </tr>\n",
       "    <tr>\n",
       "      <th rowspan=\"3\" valign=\"top\">association football player</th>\n",
       "      <th>30s</th>\n",
       "      <td>1384</td>\n",
       "    </tr>\n",
       "    <tr>\n",
       "      <th>40s</th>\n",
       "      <td>985</td>\n",
       "    </tr>\n",
       "    <tr>\n",
       "      <th>50s</th>\n",
       "      <td>835</td>\n",
       "    </tr>\n",
       "    <tr>\n",
       "      <th>actor</th>\n",
       "      <th>40s</th>\n",
       "      <td>824</td>\n",
       "    </tr>\n",
       "    <tr>\n",
       "      <th>writer</th>\n",
       "      <th>60s</th>\n",
       "      <td>818</td>\n",
       "    </tr>\n",
       "    <tr>\n",
       "      <th>actor</th>\n",
       "      <th>50s</th>\n",
       "      <td>806</td>\n",
       "    </tr>\n",
       "  </tbody>\n",
       "</table>\n",
       "</div>"
      ],
      "text/plain": [
       "                                       count\n",
       "occupation                  age_group       \n",
       "politician                  60s         2965\n",
       "                            50s         2486\n",
       "                            70s         2086\n",
       "                            40s         1408\n",
       "association football player 30s         1384\n",
       "                            40s          985\n",
       "                            50s          835\n",
       "actor                       40s          824\n",
       "writer                      60s          818\n",
       "actor                       50s          806"
      ]
     },
     "metadata": {},
     "output_type": "display_data"
    },
    {
     "data": {
      "text/plain": [
       "'Ratio of speakers that have talked about the environment at least once, per occupation and age group'"
      ]
     },
     "metadata": {},
     "output_type": "display_data"
    },
    {
     "data": {
      "text/html": [
       "<div>\n",
       "<style scoped>\n",
       "    .dataframe tbody tr th:only-of-type {\n",
       "        vertical-align: middle;\n",
       "    }\n",
       "\n",
       "    .dataframe tbody tr th {\n",
       "        vertical-align: top;\n",
       "    }\n",
       "\n",
       "    .dataframe thead th {\n",
       "        text-align: right;\n",
       "    }\n",
       "</style>\n",
       "<table border=\"1\" class=\"dataframe\">\n",
       "  <thead>\n",
       "    <tr style=\"text-align: right;\">\n",
       "      <th></th>\n",
       "      <th></th>\n",
       "      <th>count_environment</th>\n",
       "      <th>count_all</th>\n",
       "      <th>ratio</th>\n",
       "    </tr>\n",
       "    <tr>\n",
       "      <th>occupation</th>\n",
       "      <th>age_group</th>\n",
       "      <th></th>\n",
       "      <th></th>\n",
       "      <th></th>\n",
       "    </tr>\n",
       "  </thead>\n",
       "  <tbody>\n",
       "    <tr>\n",
       "      <th>American football player</th>\n",
       "      <th>30s</th>\n",
       "      <td>693</td>\n",
       "      <td>6457</td>\n",
       "      <td>0.107325</td>\n",
       "    </tr>\n",
       "    <tr>\n",
       "      <th>lawyer</th>\n",
       "      <th>60s</th>\n",
       "      <td>520</td>\n",
       "      <td>5857</td>\n",
       "      <td>0.088783</td>\n",
       "    </tr>\n",
       "    <tr>\n",
       "      <th rowspan=\"2\" valign=\"top\">businessperson</th>\n",
       "      <th>50s</th>\n",
       "      <td>443</td>\n",
       "      <td>5203</td>\n",
       "      <td>0.085143</td>\n",
       "    </tr>\n",
       "    <tr>\n",
       "      <th>60s</th>\n",
       "      <td>515</td>\n",
       "      <td>6156</td>\n",
       "      <td>0.083658</td>\n",
       "    </tr>\n",
       "    <tr>\n",
       "      <th>television actor</th>\n",
       "      <th>50s</th>\n",
       "      <td>502</td>\n",
       "      <td>6002</td>\n",
       "      <td>0.083639</td>\n",
       "    </tr>\n",
       "    <tr>\n",
       "      <th>lawyer</th>\n",
       "      <th>50s</th>\n",
       "      <td>404</td>\n",
       "      <td>5210</td>\n",
       "      <td>0.077543</td>\n",
       "    </tr>\n",
       "    <tr>\n",
       "      <th>television actor</th>\n",
       "      <th>40s</th>\n",
       "      <td>496</td>\n",
       "      <td>6811</td>\n",
       "      <td>0.072823</td>\n",
       "    </tr>\n",
       "    <tr>\n",
       "      <th>lawyer</th>\n",
       "      <th>70s</th>\n",
       "      <td>380</td>\n",
       "      <td>6066</td>\n",
       "      <td>0.062644</td>\n",
       "    </tr>\n",
       "    <tr>\n",
       "      <th>rugby union player</th>\n",
       "      <th>30s</th>\n",
       "      <td>316</td>\n",
       "      <td>5175</td>\n",
       "      <td>0.061063</td>\n",
       "    </tr>\n",
       "    <tr>\n",
       "      <th>television actor</th>\n",
       "      <th>30s</th>\n",
       "      <td>361</td>\n",
       "      <td>6009</td>\n",
       "      <td>0.060077</td>\n",
       "    </tr>\n",
       "  </tbody>\n",
       "</table>\n",
       "</div>"
      ],
      "text/plain": [
       "                                    count_environment  count_all     ratio\n",
       "occupation               age_group                                        \n",
       "American football player 30s                      693       6457  0.107325\n",
       "lawyer                   60s                      520       5857  0.088783\n",
       "businessperson           50s                      443       5203  0.085143\n",
       "                         60s                      515       6156  0.083658\n",
       "television actor         50s                      502       6002  0.083639\n",
       "lawyer                   50s                      404       5210  0.077543\n",
       "television actor         40s                      496       6811  0.072823\n",
       "lawyer                   70s                      380       6066  0.062644\n",
       "rugby union player       30s                      316       5175  0.061063\n",
       "television actor         30s                      361       6009  0.060077"
      ]
     },
     "metadata": {},
     "output_type": "display_data"
    }
   ],
   "source": [
    "# Filter out speakers of age > 100\n",
    "environment_contemporary_speakers = environment_unique_speakers[environment_unique_speakers.age < 100]\n",
    "all_contemporary_speakers = retrieved_labeled_speakers[retrieved_labeled_speakers.age < 100]\n",
    "\n",
    "features = ['occupation', 'age_group']\n",
    "\n",
    "# Redo the analysis on the speakers occupations\n",
    "top_contemporary_speakers_by_occupation_and_age = group_and_sort_by_features(all_contemporary_speakers, features)\n",
    "top_environment_contemporary_speakers_by_occupation_and_age = group_and_sort_by_features(\n",
    "    environment_contemporary_speakers, features)\n",
    "display('Number of contemporary speakers that have talked about the environment at least once, per occupation and age group',\n",
    "        top_environment_contemporary_speakers_by_occupation_and_age.head(n=10))\n",
    "\n",
    "# CAUTION: Set a threshold for the minimum number of speakers per age and occupation \n",
    "# (again to avoid having a speaker with a unique profile and thus having a high ratio if he speaks of the environment)\n",
    "THRESHOLD = 5000\n",
    "\n",
    "display('Ratio of speakers that have talked about the environment at least once, per occupation and age group',\n",
    "        extract_and_sort_by_ratio(\n",
    "            top_environment_contemporary_speakers_by_occupation_and_age,\n",
    "            top_contemporary_speakers_by_occupation_and_age[\n",
    "                top_contemporary_speakers_by_occupation_and_age['count'] >= THRESHOLD\n",
    "            ]).head(n=10))"
   ]
  },
  {
   "cell_type": "code",
   "execution_count": 38,
   "id": "53d48ad2-6602-423f-926b-1bbc03cd3d3b",
   "metadata": {},
   "outputs": [
    {
     "data": {
      "image/png": "[encoded data removed]",
      "text/plain": [
       "<Figure size 1152x720 with 4 Axes>"
      ]
     },
     "metadata": {},
     "output_type": "display_data"
    }
   ],
   "source": [
    "# Plot the ratios of the speakers speaking of the environment per (occupation, age_group) for different minimum thresholds\n",
    "fig, axs = plt.subplots(nrows=2, ncols=2, figsize =(16, 10))\n",
    "axs = axs.flatten()\n",
    "thresholds = [500, 1000, 5000, 10000]\n",
    "\n",
    "for threshold, ax in zip(thresholds, axs):\n",
    "    ratios = extract_and_sort_by_ratio(\n",
    "        top_environment_contemporary_speakers_by_occupation_and_age,\n",
    "        top_contemporary_speakers_by_occupation_and_age[\n",
    "            top_contemporary_speakers_by_occupation_and_age['count'] >= threshold\n",
    "        ]).head(n=10)\n",
    "    \n",
    "    ax.pie(ratios['ratio'] * 10,\n",
    "       labels=ratios.index, autopct='%1.1f%%',\n",
    "       shadow=True, startangle=90)\n",
    "    ax.set_title('Threshold = {}'.format(threshold))\n",
    "\n",
    "fig.suptitle('Top ratios of the speakers speaking of the environment per (occupation, age_group)')\n",
    "fig.tight_layout()"
   ]
  },
  {
   "cell_type": "markdown",
   "id": "7ec25476-f387-41e7-b22d-d6d9787b765d",
   "metadata": {},
   "source": [
    "**Findings**: We have narrowed down the speakers by focusing only on contemporing speakers. Even so, we can see **it can become hard to extract a common profile of speakers who speak about the environment when we start combining features**. It depends heavily as well on the **threshold we set for the minumum number of speakers with a certain profile**.\n",
    "\n",
    "For example a threshold of 500 means we don't take into account speakers who have a certain profile that have occurred less than 500 times. That's why we see profiles disappearing the more we up the threshold."
   ]
  },
  {
   "cell_type": "markdown",
   "id": "4de5685f-f7fd-4b0d-8613-2f9303bc21b5",
   "metadata": {},
   "source": [
    "#### All attributes"
   ]
  },
  {
   "cell_type": "markdown",
   "id": "1cdf4e6b-57eb-4a25-93d5-764816d91951",
   "metadata": {},
   "source": [
    "Now we redo the analysis using simultaneously all the attributes explored so far, so that we have an idea about the most common speaker profile given all these features combined, namely **occupation, age, gender and nationality**. We don't into account the academic degree, since we've seen it doesn't change the likeability of a speaker speaking about the environment.\n",
    "\n",
    "Note that this presents the problem we've mentioned during the caveat during preprocessing. Since we're exploding all the features in question, the distributions of one feature is going to become heavily affected by the distributions of other features. But it's a point for comparison."
   ]
  },
  {
   "cell_type": "code",
   "execution_count": 40,
   "id": "9d96640c-5e4b-472d-838f-68a2ced0c06c",
   "metadata": {},
   "outputs": [
    {
     "data": {
      "text/plain": [
       "'Number of contemporary speakers that have talked about the environment at least once, per profile'"
      ]
     },
     "metadata": {},
     "output_type": "display_data"
    },
    {
     "data": {
      "text/html": [
       "<div>\n",
       "<style scoped>\n",
       "    .dataframe tbody tr th:only-of-type {\n",
       "        vertical-align: middle;\n",
       "    }\n",
       "\n",
       "    .dataframe tbody tr th {\n",
       "        vertical-align: top;\n",
       "    }\n",
       "\n",
       "    .dataframe thead th {\n",
       "        text-align: right;\n",
       "    }\n",
       "</style>\n",
       "<table border=\"1\" class=\"dataframe\">\n",
       "  <thead>\n",
       "    <tr style=\"text-align: right;\">\n",
       "      <th></th>\n",
       "      <th></th>\n",
       "      <th></th>\n",
       "      <th></th>\n",
       "      <th>count</th>\n",
       "    </tr>\n",
       "    <tr>\n",
       "      <th>occupation</th>\n",
       "      <th>age_group</th>\n",
       "      <th>gender</th>\n",
       "      <th>nationality</th>\n",
       "      <th></th>\n",
       "    </tr>\n",
       "  </thead>\n",
       "  <tbody>\n",
       "    <tr>\n",
       "      <th rowspan=\"2\" valign=\"top\">politician</th>\n",
       "      <th>60s</th>\n",
       "      <th>male</th>\n",
       "      <th>United States of America</th>\n",
       "      <td>843</td>\n",
       "    </tr>\n",
       "    <tr>\n",
       "      <th>70s</th>\n",
       "      <th>male</th>\n",
       "      <th>United States of America</th>\n",
       "      <td>647</td>\n",
       "    </tr>\n",
       "    <tr>\n",
       "      <th>American football player</th>\n",
       "      <th>30s</th>\n",
       "      <th>male</th>\n",
       "      <th>United States of America</th>\n",
       "      <td>639</td>\n",
       "    </tr>\n",
       "    <tr>\n",
       "      <th>association football player</th>\n",
       "      <th>30s</th>\n",
       "      <th>male</th>\n",
       "      <th>United Kingdom</th>\n",
       "      <td>624</td>\n",
       "    </tr>\n",
       "    <tr>\n",
       "      <th>politician</th>\n",
       "      <th>50s</th>\n",
       "      <th>male</th>\n",
       "      <th>United States of America</th>\n",
       "      <td>607</td>\n",
       "    </tr>\n",
       "    <tr>\n",
       "      <th rowspan=\"2\" valign=\"top\">association football player</th>\n",
       "      <th>50s</th>\n",
       "      <th>male</th>\n",
       "      <th>United Kingdom</th>\n",
       "      <td>520</td>\n",
       "    </tr>\n",
       "    <tr>\n",
       "      <th>40s</th>\n",
       "      <th>male</th>\n",
       "      <th>United Kingdom</th>\n",
       "      <td>504</td>\n",
       "    </tr>\n",
       "    <tr>\n",
       "      <th rowspan=\"2\" valign=\"top\">American football player</th>\n",
       "      <th>40s</th>\n",
       "      <th>male</th>\n",
       "      <th>United States of America</th>\n",
       "      <td>481</td>\n",
       "    </tr>\n",
       "    <tr>\n",
       "      <th>50s</th>\n",
       "      <th>male</th>\n",
       "      <th>United States of America</th>\n",
       "      <td>454</td>\n",
       "    </tr>\n",
       "    <tr>\n",
       "      <th>association football player</th>\n",
       "      <th>60s</th>\n",
       "      <th>male</th>\n",
       "      <th>United Kingdom</th>\n",
       "      <td>421</td>\n",
       "    </tr>\n",
       "  </tbody>\n",
       "</table>\n",
       "</div>"
      ],
      "text/plain": [
       "                                                                       count\n",
       "occupation                  age_group gender nationality                    \n",
       "politician                  60s       male   United States of America    843\n",
       "                            70s       male   United States of America    647\n",
       "American football player    30s       male   United States of America    639\n",
       "association football player 30s       male   United Kingdom              624\n",
       "politician                  50s       male   United States of America    607\n",
       "association football player 50s       male   United Kingdom              520\n",
       "                            40s       male   United Kingdom              504\n",
       "American football player    40s       male   United States of America    481\n",
       "                            50s       male   United States of America    454\n",
       "association football player 60s       male   United Kingdom              421"
      ]
     },
     "metadata": {},
     "output_type": "display_data"
    }
   ],
   "source": [
    "features = ['occupation', 'age_group', 'gender', 'nationality']\n",
    "\n",
    "# Redo the analysis on the speakers occupations\n",
    "top_contemporary_speakers_by_features = group_and_sort_by_features(all_contemporary_speakers, features)\n",
    "top_environment_contemporary_speakers_by_features = group_and_sort_by_features(\n",
    "    environment_contemporary_speakers, features)\n",
    "display('Number of contemporary speakers that have talked about the environment at least once, per profile',\n",
    "        top_environment_contemporary_speakers_by_features.head(n=10))"
   ]
  },
  {
   "cell_type": "code",
   "execution_count": 41,
   "id": "d1b4fda1-f64b-46eb-9095-d52ab88fae53",
   "metadata": {},
   "outputs": [],
   "source": [
    "# Set a general threshold \n",
    "THRESHOLD = 500\n",
    "ratios_contemporary_speakers = extract_and_sort_by_ratio(\n",
    "    top_environment_contemporary_speakers_by_features,\n",
    "    top_contemporary_speakers_by_features[top_contemporary_speakers_by_features['count'] > THRESHOLD])"
   ]
  },
  {
   "cell_type": "code",
   "execution_count": 42,
   "id": "b025fcb3-4088-4ef3-ab2a-1c5657319d24",
   "metadata": {
    "tags": []
   },
   "outputs": [
    {
     "data": {
      "text/plain": [
       "'Ratio of speakers that have talked about the environment at least once, per profile'"
      ]
     },
     "metadata": {},
     "output_type": "display_data"
    },
    {
     "data": {
      "text/html": [
       "<div>\n",
       "<style scoped>\n",
       "    .dataframe tbody tr th:only-of-type {\n",
       "        vertical-align: middle;\n",
       "    }\n",
       "\n",
       "    .dataframe tbody tr th {\n",
       "        vertical-align: top;\n",
       "    }\n",
       "\n",
       "    .dataframe thead th {\n",
       "        text-align: right;\n",
       "    }\n",
       "</style>\n",
       "<table border=\"1\" class=\"dataframe\">\n",
       "  <thead>\n",
       "    <tr style=\"text-align: right;\">\n",
       "      <th></th>\n",
       "      <th></th>\n",
       "      <th></th>\n",
       "      <th></th>\n",
       "      <th>count_environment</th>\n",
       "      <th>count_all</th>\n",
       "      <th>ratio</th>\n",
       "    </tr>\n",
       "    <tr>\n",
       "      <th>occupation</th>\n",
       "      <th>age_group</th>\n",
       "      <th>gender</th>\n",
       "      <th>nationality</th>\n",
       "      <th></th>\n",
       "      <th></th>\n",
       "      <th></th>\n",
       "    </tr>\n",
       "  </thead>\n",
       "  <tbody>\n",
       "    <tr>\n",
       "      <th rowspan=\"6\" valign=\"top\">politician</th>\n",
       "      <th rowspan=\"2\" valign=\"top\">60s</th>\n",
       "      <th rowspan=\"2\" valign=\"top\">male</th>\n",
       "      <th>United Kingdom</th>\n",
       "      <td>221</td>\n",
       "      <td>697</td>\n",
       "      <td>0.317073</td>\n",
       "    </tr>\n",
       "    <tr>\n",
       "      <th>Australia</th>\n",
       "      <td>160</td>\n",
       "      <td>519</td>\n",
       "      <td>0.308285</td>\n",
       "    </tr>\n",
       "    <tr>\n",
       "      <th>50s</th>\n",
       "      <th>male</th>\n",
       "      <th>United States of America</th>\n",
       "      <td>607</td>\n",
       "      <td>2250</td>\n",
       "      <td>0.269778</td>\n",
       "    </tr>\n",
       "    <tr>\n",
       "      <th>40s</th>\n",
       "      <th>male</th>\n",
       "      <th>United States of America</th>\n",
       "      <td>317</td>\n",
       "      <td>1177</td>\n",
       "      <td>0.269329</td>\n",
       "    </tr>\n",
       "    <tr>\n",
       "      <th>50s</th>\n",
       "      <th>female</th>\n",
       "      <th>United States of America</th>\n",
       "      <td>171</td>\n",
       "      <td>666</td>\n",
       "      <td>0.256757</td>\n",
       "    </tr>\n",
       "    <tr>\n",
       "      <th>60s</th>\n",
       "      <th>male</th>\n",
       "      <th>United States of America</th>\n",
       "      <td>843</td>\n",
       "      <td>3419</td>\n",
       "      <td>0.246563</td>\n",
       "    </tr>\n",
       "    <tr>\n",
       "      <th>journalist</th>\n",
       "      <th>50s</th>\n",
       "      <th>male</th>\n",
       "      <th>United States of America</th>\n",
       "      <td>211</td>\n",
       "      <td>890</td>\n",
       "      <td>0.237079</td>\n",
       "    </tr>\n",
       "    <tr>\n",
       "      <th>politician</th>\n",
       "      <th>70s</th>\n",
       "      <th>male</th>\n",
       "      <th>Australia</th>\n",
       "      <td>151</td>\n",
       "      <td>639</td>\n",
       "      <td>0.236307</td>\n",
       "    </tr>\n",
       "    <tr>\n",
       "      <th>cricketer</th>\n",
       "      <th>40s</th>\n",
       "      <th>male</th>\n",
       "      <th>United Kingdom</th>\n",
       "      <td>209</td>\n",
       "      <td>922</td>\n",
       "      <td>0.226681</td>\n",
       "    </tr>\n",
       "    <tr>\n",
       "      <th>writer</th>\n",
       "      <th>50s</th>\n",
       "      <th>male</th>\n",
       "      <th>United Kingdom</th>\n",
       "      <td>122</td>\n",
       "      <td>541</td>\n",
       "      <td>0.225508</td>\n",
       "    </tr>\n",
       "  </tbody>\n",
       "</table>\n",
       "</div>"
      ],
      "text/plain": [
       "                                                      count_environment  \\\n",
       "occupation age_group gender nationality                                   \n",
       "politician 60s       male   United Kingdom                          221   \n",
       "                            Australia                               160   \n",
       "           50s       male   United States of America                607   \n",
       "           40s       male   United States of America                317   \n",
       "           50s       female United States of America                171   \n",
       "           60s       male   United States of America                843   \n",
       "journalist 50s       male   United States of America                211   \n",
       "politician 70s       male   Australia                               151   \n",
       "cricketer  40s       male   United Kingdom                          209   \n",
       "writer     50s       male   United Kingdom                          122   \n",
       "\n",
       "                                                      count_all     ratio  \n",
       "occupation age_group gender nationality                                    \n",
       "politician 60s       male   United Kingdom                  697  0.317073  \n",
       "                            Australia                       519  0.308285  \n",
       "           50s       male   United States of America       2250  0.269778  \n",
       "           40s       male   United States of America       1177  0.269329  \n",
       "           50s       female United States of America        666  0.256757  \n",
       "           60s       male   United States of America       3419  0.246563  \n",
       "journalist 50s       male   United States of America        890  0.237079  \n",
       "politician 70s       male   Australia                       639  0.236307  \n",
       "cricketer  40s       male   United Kingdom                  922  0.226681  \n",
       "writer     50s       male   United Kingdom                  541  0.225508  "
      ]
     },
     "metadata": {},
     "output_type": "display_data"
    }
   ],
   "source": [
    "display('Ratio of speakers that have talked about the environment at least once, per profile',\n",
    "        ratios_contemporary_speakers.head(n=10))"
   ]
  },
  {
   "cell_type": "markdown",
   "id": "5c6dd9ec-9463-4a85-92ed-bb7e765935bf",
   "metadata": {},
   "source": [
    "**Findings**: The problem we've highlighted in the previous point is even more pronounced here. By combining all the features together, it becomes very hard to extract a common speaker profile. And the results are very different for different thresholds of minumum amount of speakers of a certain profile."
   ]
  },
  {
   "cell_type": "markdown",
   "id": "c9cb42a2-764d-4264-b553-3c39b243b446",
   "metadata": {},
   "source": [
    "### 3.3 - Thoughts on most common speaker profile speaking about the environment"
   ]
  },
  {
   "cell_type": "markdown",
   "id": "396c3e2b-7458-4ef9-97c3-e10daa118404",
   "metadata": {},
   "source": [
    "It's quite easy to conclude on the likeability of a speaker speaking about the environment when **focusing on just one feature**. For example if we combine the results from each feature separately to construct a profile, we found **you're very likely to speak about the environment** if:\n",
    "- **Occupation**: You're working in **Sports & Entertainment**\n",
    "- **Gender**: You're **non-binary or transgender** (that is you don't identify as 'male' or 'female').\n",
    "- **Academic degree**: It doesn't matter whether you have an academic degree.\n",
    "- **Nationality**: You're from the **western hemisphere** politically speaking (USA, western Europe, Australia)\n",
    "- **Age group**: You're **older than 40 years old**."
   ]
  },
  {
   "cell_type": "markdown",
   "id": "fd3c6267-69f7-49d8-a28e-09e31e72e3ec",
   "metadata": {},
   "source": [
    "However when you start taking into account **multiple features and the interaction between them** to construct a complete profile, things aren't that clear anymore. We're faced with many issues:\n",
    "- Since we're exploding all of the features in question, the distribution of one feature can easily pollute the distribution of another (e.g. a speaker with multiple occupations and just one gender).\n",
    "- Since we're deriving the likeability that a speaker of certain profile actually speaks about the environment from the ratio of speakers of that profile speaking about the environment (i.e. = Number of speakers of profile A that spoke about the environment / total number of speakers of profile A), we have to choose a threshold of minimum number of speakers per profile. We cannot have a low threshold otherwise the ratio will be naturally very high and will pollute our results (e.g a speaker with a unique profile and speaks of the environment will have a ratio of 1!) How do we decide on the threshold of minimum number of speakers per profile?"
   ]
  },
  {
   "cell_type": "code",
   "execution_count": null,
   "id": "d53741c4-ed3b-44b1-a5bf-b3ada3e1e32c",
   "metadata": {},
   "outputs": [],
   "source": []
  }
 ],
 "metadata": {
  "kernelspec": {
   "display_name": "Python 3 (ipykernel)",
   "language": "python",
   "name": "python3"
  },
  "language_info": {
   "codemirror_mode": {
    "name": "ipython",
    "version": 3
   },
   "file_extension": ".py",
   "mimetype": "text/x-python",
   "name": "python",
   "nbconvert_exporter": "python",
   "pygments_lexer": "ipython3",
   "version": "3.7.10"
  }
 },
 "nbformat": 4,
 "nbformat_minor": 5
}
